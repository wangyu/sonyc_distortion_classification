{
 "cells": [
  {
   "cell_type": "code",
   "execution_count": 120,
   "metadata": {},
   "outputs": [],
   "source": [
    "import pickle\n",
    "import sklearn\n",
    "import modAL\n",
    "from modAL.models import ActiveLearner\n",
    "from sklearn.ensemble import RandomForestClassifier\n",
    "import numpy as np\n",
    "from modAL.uncertainty import uncertainty_sampling\n",
    "import sys\n",
    "import os\n",
    "\n",
    "import audio_decryption\n",
    "import IPython.display"
   ]
  },
  {
   "cell_type": "markdown",
   "metadata": {
    "collapsed": true
   },
   "source": [
    "# 1. Read negative file into test and train #"
   ]
  },
  {
   "cell_type": "code",
   "execution_count": 5,
   "metadata": {},
   "outputs": [],
   "source": [
    "neg_file= open(\"/scratch/yw3004/sonyc/sonyc_distortion_classification/data/negative_xy_new.pickle\", \"rb\")\n",
    "negative_xy = pickle.load(neg_file)"
   ]
  },
  {
   "cell_type": "code",
   "execution_count": 8,
   "metadata": {},
   "outputs": [
    {
     "data": {
      "text/plain": [
       "array([['146', '14', '129', ..., '255', '0', 'b827eb4e7821'],\n",
       "       ['154', '30', '171', ..., '255', '0', 'b827eb4e7821'],\n",
       "       ['153', '25', '150', ..., '255', '0', 'b827eb4e7821'],\n",
       "       ...,\n",
       "       ['153', '25', '146', ..., '255', '0', 'b827eb9bed23'],\n",
       "       ['153', '25', '152', ..., '255', '0', 'b827eb9bed23'],\n",
       "       ['155', '23', '168', ..., '255', '0', 'b827eb429cd4']],\n",
       "      dtype='<U21')"
      ]
     },
     "execution_count": 8,
     "metadata": {},
     "output_type": "execute_result"
    }
   ],
   "source": [
    "negative_xy"
   ]
  },
  {
   "cell_type": "code",
   "execution_count": 9,
   "metadata": {},
   "outputs": [],
   "source": [
    "sens= []\n",
    "for i in range(negative_xy.shape[0]):\n",
    "    sens.append(negative_xy[i,-1])"
   ]
  },
  {
   "cell_type": "code",
   "execution_count": 10,
   "metadata": {},
   "outputs": [],
   "source": [
    "unique_sensors = np.unique(sens)"
   ]
  },
  {
   "cell_type": "code",
   "execution_count": 11,
   "metadata": {},
   "outputs": [
    {
     "data": {
      "text/plain": [
       "array(['b827eb0d8af7', 'b827eb0fedda', 'b827eb122f0f', 'b827eb1685c7',\n",
       "       'b827eb2a1bce', 'b827eb429cd4', 'b827eb42bd4a', 'b827eb44506f',\n",
       "       'b827eb4e7821', 'b827eb5895e9', 'b827eb815321', 'b827eb86d458',\n",
       "       'b827eb8e2420', 'b827eb9bed23', 'b827ebad073b'], dtype='<U12')"
      ]
     },
     "execution_count": 11,
     "metadata": {},
     "output_type": "execute_result"
    }
   ],
   "source": [
    "unique_sensors"
   ]
  },
  {
   "cell_type": "code",
   "execution_count": 12,
   "metadata": {},
   "outputs": [],
   "source": [
    "negative_test = np.zeros((7*20,negative_xy.shape[1]-1))\n",
    "negative_train = np.zeros((8*20,negative_xy.shape[1]-1))\n",
    "j=0\n",
    "k=0\n",
    "for i in range(negative_xy.shape[0]):\n",
    "    \n",
    "    if negative_xy[i,-1]=='b827eb0d8af7' or negative_xy[i,-1]=='b827eb0fedda' or negative_xy[i,-1]=='b827eb122f0f' or negative_xy[i,-1]=='b827eb1685c7' or negative_xy[i,-1]=='b827eb2a1bce'or negative_xy[i,-1]=='b827eb429cd4' or negative_xy[i,-1]=='b827eb42bd4a':\n",
    "        negative_test[j,:]= negative_xy[i,:-1]\n",
    "        j=j+1\n",
    "    else:\n",
    "        negative_train[k,:]= negative_xy[i,:-1]\n",
    "        k=k+1 "
   ]
  },
  {
   "cell_type": "code",
   "execution_count": 13,
   "metadata": {},
   "outputs": [],
   "source": [
    "negative_train = negative_train.astype(int)"
   ]
  },
  {
   "cell_type": "code",
   "execution_count": 14,
   "metadata": {},
   "outputs": [
    {
     "data": {
      "text/plain": [
       "array([[146,  14, 129, ...,  62, 255,   0],\n",
       "       [154,  30, 171, ..., 158, 255,   0],\n",
       "       [153,  25, 150, ..., 150, 255,   0],\n",
       "       ...,\n",
       "       [158,  29, 166, ...,  87, 255,   0],\n",
       "       [153,  25, 146, ...,   0, 255,   0],\n",
       "       [153,  25, 152, ...,   0, 255,   0]])"
      ]
     },
     "execution_count": 14,
     "metadata": {},
     "output_type": "execute_result"
    }
   ],
   "source": [
    "negative_train"
   ]
  },
  {
   "cell_type": "code",
   "execution_count": 15,
   "metadata": {},
   "outputs": [],
   "source": [
    "negative_test = negative_test.astype(int)"
   ]
  },
  {
   "cell_type": "code",
   "execution_count": 16,
   "metadata": {},
   "outputs": [
    {
     "data": {
      "text/plain": [
       "array([[152,  24, 142, ...,  30, 255,   0],\n",
       "       [162,  34, 157, ..., 255, 255,   0],\n",
       "       [154,  28, 152, ..., 129, 255,   0],\n",
       "       ...,\n",
       "       [156,  25, 180, ...,   7, 255,   0],\n",
       "       [153,  28, 170, ..., 124, 255,   0],\n",
       "       [155,  23, 168, ...,  90, 255,   0]])"
      ]
     },
     "execution_count": 16,
     "metadata": {},
     "output_type": "execute_result"
    }
   ],
   "source": [
    "negative_test"
   ]
  },
  {
   "cell_type": "markdown",
   "metadata": {
    "collapsed": true
   },
   "source": [
    "# 2. Read positive file into test and train #"
   ]
  },
  {
   "cell_type": "code",
   "execution_count": 17,
   "metadata": {
    "scrolled": true
   },
   "outputs": [],
   "source": [
    "positive_xy = pickle.load(open( \"/scratch/yw3004/sonyc/sonyc_distortion_classification/data/positive_xy_new.pickle\", \"rb\" ))"
   ]
  },
  {
   "cell_type": "code",
   "execution_count": 18,
   "metadata": {},
   "outputs": [
    {
     "data": {
      "text/plain": [
       "array([['153', '17', '128', ..., '255', '1', 'b827eb429cd4'],\n",
       "       ['150', '19', '127', ..., '255', '1', 'b827eb429cd4'],\n",
       "       ['155', '18', '126', ..., '255', '1', 'b827eb429cd4'],\n",
       "       ...,\n",
       "       ['160', '20', '161', ..., '255', '1', 'b827eb42bd4a'],\n",
       "       ['154', '20', '139', ..., '255', '1', 'b827eb42bd4a'],\n",
       "       ['154', '21', '130', ..., '255', '1', 'b827eb42bd4a']],\n",
       "      dtype='<U21')"
      ]
     },
     "execution_count": 18,
     "metadata": {},
     "output_type": "execute_result"
    }
   ],
   "source": [
    "positive_xy"
   ]
  },
  {
   "cell_type": "code",
   "execution_count": 19,
   "metadata": {},
   "outputs": [],
   "source": [
    "positive_test = np.zeros((7*20,positive_xy.shape[1]-1))\n",
    "positive_train = np.zeros((8*20,positive_xy.shape[1]-1))\n",
    "j=0\n",
    "k=0\n",
    "for i in range(positive_xy.shape[0]):\n",
    "    \n",
    "    if positive_xy[i,-1]=='b827eb0d8af7' or positive_xy[i,-1]=='b827eb0fedda' or positive_xy[i,-1]=='b827eb122f0f' or positive_xy[i,-1]=='b827eb1685c7' or positive_xy[i,-1]=='b827eb2a1bce'or positive_xy[i,-1]=='b827eb429cd4' or positive_xy[i,-1]=='b827eb42bd4a':\n",
    "        positive_test[j,:]= positive_xy[i,:-1]\n",
    "        j=j+1\n",
    "    else:\n",
    "        positive_train[k,:]= positive_xy[i,:-1]\n",
    "        k=k+1 "
   ]
  },
  {
   "cell_type": "code",
   "execution_count": 20,
   "metadata": {},
   "outputs": [],
   "source": [
    "positive_train = positive_train.astype(int)"
   ]
  },
  {
   "cell_type": "code",
   "execution_count": 21,
   "metadata": {},
   "outputs": [
    {
     "data": {
      "text/plain": [
       "array([[152,   7, 152, ..., 200, 255,   1],\n",
       "       [151,  12, 155, ...,  87, 255,   1],\n",
       "       [155,  17, 160, ...,   0, 255,   1],\n",
       "       ...,\n",
       "       [153,  22, 143, ..., 202, 255,   1],\n",
       "       [157,  14, 162, ..., 163, 255,   1],\n",
       "       [152,  21, 140, ..., 243, 255,   1]])"
      ]
     },
     "execution_count": 21,
     "metadata": {},
     "output_type": "execute_result"
    }
   ],
   "source": [
    "positive_train"
   ]
  },
  {
   "cell_type": "code",
   "execution_count": 22,
   "metadata": {},
   "outputs": [],
   "source": [
    "positive_test = positive_test.astype(int)"
   ]
  },
  {
   "cell_type": "code",
   "execution_count": 23,
   "metadata": {},
   "outputs": [
    {
     "data": {
      "text/plain": [
       "array([[153,  17, 128, ..., 136, 255,   1],\n",
       "       [150,  19, 127, ...,  76, 255,   1],\n",
       "       [155,  18, 126, ..., 156, 255,   1],\n",
       "       ...,\n",
       "       [160,  20, 161, ..., 167, 255,   1],\n",
       "       [154,  20, 139, ..., 255, 255,   1],\n",
       "       [154,  21, 130, ..., 137, 255,   1]])"
      ]
     },
     "execution_count": 23,
     "metadata": {},
     "output_type": "execute_result"
    }
   ],
   "source": [
    "positive_test"
   ]
  },
  {
   "cell_type": "markdown",
   "metadata": {},
   "source": [
    "# 3. Concatenate negatives and positives in both test and train #"
   ]
  },
  {
   "cell_type": "markdown",
   "metadata": {},
   "source": [
    "## 3.1. Concatenate train examples together ##"
   ]
  },
  {
   "cell_type": "code",
   "execution_count": 24,
   "metadata": {},
   "outputs": [],
   "source": [
    "train = np.concatenate((positive_train, negative_train))"
   ]
  },
  {
   "cell_type": "code",
   "execution_count": 25,
   "metadata": {},
   "outputs": [
    {
     "data": {
      "text/plain": [
       "array([[152,   7, 152, ..., 200, 255,   1],\n",
       "       [151,  12, 155, ...,  87, 255,   1],\n",
       "       [155,  17, 160, ...,   0, 255,   1],\n",
       "       ...,\n",
       "       [158,  29, 166, ...,  87, 255,   0],\n",
       "       [153,  25, 146, ...,   0, 255,   0],\n",
       "       [153,  25, 152, ...,   0, 255,   0]])"
      ]
     },
     "execution_count": 25,
     "metadata": {},
     "output_type": "execute_result"
    }
   ],
   "source": [
    "train"
   ]
  },
  {
   "cell_type": "markdown",
   "metadata": {},
   "source": [
    "## 3.2. Concatenate test examples together ##"
   ]
  },
  {
   "cell_type": "code",
   "execution_count": 26,
   "metadata": {},
   "outputs": [],
   "source": [
    "test = np.concatenate((positive_test, negative_test))"
   ]
  },
  {
   "cell_type": "code",
   "execution_count": 27,
   "metadata": {},
   "outputs": [
    {
     "data": {
      "text/plain": [
       "array([[153,  17, 128, ..., 136, 255,   1],\n",
       "       [150,  19, 127, ...,  76, 255,   1],\n",
       "       [155,  18, 126, ..., 156, 255,   1],\n",
       "       ...,\n",
       "       [156,  25, 180, ...,   7, 255,   0],\n",
       "       [153,  28, 170, ..., 124, 255,   0],\n",
       "       [155,  23, 168, ...,  90, 255,   0]])"
      ]
     },
     "execution_count": 27,
     "metadata": {},
     "output_type": "execute_result"
    }
   ],
   "source": [
    "test"
   ]
  },
  {
   "cell_type": "markdown",
   "metadata": {},
   "source": [
    "## 3.3. Shuffle data ##"
   ]
  },
  {
   "cell_type": "code",
   "execution_count": 28,
   "metadata": {},
   "outputs": [],
   "source": [
    "np.random.shuffle(train)"
   ]
  },
  {
   "cell_type": "code",
   "execution_count": 29,
   "metadata": {},
   "outputs": [],
   "source": [
    "np.random.shuffle(test)"
   ]
  },
  {
   "cell_type": "markdown",
   "metadata": {},
   "source": [
    "## 3.4. Separate x and y ##"
   ]
  },
  {
   "cell_type": "markdown",
   "metadata": {},
   "source": [
    "### 3.4.1. Separate training data ###"
   ]
  },
  {
   "cell_type": "code",
   "execution_count": 30,
   "metadata": {},
   "outputs": [],
   "source": [
    "x_train = train[:,:-1]"
   ]
  },
  {
   "cell_type": "code",
   "execution_count": 31,
   "metadata": {},
   "outputs": [
    {
     "data": {
      "text/plain": [
       "(320, 128)"
      ]
     },
     "execution_count": 31,
     "metadata": {},
     "output_type": "execute_result"
    }
   ],
   "source": [
    "x_train.shape"
   ]
  },
  {
   "cell_type": "code",
   "execution_count": 32,
   "metadata": {},
   "outputs": [],
   "source": [
    "y_train = train[:,-1]"
   ]
  },
  {
   "cell_type": "code",
   "execution_count": 33,
   "metadata": {},
   "outputs": [
    {
     "data": {
      "text/plain": [
       "(320,)"
      ]
     },
     "execution_count": 33,
     "metadata": {},
     "output_type": "execute_result"
    }
   ],
   "source": [
    "y_train.shape"
   ]
  },
  {
   "cell_type": "markdown",
   "metadata": {},
   "source": [
    "### 3.4.2. Separate test data ###"
   ]
  },
  {
   "cell_type": "code",
   "execution_count": 34,
   "metadata": {},
   "outputs": [],
   "source": [
    "x_test = test[:,:-1]"
   ]
  },
  {
   "cell_type": "code",
   "execution_count": 35,
   "metadata": {},
   "outputs": [
    {
     "data": {
      "text/plain": [
       "(280, 128)"
      ]
     },
     "execution_count": 35,
     "metadata": {},
     "output_type": "execute_result"
    }
   ],
   "source": [
    "x_test.shape"
   ]
  },
  {
   "cell_type": "code",
   "execution_count": 36,
   "metadata": {},
   "outputs": [],
   "source": [
    "y_test = test[:,-1]"
   ]
  },
  {
   "cell_type": "code",
   "execution_count": 37,
   "metadata": {},
   "outputs": [
    {
     "data": {
      "text/plain": [
       "(280,)"
      ]
     },
     "execution_count": 37,
     "metadata": {},
     "output_type": "execute_result"
    }
   ],
   "source": [
    "y_test.shape"
   ]
  },
  {
   "cell_type": "markdown",
   "metadata": {},
   "source": [
    "# 4. Read X_pool file #"
   ]
  },
  {
   "cell_type": "code",
   "execution_count": 124,
   "metadata": {},
   "outputs": [],
   "source": [
    "pool_file= open(\"/scratch/yw3004/sonyc/sonyc_distortion_classification/data/X_pool_100000.pickle\", \"rb\")\n",
    "pool = pickle.load(pool_file)"
   ]
  },
  {
   "cell_type": "code",
   "execution_count": 125,
   "metadata": {},
   "outputs": [
    {
     "data": {
      "text/plain": [
       "(100000, 132)"
      ]
     },
     "execution_count": 125,
     "metadata": {},
     "output_type": "execute_result"
    }
   ],
   "source": [
    "pool.shape"
   ]
  },
  {
   "cell_type": "code",
   "execution_count": 126,
   "metadata": {},
   "outputs": [],
   "source": [
    "X_pool = pool[:, :128]\n",
    "X_pool = X_pool.astype(int)"
   ]
  },
  {
   "cell_type": "code",
   "execution_count": 129,
   "metadata": {},
   "outputs": [],
   "source": [
    "info_pool = pool[:, 128:]"
   ]
  },
  {
   "cell_type": "markdown",
   "metadata": {
    "collapsed": true
   },
   "source": [
    "# 5. Create classifier #"
   ]
  },
  {
   "cell_type": "code",
   "execution_count": 131,
   "metadata": {},
   "outputs": [],
   "source": [
    "clf = RandomForestClassifier(n_estimators = 100)"
   ]
  },
  {
   "cell_type": "code",
   "execution_count": 132,
   "metadata": {},
   "outputs": [
    {
     "data": {
      "text/plain": [
       "RandomForestClassifier(bootstrap=True, class_weight=None, criterion='gini',\n",
       "            max_depth=None, max_features='auto', max_leaf_nodes=None,\n",
       "            min_impurity_decrease=0.0, min_impurity_split=None,\n",
       "            min_samples_leaf=1, min_samples_split=2,\n",
       "            min_weight_fraction_leaf=0.0, n_estimators=100, n_jobs=1,\n",
       "            oob_score=False, random_state=None, verbose=0,\n",
       "            warm_start=False)"
      ]
     },
     "execution_count": 132,
     "metadata": {},
     "output_type": "execute_result"
    }
   ],
   "source": [
    "clf.fit(x_train,y_train)"
   ]
  },
  {
   "cell_type": "code",
   "execution_count": 133,
   "metadata": {},
   "outputs": [],
   "source": [
    "pred = clf.predict(x_test)"
   ]
  },
  {
   "cell_type": "code",
   "execution_count": 134,
   "metadata": {},
   "outputs": [
    {
     "data": {
      "text/plain": [
       "0.9571428571428572"
      ]
     },
     "execution_count": 134,
     "metadata": {},
     "output_type": "execute_result"
    }
   ],
   "source": [
    "sklearn.metrics.accuracy_score(y_test,pred)"
   ]
  },
  {
   "cell_type": "markdown",
   "metadata": {},
   "source": [
    "# 6. Create Active Learner #"
   ]
  },
  {
   "cell_type": "code",
   "execution_count": 135,
   "metadata": {},
   "outputs": [],
   "source": [
    "learner = ActiveLearner(\n",
    "    estimator=clf,\n",
    "    query_strategy=uncertainty_sampling,\n",
    "    X_training=x_train, y_training=y_train\n",
    ")"
   ]
  },
  {
   "cell_type": "code",
   "execution_count": 128,
   "metadata": {},
   "outputs": [],
   "source": [
    "#set audio_path\n",
    "audio_path_1 = '/beegfs/work/sonyc/audio/'\n",
    "audio_path_2 = '/scratch/work/sonyc/data/audio/'\n",
    "\n",
    "#set **kwargs\n"
   ]
  },
  {
   "cell_type": "code",
   "execution_count": 137,
   "metadata": {},
   "outputs": [],
   "source": [
    "n_queries = 3\n",
    "n_instances = 2\n",
    "accuracy = np.zeros(n_queries)\n",
    "not_converged = True\n",
    "count = 0\n",
    "while not_converged:\n",
    "    y = []\n",
    "    query_idx, query_instance = learner.query(X_pool, n_instances=n_instances)\n",
    "    print (query_idx)\n",
    "    for i in range(n_instances):\n",
    "        sensor_id = info_pool[query_idx[i]][0]\n",
    "        timestamp = info_pool[query_idx[i]][1]\n",
    "        frame = int(info_pool[query_idx[i]][2])\n",
    "        filepath = info_pool[query_idx[i]][3]\n",
    "        \n",
    "        try:\n",
    "            decrypt_path = os.path.join(audio_path_1, filepath.split('/')[-2], filepath.split('/')[-1])\n",
    "            IPython.display.display(audio_decryption.decrypt_and_load_audio(decrypt_path, \n",
    "                                                                            sensor_id,\n",
    "                                                                            timestamp, \n",
    "                                                                            sample_rate=44100, \n",
    "                                                                            frame=frame, \n",
    "                                                                            **kwargs))\n",
    "\n",
    "        except FileNotFoundError:\n",
    "            decrypt_path = os.path.join(audio_path_2, filepath.split('/')[-2], filepath.split('/')[-1]+'.gz')\n",
    "            IPython.display.display(audio_decryption.decrypt_and_load_audio(decrypt_path, \n",
    "                                                                            sensor_id,\n",
    "                                                                            timestamp, \n",
    "                                                                            sample_rate=44100, \n",
    "                                                                            frame=frame, \n",
    "                                                                            **kwargs))\n",
    "                                    \n",
    "        \n",
    "        y_new = input(\"Please input label for\\nsensor_id = '%s'\\ntimestamp = %s\\nframe = %d (1 if noise is present, 0 if noise is not present)\" % (sensor_id,timestamp,frame))\n",
    "        y.append(int(y_new))\n",
    "        \n",
    "    print('ARRAY: ',y)\n",
    "    learner.teach(\n",
    "        X=X_pool[query_idx],\n",
    "        y=np.array(y).reshape(-1, ))\n",
    "    \n",
    "    X_pool = np.delete(X_pool, query_idx, axis=0)\n",
    "    info_pool = np.delete(info_pool, query_idx, axis=0)\n",
    "    \n",
    "    print('Accuracy after query no. %d: %f' % (count+1, learner.score(x_test, y_test)))\n",
    "    \n",
    "    accuracy[count]=learner.score(x_test, y_test)\n",
    "    \n",
    "    print(accuracy[count]-accuracy[count-1])\n",
    "    #(accuracy[count]>=accuracy[count-1] and accuracy[count]-accuracy[count-1]<0.0001) or \n",
    "    if count == n_queries-1:\n",
    "        not_converged = False\n",
    "    count = count +1\n",
    "print(accuracy)"
   ]
  },
  {
   "cell_type": "code",
   "execution_count": 90,
   "metadata": {
    "collapsed": true
   },
   "outputs": [],
   "source": [
    "import matplotlib.pyplot as plt"
   ]
  },
  {
   "cell_type": "code",
   "execution_count": 95,
   "metadata": {},
   "outputs": [
    {
     "data": {
      "image/png": "[encoded data removed]",
      "text/plain": [
       "<Figure size 432x288 with 1 Axes>"
      ]
     },
     "metadata": {},
     "output_type": "display_data"
    }
   ],
   "source": [
    "acc=[]\n",
    "for i in range(len(accuracy)):\n",
    "    if accuracy[i] > 0:\n",
    "        acc.append(accuracy[i])\n",
    "\n",
    "plt.plot(acc)\n",
    "plt.show()"
   ]
  },
  {
   "cell_type": "code",
   "execution_count": null,
   "metadata": {
    "collapsed": true
   },
   "outputs": [],
   "source": []
  }
 ],
 "metadata": {
  "kernelspec": {
   "display_name": "active_learning",
   "language": "python",
   "name": "active_learning"
  },
  "language_info": {
   "codemirror_mode": {
    "name": "ipython",
    "version": 3
   },
   "file_extension": ".py",
   "mimetype": "text/x-python",
   "name": "python",
   "nbconvert_exporter": "python",
   "pygments_lexer": "ipython3",
   "version": "3.6.5"
  }
 },
 "nbformat": 4,
 "nbformat_minor": 2
}
