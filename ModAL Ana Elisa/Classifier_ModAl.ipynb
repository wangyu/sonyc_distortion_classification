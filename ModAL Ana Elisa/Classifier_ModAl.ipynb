{
 "cells": [
  {
   "cell_type": "code",
   "execution_count": 1,
   "metadata": {},
   "outputs": [],
   "source": [
    "import pickle\n",
    "import sklearn\n",
    "import modAL\n",
    "from modAL.models import ActiveLearner\n",
    "from sklearn.ensemble import RandomForestClassifier\n",
    "import numpy as np\n",
    "from modAL.uncertainty import uncertainty_sampling\n",
    "import sys"
   ]
  },
  {
   "cell_type": "markdown",
   "metadata": {
    "collapsed": true
   },
   "source": [
    "# 1. Read negative file #"
   ]
  },
  {
   "cell_type": "code",
   "execution_count": 3,
   "metadata": {},
   "outputs": [],
   "source": [
    "neg_file= open(\"/home/amm1209/sonyc_distortion_classification/data/negative_xy.pickle\", \"rb\")\n",
    "negative_xy = pickle.load(neg_file)"
   ]
  },
  {
   "cell_type": "code",
   "execution_count": 4,
   "metadata": {},
   "outputs": [
    {
     "data": {
      "text/plain": [
       "array([[146,  14, 129, ...,  62, 255,   0],\n",
       "       [154,  30, 171, ..., 158, 255,   0],\n",
       "       [153,  25, 150, ..., 150, 255,   0],\n",
       "       ...,\n",
       "       [153,  25, 146, ...,   0, 255,   0],\n",
       "       [153,  25, 152, ...,   0, 255,   0],\n",
       "       [155,  23, 168, ...,  90, 255,   0]])"
      ]
     },
     "execution_count": 4,
     "metadata": {},
     "output_type": "execute_result"
    }
   ],
   "source": [
    "negative_xy"
   ]
  },
  {
   "cell_type": "code",
   "execution_count": 5,
   "metadata": {
    "collapsed": true
   },
   "outputs": [],
   "source": [
    "np.random.shuffle(negative_xy)"
   ]
  },
  {
   "cell_type": "code",
   "execution_count": 6,
   "metadata": {},
   "outputs": [
    {
     "data": {
      "text/plain": [
       "(300, 129)"
      ]
     },
     "execution_count": 6,
     "metadata": {},
     "output_type": "execute_result"
    }
   ],
   "source": [
    "negative_xy.shape"
   ]
  },
  {
   "cell_type": "markdown",
   "metadata": {
    "collapsed": true
   },
   "source": [
    "# 2. Read positive file #"
   ]
  },
  {
   "cell_type": "code",
   "execution_count": 7,
   "metadata": {
    "collapsed": true,
    "scrolled": true
   },
   "outputs": [],
   "source": [
    "positive_xy = pickle.load(open( \"/home/amm1209/sonyc_distortion_classification/data/positive_xy.pickle\", \"rb\" ))"
   ]
  },
  {
   "cell_type": "code",
   "execution_count": 8,
   "metadata": {},
   "outputs": [
    {
     "data": {
      "text/plain": [
       "array([[153,  17, 128, ..., 136, 255,   1],\n",
       "       [150,  19, 127, ...,  76, 255,   1],\n",
       "       [155,  18, 126, ..., 156, 255,   1],\n",
       "       ...,\n",
       "       [160,  20, 161, ..., 167, 255,   1],\n",
       "       [154,  20, 139, ..., 255, 255,   1],\n",
       "       [154,  21, 130, ..., 137, 255,   1]])"
      ]
     },
     "execution_count": 8,
     "metadata": {},
     "output_type": "execute_result"
    }
   ],
   "source": [
    "positive_xy"
   ]
  },
  {
   "cell_type": "code",
   "execution_count": 9,
   "metadata": {
    "collapsed": true
   },
   "outputs": [],
   "source": [
    "np.random.shuffle(positive_xy)"
   ]
  },
  {
   "cell_type": "code",
   "execution_count": 10,
   "metadata": {},
   "outputs": [
    {
     "data": {
      "text/plain": [
       "array([[157,  19, 152, ...,  69, 255,   1],\n",
       "       [157,  22, 140, ..., 255, 255,   1],\n",
       "       [161,  31, 146, ..., 119, 255,   1],\n",
       "       ...,\n",
       "       [160,  36, 146, ...,   0, 255,   1],\n",
       "       [154,  33, 143, ..., 177, 255,   1],\n",
       "       [159,  22, 141, ..., 215, 255,   1]])"
      ]
     },
     "execution_count": 10,
     "metadata": {},
     "output_type": "execute_result"
    }
   ],
   "source": [
    "positive_xy"
   ]
  },
  {
   "cell_type": "code",
   "execution_count": 11,
   "metadata": {},
   "outputs": [
    {
     "data": {
      "text/plain": [
       "(300, 129)"
      ]
     },
     "execution_count": 11,
     "metadata": {},
     "output_type": "execute_result"
    }
   ],
   "source": [
    "positive_xy.shape"
   ]
  },
  {
   "cell_type": "markdown",
   "metadata": {},
   "source": [
    "# 3. Get train and test examples #"
   ]
  },
  {
   "cell_type": "markdown",
   "metadata": {},
   "source": [
    "## 3.1. Negative examples ##"
   ]
  },
  {
   "cell_type": "code",
   "execution_count": 12,
   "metadata": {
    "collapsed": true
   },
   "outputs": [],
   "source": [
    "negative_train = negative_xy[0:int(negative_xy.shape[0]/2),:]\n",
    "negative_test = negative_xy[int(negative_xy.shape[0]/2):,:]"
   ]
  },
  {
   "cell_type": "code",
   "execution_count": 13,
   "metadata": {},
   "outputs": [
    {
     "data": {
      "text/plain": [
       "(150, 129)"
      ]
     },
     "execution_count": 13,
     "metadata": {},
     "output_type": "execute_result"
    }
   ],
   "source": [
    "negative_train.shape"
   ]
  },
  {
   "cell_type": "code",
   "execution_count": 14,
   "metadata": {},
   "outputs": [
    {
     "data": {
      "text/plain": [
       "(150, 129)"
      ]
     },
     "execution_count": 14,
     "metadata": {},
     "output_type": "execute_result"
    }
   ],
   "source": [
    "negative_test.shape"
   ]
  },
  {
   "cell_type": "markdown",
   "metadata": {},
   "source": [
    "## 3.2. Positive examples ##"
   ]
  },
  {
   "cell_type": "code",
   "execution_count": 15,
   "metadata": {
    "collapsed": true
   },
   "outputs": [],
   "source": [
    "positive_train = positive_xy[0:int(positive_xy.shape[0]/2),:]\n",
    "positive_test = positive_xy[int(positive_xy.shape[0]/2):,:]"
   ]
  },
  {
   "cell_type": "code",
   "execution_count": 16,
   "metadata": {},
   "outputs": [
    {
     "data": {
      "text/plain": [
       "(150, 129)"
      ]
     },
     "execution_count": 16,
     "metadata": {},
     "output_type": "execute_result"
    }
   ],
   "source": [
    "positive_train.shape"
   ]
  },
  {
   "cell_type": "code",
   "execution_count": 17,
   "metadata": {},
   "outputs": [
    {
     "data": {
      "text/plain": [
       "(150, 129)"
      ]
     },
     "execution_count": 17,
     "metadata": {},
     "output_type": "execute_result"
    }
   ],
   "source": [
    "positive_test.shape"
   ]
  },
  {
   "cell_type": "markdown",
   "metadata": {},
   "source": [
    "## 3.3. Concatenate train examples together ##"
   ]
  },
  {
   "cell_type": "code",
   "execution_count": 18,
   "metadata": {
    "collapsed": true
   },
   "outputs": [],
   "source": [
    "train = np.concatenate((positive_train, negative_train))"
   ]
  },
  {
   "cell_type": "code",
   "execution_count": 19,
   "metadata": {},
   "outputs": [
    {
     "data": {
      "text/plain": [
       "(300, 129)"
      ]
     },
     "execution_count": 19,
     "metadata": {},
     "output_type": "execute_result"
    }
   ],
   "source": [
    "train.shape"
   ]
  },
  {
   "cell_type": "markdown",
   "metadata": {},
   "source": [
    "## 3.4. Concatenate test examples together ##"
   ]
  },
  {
   "cell_type": "code",
   "execution_count": 20,
   "metadata": {
    "collapsed": true
   },
   "outputs": [],
   "source": [
    "test = np.concatenate((positive_test, negative_test))"
   ]
  },
  {
   "cell_type": "code",
   "execution_count": 21,
   "metadata": {},
   "outputs": [
    {
     "data": {
      "text/plain": [
       "(300, 129)"
      ]
     },
     "execution_count": 21,
     "metadata": {},
     "output_type": "execute_result"
    }
   ],
   "source": [
    "test.shape"
   ]
  },
  {
   "cell_type": "markdown",
   "metadata": {},
   "source": [
    "## 3.5. Shuffle data ##"
   ]
  },
  {
   "cell_type": "code",
   "execution_count": 22,
   "metadata": {
    "collapsed": true
   },
   "outputs": [],
   "source": [
    "np.random.shuffle(train)"
   ]
  },
  {
   "cell_type": "code",
   "execution_count": 23,
   "metadata": {
    "collapsed": true
   },
   "outputs": [],
   "source": [
    "np.random.shuffle(test)"
   ]
  },
  {
   "cell_type": "markdown",
   "metadata": {},
   "source": [
    "## 3.6. Separate x and y ##"
   ]
  },
  {
   "cell_type": "markdown",
   "metadata": {},
   "source": [
    "### 3.6.1. Separate training data ###"
   ]
  },
  {
   "cell_type": "code",
   "execution_count": 24,
   "metadata": {
    "collapsed": true
   },
   "outputs": [],
   "source": [
    "x_train = train[:,:-1]"
   ]
  },
  {
   "cell_type": "code",
   "execution_count": 25,
   "metadata": {},
   "outputs": [
    {
     "data": {
      "text/plain": [
       "(300, 128)"
      ]
     },
     "execution_count": 25,
     "metadata": {},
     "output_type": "execute_result"
    }
   ],
   "source": [
    "x_train.shape"
   ]
  },
  {
   "cell_type": "code",
   "execution_count": 26,
   "metadata": {
    "collapsed": true
   },
   "outputs": [],
   "source": [
    "y_train = train[:,-1]"
   ]
  },
  {
   "cell_type": "code",
   "execution_count": 27,
   "metadata": {},
   "outputs": [
    {
     "data": {
      "text/plain": [
       "(300,)"
      ]
     },
     "execution_count": 27,
     "metadata": {},
     "output_type": "execute_result"
    }
   ],
   "source": [
    "y_train.shape"
   ]
  },
  {
   "cell_type": "markdown",
   "metadata": {},
   "source": [
    "### 3.6.2. Separate test data ###"
   ]
  },
  {
   "cell_type": "code",
   "execution_count": 28,
   "metadata": {
    "collapsed": true
   },
   "outputs": [],
   "source": [
    "x_test = test[:,:-1]"
   ]
  },
  {
   "cell_type": "code",
   "execution_count": 29,
   "metadata": {},
   "outputs": [
    {
     "data": {
      "text/plain": [
       "(300, 128)"
      ]
     },
     "execution_count": 29,
     "metadata": {},
     "output_type": "execute_result"
    }
   ],
   "source": [
    "x_test.shape"
   ]
  },
  {
   "cell_type": "code",
   "execution_count": 30,
   "metadata": {
    "collapsed": true
   },
   "outputs": [],
   "source": [
    "y_test = test[:,-1]"
   ]
  },
  {
   "cell_type": "code",
   "execution_count": 31,
   "metadata": {},
   "outputs": [
    {
     "data": {
      "text/plain": [
       "(300,)"
      ]
     },
     "execution_count": 31,
     "metadata": {},
     "output_type": "execute_result"
    }
   ],
   "source": [
    "y_test.shape"
   ]
  },
  {
   "cell_type": "markdown",
   "metadata": {},
   "source": [
    "# 4. Read X_pool file #"
   ]
  },
  {
   "cell_type": "code",
   "execution_count": 59,
   "metadata": {
    "collapsed": true
   },
   "outputs": [],
   "source": [
    "pool_file= open(\"/home/amm1209/sonyc_distortion_classification/data/X_pool_10000.pickle\", \"rb\")\n",
    "X_pool = pickle.load(pool_file)"
   ]
  },
  {
   "cell_type": "code",
   "execution_count": 60,
   "metadata": {},
   "outputs": [
    {
     "data": {
      "text/plain": [
       "(9974, 128)"
      ]
     },
     "execution_count": 60,
     "metadata": {},
     "output_type": "execute_result"
    }
   ],
   "source": [
    "X_pool.shape"
   ]
  },
  {
   "cell_type": "code",
   "execution_count": 61,
   "metadata": {
    "collapsed": true
   },
   "outputs": [],
   "source": [
    "ids_file= open(\"/home/amm1209/sonyc_distortion_classification/data/id_pool_10000.pickle\", \"rb\")\n",
    "id_pool = pickle.load(ids_file)"
   ]
  },
  {
   "cell_type": "code",
   "execution_count": 62,
   "metadata": {},
   "outputs": [
    {
     "data": {
      "text/plain": [
       "(9974, 2)"
      ]
     },
     "execution_count": 62,
     "metadata": {},
     "output_type": "execute_result"
    }
   ],
   "source": [
    "id_pool.shape"
   ]
  },
  {
   "cell_type": "code",
   "execution_count": 63,
   "metadata": {
    "collapsed": true
   },
   "outputs": [],
   "source": [
    "sensor_id = []\n",
    "time_stamp = []\n",
    "frame = []\n",
    "for i in range(len(id_pool)):\n",
    "    sensor_timestamp = id_pool[i][0]\n",
    "    if len(sensor_timestamp.decode(\"utf-8\").split('_')) ==1:\n",
    "        print(sensor_timestamp)\n",
    "        sensor_id.append(sensor_timestamp.decode(\"utf-8\").split('-')[0])\n",
    "        time_stamp.append(sensor_timestamp.decode(\"utf-8\").split('-')[1])\n",
    "    else:     \n",
    "        sensor_id.append(sensor_timestamp.decode(\"utf-8\").split('_')[0])\n",
    "        time_stamp.append(sensor_timestamp.decode(\"utf-8\").split('_')[1])\n",
    "    frame.append(int(id_pool[i][1].decode(\"utf-8\")))\n"
   ]
  },
  {
   "cell_type": "code",
   "execution_count": 64,
   "metadata": {},
   "outputs": [
    {
     "data": {
      "text/plain": [
       "int"
      ]
     },
     "execution_count": 64,
     "metadata": {},
     "output_type": "execute_result"
    }
   ],
   "source": [
    "type(frame[0])"
   ]
  },
  {
   "cell_type": "markdown",
   "metadata": {
    "collapsed": true
   },
   "source": [
    "# 5. Create classifier #"
   ]
  },
  {
   "cell_type": "code",
   "execution_count": 65,
   "metadata": {
    "collapsed": true
   },
   "outputs": [],
   "source": [
    "clf = RandomForestClassifier(n_estimators = 100)"
   ]
  },
  {
   "cell_type": "code",
   "execution_count": 66,
   "metadata": {},
   "outputs": [
    {
     "data": {
      "text/plain": [
       "RandomForestClassifier(bootstrap=True, class_weight=None, criterion='gini',\n",
       "            max_depth=None, max_features='auto', max_leaf_nodes=None,\n",
       "            min_impurity_decrease=0.0, min_impurity_split=None,\n",
       "            min_samples_leaf=1, min_samples_split=2,\n",
       "            min_weight_fraction_leaf=0.0, n_estimators=100, n_jobs=1,\n",
       "            oob_score=False, random_state=None, verbose=0,\n",
       "            warm_start=False)"
      ]
     },
     "execution_count": 66,
     "metadata": {},
     "output_type": "execute_result"
    }
   ],
   "source": [
    "clf.fit(x_train,y_train)"
   ]
  },
  {
   "cell_type": "code",
   "execution_count": 67,
   "metadata": {
    "collapsed": true
   },
   "outputs": [],
   "source": [
    "pred = clf.predict(x_test)"
   ]
  },
  {
   "cell_type": "code",
   "execution_count": 68,
   "metadata": {},
   "outputs": [
    {
     "data": {
      "text/plain": [
       "0.9633333333333334"
      ]
     },
     "execution_count": 68,
     "metadata": {},
     "output_type": "execute_result"
    }
   ],
   "source": [
    "sklearn.metrics.accuracy_score(y_test,pred)"
   ]
  },
  {
   "cell_type": "markdown",
   "metadata": {},
   "source": [
    "# 6. Create Active Learner #"
   ]
  },
  {
   "cell_type": "code",
   "execution_count": 69,
   "metadata": {
    "collapsed": true
   },
   "outputs": [],
   "source": [
    "learner = ActiveLearner(\n",
    "    estimator=clf,\n",
    "    query_strategy=uncertainty_sampling,\n",
    "    X_training=x_train, y_training=y_train\n",
    ")"
   ]
  },
  {
   "cell_type": "markdown",
   "metadata": {
    "collapsed": true
   },
   "source": []
  },
  {
   "cell_type": "code",
   "execution_count": 73,
   "metadata": {},
   "outputs": [
    {
     "name": "stdout",
     "output_type": "stream",
     "text": [
      "[104 271 387]\n",
      "Please input label for\n",
      "sensor_id = 'b827eb2a1bce'\n",
      "timestamp = 1486837585.86\n",
      "frame = 0 (1 if noise is present, 0 if noise is not present)1\n",
      "Please input label for\n",
      "sensor_id = 'b827ebc6dcc6'\n",
      "timestamp = 1492267900.97\n",
      "frame = 4 (1 if noise is present, 0 if noise is not present)0\n",
      "Please input label for\n",
      "sensor_id = 'b827eb5895e9'\n",
      "timestamp = 1498423450.63\n",
      "frame = 8 (1 if noise is present, 0 if noise is not present)0\n",
      "ARRAY:  [1, 0, 0]\n",
      "Accuracy after query no. 1: 0.956667\n",
      "0.9566666666666667\n",
      "[  12  443 1007]\n",
      "Please input label for\n",
      "sensor_id = 'b827eb86d458'\n",
      "timestamp = 1486595683.82\n",
      "frame = 1 (1 if noise is present, 0 if noise is not present)0\n",
      "Please input label for\n",
      "sensor_id = 'b827eb2a1bce'\n",
      "timestamp = 1483663817.95\n",
      "frame = 4 (1 if noise is present, 0 if noise is not present)1\n",
      "Please input label for\n",
      "sensor_id = 'b827eb122f0f'\n",
      "timestamp = 1500105594.16\n",
      "frame = 0 (1 if noise is present, 0 if noise is not present)1\n",
      "ARRAY:  [0, 1, 1]\n",
      "Accuracy after query no. 2: 0.963333\n",
      "0.00666666666666671\n",
      "[103 202 241]\n",
      "Please input label for\n",
      "sensor_id = 'b827eb122f0f'\n",
      "timestamp = 1487524503.46\n",
      "frame = 4 (1 if noise is present, 0 if noise is not present)1\n",
      "Please input label for\n",
      "sensor_id = 'b827eb9d0e7f'\n",
      "timestamp = 1495649701.64\n",
      "frame = 9 (1 if noise is present, 0 if noise is not present)1\n",
      "Please input label for\n",
      "sensor_id = 'b827eb815321'\n",
      "timestamp = 1492753174.96\n",
      "frame = 6 (1 if noise is present, 0 if noise is not present)0\n",
      "ARRAY:  [1, 1, 0]\n",
      "Accuracy after query no. 3: 0.953333\n",
      "-0.010000000000000009\n",
      "[ 79 177 223]\n",
      "Please input label for\n",
      "sensor_id = 'b827eb429cd4'\n",
      "timestamp = 1498320818.36\n",
      "frame = 2 (1 if noise is present, 0 if noise is not present)1\n",
      "Please input label for\n",
      "sensor_id = 'b827eb132382'\n",
      "timestamp = 1481926573.86\n",
      "frame = 7 (1 if noise is present, 0 if noise is not present)1\n",
      "Please input label for\n",
      "sensor_id = 'b827eb42bd4a'\n",
      "timestamp = 1499843946.13\n",
      "frame = 6 (1 if noise is present, 0 if noise is not present)1\n",
      "ARRAY:  [1, 1, 1]\n",
      "Accuracy after query no. 4: 0.966667\n",
      "0.013333333333333308\n",
      "[119 286 394]\n",
      "Please input label for\n",
      "sensor_id = 'b827eb9d0e7f'\n",
      "timestamp = 1495544998.74\n",
      "frame = 9 (1 if noise is present, 0 if noise is not present)1\n",
      "Please input label for\n",
      "sensor_id = 'b827eb44506f'\n",
      "timestamp = 1495296255.51\n",
      "frame = 4 (1 if noise is present, 0 if noise is not present)1\n",
      "Please input label for\n",
      "sensor_id = 'b827eb0d8af7'\n",
      "timestamp = 1487392724.68\n",
      "frame = 0 (1 if noise is present, 0 if noise is not present)1\n",
      "ARRAY:  [1, 1, 1]\n",
      "Accuracy after query no. 5: 0.963333\n",
      "-0.0033333333333332993\n",
      "[0.95666667 0.96333333 0.95333333 0.96666667 0.96333333]\n"
     ]
    }
   ],
   "source": [
    "n_queries = 50\n",
    "n_instances = 10\n",
    "accuracy = np.zeros(n_queries)\n",
    "not_converged = True\n",
    "count = 0\n",
    "while not_converged:\n",
    "    y = []\n",
    "    query_idx, query_instance = learner.query(X_pool, n_instances=n_instances)\n",
    "    print (query_idx)\n",
    "    for i in range(n_instances):\n",
    "        y_new = input(\"Please input label for\\nsensor_id = '%s'\\ntimestamp = %s\\nframe = %d (1 if noise is present, 0 if noise is not present)\" % (sensor_id[query_idx[i]],time_stamp[query_idx[i]],frame[query_idx[i]]))\n",
    "        y.append(int(y_new))\n",
    "    print('ARRAY: ',y)\n",
    "    learner.teach(\n",
    "        X=X_pool[query_idx],\n",
    "        y=np.array(y).reshape(-1, )\n",
    "    )\n",
    "    X_pool = np.delete(X_pool, query_idx, axis=0)\n",
    "    id_pool = np.delete(id_pool, query_idx, axis=0)\n",
    "    print('Accuracy after query no. %d: %f' % (count+1, learner.score(x_test, y_test)))\n",
    "    accuracy[count]=learner.score(x_test, y_test)\n",
    "    print(accuracy[count]-accuracy[count-1])\n",
    "    \n",
    "    if (accuracy[count]>accuracy[count-1] and accuracy[count]-accuracy[count-1]<0.0001) or count == n_queries-1:\n",
    "        not_converged = False\n",
    "    count = count +1\n",
    "print(accuracy)"
   ]
  },
  {
   "cell_type": "code",
   "execution_count": 87,
   "metadata": {
    "collapsed": true
   },
   "outputs": [],
   "source": [
    "pool = X_pool"
   ]
  },
  {
   "cell_type": "code",
   "execution_count": 68,
   "metadata": {
    "collapsed": true
   },
   "outputs": [],
   "source": [
    "pool = np.delete(X_pool, query_idx, axis=0)"
   ]
  },
  {
   "cell_type": "code",
   "execution_count": 88,
   "metadata": {},
   "outputs": [
    {
     "data": {
      "text/plain": [
       "(986, 128)"
      ]
     },
     "execution_count": 88,
     "metadata": {},
     "output_type": "execute_result"
    }
   ],
   "source": [
    "pool.shape"
   ]
  },
  {
   "cell_type": "code",
   "execution_count": null,
   "metadata": {
    "collapsed": true
   },
   "outputs": [],
   "source": []
  },
  {
   "cell_type": "code",
   "execution_count": null,
   "metadata": {
    "collapsed": true
   },
   "outputs": [],
   "source": []
  },
  {
   "cell_type": "code",
   "execution_count": null,
   "metadata": {
    "collapsed": true
   },
   "outputs": [],
   "source": []
  },
  {
   "cell_type": "code",
   "execution_count": null,
   "metadata": {
    "collapsed": true
   },
   "outputs": [],
   "source": []
  },
  {
   "cell_type": "code",
   "execution_count": null,
   "metadata": {
    "collapsed": true
   },
   "outputs": [],
   "source": []
  },
  {
   "cell_type": "code",
   "execution_count": null,
   "metadata": {
    "collapsed": true
   },
   "outputs": [],
   "source": []
  },
  {
   "cell_type": "code",
   "execution_count": null,
   "metadata": {
    "collapsed": true
   },
   "outputs": [],
   "source": []
  }
 ],
 "metadata": {
  "kernelspec": {
   "display_name": "Python (active_learning)",
   "language": "python",
   "name": "active_learning"
  },
  "language_info": {
   "codemirror_mode": {
    "name": "ipython",
    "version": 3
   },
   "file_extension": ".py",
   "mimetype": "text/x-python",
   "name": "python",
   "nbconvert_exporter": "python",
   "pygments_lexer": "ipython3",
   "version": "3.6.5"
  }
 },
 "nbformat": 4,
 "nbformat_minor": 2
}
