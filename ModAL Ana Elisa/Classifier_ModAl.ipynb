{
 "cells": [
  {
   "cell_type": "code",
   "execution_count": 1,
   "metadata": {
    "collapsed": true
   },
   "outputs": [],
   "source": [
    "import pickle\n",
    "import sklearn\n",
    "import modAL\n",
    "from modAL.models import ActiveLearner\n",
    "from sklearn.ensemble import RandomForestClassifier\n",
    "import numpy as np\n",
    "from modAL.uncertainty import uncertainty_sampling\n",
    "import sys\n",
    "\n",
    "import audio_decryption\n",
    "import IPython.display"
   ]
  },
  {
   "cell_type": "markdown",
   "metadata": {
    "collapsed": true
   },
   "source": [
    "# 1. Read negative file #"
   ]
  },
  {
   "cell_type": "code",
   "execution_count": 3,
   "metadata": {
    "collapsed": true
   },
   "outputs": [],
   "source": [
    "neg_file= open(\"/home/amm1209/sonyc_distortion_classification/data/negative_xy.pickle\", \"rb\")\n",
    "negative_xy = pickle.load(neg_file)"
   ]
  },
  {
   "cell_type": "code",
   "execution_count": 4,
   "metadata": {},
   "outputs": [
    {
     "data": {
      "text/plain": [
       "array([[146,  14, 129, ...,  62, 255,   0],\n",
       "       [154,  30, 171, ..., 158, 255,   0],\n",
       "       [153,  25, 150, ..., 150, 255,   0],\n",
       "       ...,\n",
       "       [153,  25, 146, ...,   0, 255,   0],\n",
       "       [153,  25, 152, ...,   0, 255,   0],\n",
       "       [155,  23, 168, ...,  90, 255,   0]])"
      ]
     },
     "execution_count": 4,
     "metadata": {},
     "output_type": "execute_result"
    }
   ],
   "source": [
    "negative_xy"
   ]
  },
  {
   "cell_type": "code",
   "execution_count": 5,
   "metadata": {
    "collapsed": true
   },
   "outputs": [],
   "source": [
    "np.random.shuffle(negative_xy)"
   ]
  },
  {
   "cell_type": "code",
   "execution_count": 6,
   "metadata": {},
   "outputs": [
    {
     "data": {
      "text/plain": [
       "(300, 129)"
      ]
     },
     "execution_count": 6,
     "metadata": {},
     "output_type": "execute_result"
    }
   ],
   "source": [
    "negative_xy.shape"
   ]
  },
  {
   "cell_type": "markdown",
   "metadata": {
    "collapsed": true
   },
   "source": [
    "# 2. Read positive file #"
   ]
  },
  {
   "cell_type": "code",
   "execution_count": 7,
   "metadata": {
    "collapsed": true,
    "scrolled": true
   },
   "outputs": [],
   "source": [
    "positive_xy = pickle.load(open( \"/home/amm1209/sonyc_distortion_classification/data/positive_xy.pickle\", \"rb\" ))"
   ]
  },
  {
   "cell_type": "code",
   "execution_count": 8,
   "metadata": {},
   "outputs": [
    {
     "data": {
      "text/plain": [
       "array([[153,  17, 128, ..., 136, 255,   1],\n",
       "       [150,  19, 127, ...,  76, 255,   1],\n",
       "       [155,  18, 126, ..., 156, 255,   1],\n",
       "       ...,\n",
       "       [160,  20, 161, ..., 167, 255,   1],\n",
       "       [154,  20, 139, ..., 255, 255,   1],\n",
       "       [154,  21, 130, ..., 137, 255,   1]])"
      ]
     },
     "execution_count": 8,
     "metadata": {},
     "output_type": "execute_result"
    }
   ],
   "source": [
    "positive_xy"
   ]
  },
  {
   "cell_type": "code",
   "execution_count": 9,
   "metadata": {
    "collapsed": true
   },
   "outputs": [],
   "source": [
    "np.random.shuffle(positive_xy)"
   ]
  },
  {
   "cell_type": "code",
   "execution_count": 10,
   "metadata": {},
   "outputs": [
    {
     "data": {
      "text/plain": [
       "array([[157,  19, 152, ...,  69, 255,   1],\n",
       "       [157,  22, 140, ..., 255, 255,   1],\n",
       "       [161,  31, 146, ..., 119, 255,   1],\n",
       "       ...,\n",
       "       [160,  36, 146, ...,   0, 255,   1],\n",
       "       [154,  33, 143, ..., 177, 255,   1],\n",
       "       [159,  22, 141, ..., 215, 255,   1]])"
      ]
     },
     "execution_count": 10,
     "metadata": {},
     "output_type": "execute_result"
    }
   ],
   "source": [
    "positive_xy"
   ]
  },
  {
   "cell_type": "code",
   "execution_count": 11,
   "metadata": {},
   "outputs": [
    {
     "data": {
      "text/plain": [
       "(300, 129)"
      ]
     },
     "execution_count": 11,
     "metadata": {},
     "output_type": "execute_result"
    }
   ],
   "source": [
    "positive_xy.shape"
   ]
  },
  {
   "cell_type": "markdown",
   "metadata": {},
   "source": [
    "# 3. Get train and test examples #"
   ]
  },
  {
   "cell_type": "markdown",
   "metadata": {},
   "source": [
    "## 3.1. Negative examples ##"
   ]
  },
  {
   "cell_type": "code",
   "execution_count": 12,
   "metadata": {
    "collapsed": true
   },
   "outputs": [],
   "source": [
    "negative_train = negative_xy[0:int(negative_xy.shape[0]/2),:]\n",
    "negative_test = negative_xy[int(negative_xy.shape[0]/2):,:]"
   ]
  },
  {
   "cell_type": "code",
   "execution_count": 13,
   "metadata": {},
   "outputs": [
    {
     "data": {
      "text/plain": [
       "(150, 129)"
      ]
     },
     "execution_count": 13,
     "metadata": {},
     "output_type": "execute_result"
    }
   ],
   "source": [
    "negative_train.shape"
   ]
  },
  {
   "cell_type": "code",
   "execution_count": 14,
   "metadata": {},
   "outputs": [
    {
     "data": {
      "text/plain": [
       "(150, 129)"
      ]
     },
     "execution_count": 14,
     "metadata": {},
     "output_type": "execute_result"
    }
   ],
   "source": [
    "negative_test.shape"
   ]
  },
  {
   "cell_type": "markdown",
   "metadata": {},
   "source": [
    "## 3.2. Positive examples ##"
   ]
  },
  {
   "cell_type": "code",
   "execution_count": 15,
   "metadata": {
    "collapsed": true
   },
   "outputs": [],
   "source": [
    "positive_train = positive_xy[0:int(positive_xy.shape[0]/2),:]\n",
    "positive_test = positive_xy[int(positive_xy.shape[0]/2):,:]"
   ]
  },
  {
   "cell_type": "code",
   "execution_count": 16,
   "metadata": {},
   "outputs": [
    {
     "data": {
      "text/plain": [
       "(150, 129)"
      ]
     },
     "execution_count": 16,
     "metadata": {},
     "output_type": "execute_result"
    }
   ],
   "source": [
    "positive_train.shape"
   ]
  },
  {
   "cell_type": "code",
   "execution_count": 17,
   "metadata": {},
   "outputs": [
    {
     "data": {
      "text/plain": [
       "(150, 129)"
      ]
     },
     "execution_count": 17,
     "metadata": {},
     "output_type": "execute_result"
    }
   ],
   "source": [
    "positive_test.shape"
   ]
  },
  {
   "cell_type": "markdown",
   "metadata": {},
   "source": [
    "## 3.3. Concatenate train examples together ##"
   ]
  },
  {
   "cell_type": "code",
   "execution_count": 18,
   "metadata": {
    "collapsed": true
   },
   "outputs": [],
   "source": [
    "train = np.concatenate((positive_train, negative_train))"
   ]
  },
  {
   "cell_type": "code",
   "execution_count": 19,
   "metadata": {},
   "outputs": [
    {
     "data": {
      "text/plain": [
       "(300, 129)"
      ]
     },
     "execution_count": 19,
     "metadata": {},
     "output_type": "execute_result"
    }
   ],
   "source": [
    "train.shape"
   ]
  },
  {
   "cell_type": "markdown",
   "metadata": {},
   "source": [
    "## 3.4. Concatenate test examples together ##"
   ]
  },
  {
   "cell_type": "code",
   "execution_count": 20,
   "metadata": {
    "collapsed": true
   },
   "outputs": [],
   "source": [
    "test = np.concatenate((positive_test, negative_test))"
   ]
  },
  {
   "cell_type": "code",
   "execution_count": 21,
   "metadata": {},
   "outputs": [
    {
     "data": {
      "text/plain": [
       "(300, 129)"
      ]
     },
     "execution_count": 21,
     "metadata": {},
     "output_type": "execute_result"
    }
   ],
   "source": [
    "test.shape"
   ]
  },
  {
   "cell_type": "markdown",
   "metadata": {},
   "source": [
    "## 3.5. Shuffle data ##"
   ]
  },
  {
   "cell_type": "code",
   "execution_count": 22,
   "metadata": {
    "collapsed": true
   },
   "outputs": [],
   "source": [
    "np.random.shuffle(train)"
   ]
  },
  {
   "cell_type": "code",
   "execution_count": 23,
   "metadata": {
    "collapsed": true
   },
   "outputs": [],
   "source": [
    "np.random.shuffle(test)"
   ]
  },
  {
   "cell_type": "markdown",
   "metadata": {},
   "source": [
    "## 3.6. Separate x and y ##"
   ]
  },
  {
   "cell_type": "markdown",
   "metadata": {},
   "source": [
    "### 3.6.1. Separate training data ###"
   ]
  },
  {
   "cell_type": "code",
   "execution_count": 24,
   "metadata": {
    "collapsed": true
   },
   "outputs": [],
   "source": [
    "x_train = train[:,:-1]"
   ]
  },
  {
   "cell_type": "code",
   "execution_count": 25,
   "metadata": {},
   "outputs": [
    {
     "data": {
      "text/plain": [
       "(300, 128)"
      ]
     },
     "execution_count": 25,
     "metadata": {},
     "output_type": "execute_result"
    }
   ],
   "source": [
    "x_train.shape"
   ]
  },
  {
   "cell_type": "code",
   "execution_count": 26,
   "metadata": {
    "collapsed": true
   },
   "outputs": [],
   "source": [
    "y_train = train[:,-1]"
   ]
  },
  {
   "cell_type": "code",
   "execution_count": 27,
   "metadata": {},
   "outputs": [
    {
     "data": {
      "text/plain": [
       "(300,)"
      ]
     },
     "execution_count": 27,
     "metadata": {},
     "output_type": "execute_result"
    }
   ],
   "source": [
    "y_train.shape"
   ]
  },
  {
   "cell_type": "markdown",
   "metadata": {},
   "source": [
    "### 3.6.2. Separate test data ###"
   ]
  },
  {
   "cell_type": "code",
   "execution_count": 28,
   "metadata": {
    "collapsed": true
   },
   "outputs": [],
   "source": [
    "x_test = test[:,:-1]"
   ]
  },
  {
   "cell_type": "code",
   "execution_count": 29,
   "metadata": {},
   "outputs": [
    {
     "data": {
      "text/plain": [
       "(300, 128)"
      ]
     },
     "execution_count": 29,
     "metadata": {},
     "output_type": "execute_result"
    }
   ],
   "source": [
    "x_test.shape"
   ]
  },
  {
   "cell_type": "code",
   "execution_count": 30,
   "metadata": {
    "collapsed": true
   },
   "outputs": [],
   "source": [
    "y_test = test[:,-1]"
   ]
  },
  {
   "cell_type": "code",
   "execution_count": 31,
   "metadata": {},
   "outputs": [
    {
     "data": {
      "text/plain": [
       "(300,)"
      ]
     },
     "execution_count": 31,
     "metadata": {},
     "output_type": "execute_result"
    }
   ],
   "source": [
    "y_test.shape"
   ]
  },
  {
   "cell_type": "markdown",
   "metadata": {},
   "source": [
    "# 4. Read X_pool file #"
   ]
  },
  {
   "cell_type": "code",
   "execution_count": 81,
   "metadata": {
    "collapsed": true
   },
   "outputs": [],
   "source": [
    "pool_file= open(\"/home/amm1209/sonyc_distortion_classification/data/X_pool_10000.pickle\", \"rb\")\n",
    "X_pool = pickle.load(pool_file)"
   ]
  },
  {
   "cell_type": "code",
   "execution_count": 82,
   "metadata": {},
   "outputs": [
    {
     "data": {
      "text/plain": [
       "(9974, 128)"
      ]
     },
     "execution_count": 82,
     "metadata": {},
     "output_type": "execute_result"
    }
   ],
   "source": [
    "X_pool.shape"
   ]
  },
  {
   "cell_type": "code",
   "execution_count": 83,
   "metadata": {
    "collapsed": true
   },
   "outputs": [],
   "source": [
    "ids_file= open(\"/home/amm1209/sonyc_distortion_classification/data/id_pool_10000.pickle\", \"rb\")\n",
    "id_pool = pickle.load(ids_file)"
   ]
  },
  {
   "cell_type": "code",
   "execution_count": 84,
   "metadata": {},
   "outputs": [
    {
     "data": {
      "text/plain": [
       "(9974, 2)"
      ]
     },
     "execution_count": 84,
     "metadata": {},
     "output_type": "execute_result"
    }
   ],
   "source": [
    "id_pool.shape"
   ]
  },
  {
   "cell_type": "code",
   "execution_count": 85,
   "metadata": {
    "collapsed": true
   },
   "outputs": [],
   "source": [
    "sensor_id = []\n",
    "time_stamp = []\n",
    "frame = []\n",
    "for i in range(len(id_pool)):\n",
    "    sensor_timestamp = id_pool[i][0]\n",
    "    if len(sensor_timestamp.decode(\"utf-8\").split('_')) ==1:\n",
    "        print(sensor_timestamp)\n",
    "        sensor_id.append(sensor_timestamp.decode(\"utf-8\").split('-')[0])\n",
    "        time_stamp.append(float(sensor_timestamp.decode(\"utf-8\").split('-')[1]))\n",
    "    else:     \n",
    "        sensor_id.append(sensor_timestamp.decode(\"utf-8\").split('_')[0])\n",
    "        time_stamp.append(float(sensor_timestamp.decode(\"utf-8\").split('_')[1]))\n",
    "    frame.append(int(id_pool[i][1].decode(\"utf-8\")))"
   ]
  },
  {
   "cell_type": "code",
   "execution_count": 86,
   "metadata": {},
   "outputs": [
    {
     "data": {
      "text/plain": [
       "int"
      ]
     },
     "execution_count": 86,
     "metadata": {},
     "output_type": "execute_result"
    }
   ],
   "source": [
    "type(frame[0])"
   ]
  },
  {
   "cell_type": "markdown",
   "metadata": {
    "collapsed": true
   },
   "source": [
    "# 5. Create classifier #"
   ]
  },
  {
   "cell_type": "code",
   "execution_count": 65,
   "metadata": {
    "collapsed": true
   },
   "outputs": [],
   "source": [
    "clf = RandomForestClassifier(n_estimators = 100)"
   ]
  },
  {
   "cell_type": "code",
   "execution_count": 66,
   "metadata": {},
   "outputs": [
    {
     "data": {
      "text/plain": [
       "RandomForestClassifier(bootstrap=True, class_weight=None, criterion='gini',\n",
       "            max_depth=None, max_features='auto', max_leaf_nodes=None,\n",
       "            min_impurity_decrease=0.0, min_impurity_split=None,\n",
       "            min_samples_leaf=1, min_samples_split=2,\n",
       "            min_weight_fraction_leaf=0.0, n_estimators=100, n_jobs=1,\n",
       "            oob_score=False, random_state=None, verbose=0,\n",
       "            warm_start=False)"
      ]
     },
     "execution_count": 66,
     "metadata": {},
     "output_type": "execute_result"
    }
   ],
   "source": [
    "clf.fit(x_train,y_train)"
   ]
  },
  {
   "cell_type": "code",
   "execution_count": 67,
   "metadata": {
    "collapsed": true
   },
   "outputs": [],
   "source": [
    "pred = clf.predict(x_test)"
   ]
  },
  {
   "cell_type": "code",
   "execution_count": 68,
   "metadata": {},
   "outputs": [
    {
     "data": {
      "text/plain": [
       "0.9633333333333334"
      ]
     },
     "execution_count": 68,
     "metadata": {},
     "output_type": "execute_result"
    }
   ],
   "source": [
    "sklearn.metrics.accuracy_score(y_test,pred)"
   ]
  },
  {
   "cell_type": "markdown",
   "metadata": {},
   "source": [
    "# 6. Create Active Learner #"
   ]
  },
  {
   "cell_type": "code",
   "execution_count": 69,
   "metadata": {
    "collapsed": true
   },
   "outputs": [],
   "source": [
    "learner = ActiveLearner(\n",
    "    estimator=clf,\n",
    "    query_strategy=uncertainty_sampling,\n",
    "    X_training=x_train, y_training=y_train\n",
    ")"
   ]
  },
  {
   "cell_type": "markdown",
   "metadata": {},
   "source": [
    "## set argument for decryption"
   ]
  },
  {
   "cell_type": "code",
   "execution_count": null,
   "metadata": {},
   "outputs": [],
   "source": [
    "#set audio_path\n",
    "#set **kwargs"
   ]
  },
  {
   "cell_type": "code",
   "execution_count": 87,
   "metadata": {},
   "outputs": [
    {
     "name": "stdout",
     "output_type": "stream",
     "text": [
      "[1979 4167 2408 2194 1135 6354 1265 2623  166 3610]\n",
      "Please input label for\n",
      "sensor_id = 'b827eb44506f'\n",
      "timestamp = 1495262436.75\n",
      "frame = 5 (1 if noise is present, 0 if noise is not present)1\n",
      "Please input label for\n",
      "sensor_id = 'b827eb905497'\n",
      "timestamp = 1490882865.63\n",
      "frame = 3 (1 if noise is present, 0 if noise is not present)0\n",
      "Please input label for\n",
      "sensor_id = 'b827eb9bed23'\n",
      "timestamp = 1483865921.51\n",
      "frame = 0 (1 if noise is present, 0 if noise is not present)0\n",
      "Please input label for\n",
      "sensor_id = 'b827eb2c65db'\n",
      "timestamp = 1481331787.63\n",
      "frame = 6 (1 if noise is present, 0 if noise is not present)1\n",
      "Please input label for\n",
      "sensor_id = 'b827eb429cd4'\n",
      "timestamp = 1495404763.19\n",
      "frame = 4 (1 if noise is present, 0 if noise is not present)0\n",
      "Please input label for\n",
      "sensor_id = 'b827ebba613d'\n",
      "timestamp = 1490945598.35\n",
      "frame = 8 (1 if noise is present, 0 if noise is not present)0\n",
      "Please input label for\n",
      "sensor_id = 'b827eb4e7821'\n",
      "timestamp = 1489588260.95\n",
      "frame = 2 (1 if noise is present, 0 if noise is not present)0\n",
      "Please input label for\n",
      "sensor_id = 'b827ebba613d'\n",
      "timestamp = 1488781735.34\n",
      "frame = 3 (1 if noise is present, 0 if noise is not present)0\n",
      "Please input label for\n",
      "sensor_id = 'b827ebb40450'\n",
      "timestamp = 1493809431.58\n",
      "frame = 9 (1 if noise is present, 0 if noise is not present)0\n",
      "Please input label for\n",
      "sensor_id = 'b827eb0d8af7'\n",
      "timestamp = 1482457841.97\n",
      "frame = 2 (1 if noise is present, 0 if noise is not present)1\n",
      "ARRAY:  [1, 0, 0, 1, 0, 0, 0, 0, 0, 1]\n",
      "Accuracy after query no. 1: 0.960000\n",
      "0.96\n",
      "[ 646 3893 2134 3590 6991 4095 3797 4282 3477  140]\n",
      "Please input label for\n",
      "sensor_id = 'b827eb44506f'\n",
      "timestamp = 1498655274.75\n",
      "frame = 4 (1 if noise is present, 0 if noise is not present)1\n",
      "Please input label for\n",
      "sensor_id = 'b827ebb40450'\n",
      "timestamp = 1486930256.35\n",
      "frame = 9 (1 if noise is present, 0 if noise is not present)1\n",
      "Please input label for\n",
      "sensor_id = 'b827eb9bed23'\n",
      "timestamp = 1500376395.06\n",
      "frame = 5 (1 if noise is present, 0 if noise is not present)1\n",
      "Please input label for\n",
      "sensor_id = 'b827eb122f0f'\n",
      "timestamp = 1499264899.92\n",
      "frame = 4 (1 if noise is present, 0 if noise is not present)1\n",
      "Please input label for\n",
      "sensor_id = 'b827eb9bed23'\n",
      "timestamp = 1499709246.18\n",
      "frame = 5 (1 if noise is present, 0 if noise is not present)0\n",
      "Please input label for\n",
      "sensor_id = 'b827eb4e7821'\n",
      "timestamp = 1484841043.67\n",
      "frame = 6 (1 if noise is present, 0 if noise is not present)1\n",
      "Please input label for\n",
      "sensor_id = 'b827eb0fedda'\n",
      "timestamp = 1480550995.77\n",
      "frame = 8 (1 if noise is present, 0 if noise is not present)1\n",
      "Please input label for\n",
      "sensor_id = 'b827eb9bed23'\n",
      "timestamp = 1492366564.3\n",
      "frame = 1 (1 if noise is present, 0 if noise is not present)0\n",
      "Please input label for\n",
      "sensor_id = 'b827eb86d458'\n",
      "timestamp = 1484045434.79\n",
      "frame = 1 (1 if noise is present, 0 if noise is not present)1\n",
      "Please input label for\n",
      "sensor_id = 'b827eb905497'\n",
      "timestamp = 1492110381.2\n",
      "frame = 4 (1 if noise is present, 0 if noise is not present)0\n",
      "ARRAY:  [1, 1, 1, 1, 0, 1, 1, 0, 1, 0]\n",
      "Accuracy after query no. 2: 0.963333\n",
      "0.0033333333333334103\n",
      "[1825 3648 3422 2642 2632 1173 3579 1746  260 3401]\n",
      "Please input label for\n",
      "sensor_id = 'b827eb5895e9'\n",
      "timestamp = 1499341994.64\n",
      "frame = 5 (1 if noise is present, 0 if noise is not present)1\n",
      "Please input label for\n",
      "sensor_id = 'b827eb3bda47'\n",
      "timestamp = 1484606942.88\n",
      "frame = 0 (1 if noise is present, 0 if noise is not present)0\n",
      "Please input label for\n",
      "sensor_id = 'b827eb29eb77'\n",
      "timestamp = 1481620579.12\n",
      "frame = 0 (1 if noise is present, 0 if noise is not present)1\n",
      "Please input label for\n",
      "sensor_id = 'b827eb29eb77'\n",
      "timestamp = 1500524381.75\n",
      "frame = 6 (1 if noise is present, 0 if noise is not present)0\n",
      "Please input label for\n",
      "sensor_id = 'b827ebb40450'\n",
      "timestamp = 1492944430.52\n",
      "frame = 9 (1 if noise is present, 0 if noise is not present)1\n",
      "Please input label for\n",
      "sensor_id = 'b827eb122f0f'\n",
      "timestamp = 1497492386.69\n",
      "frame = 0 (1 if noise is present, 0 if noise is not present)1\n",
      "Please input label for\n",
      "sensor_id = 'b827eb0fedda'\n",
      "timestamp = 1489997763.77\n",
      "frame = 1 (1 if noise is present, 0 if noise is not present)0\n",
      "Please input label for\n",
      "sensor_id = 'b827eb429cd4'\n",
      "timestamp = 1490958412.69\n",
      "frame = 5 (1 if noise is present, 0 if noise is not present)1\n",
      "Please input label for\n",
      "sensor_id = 'b827eb42bd4a'\n",
      "timestamp = 1495358011.54\n",
      "frame = 4 (1 if noise is present, 0 if noise is not present)1\n",
      "Please input label for\n",
      "sensor_id = 'b827eb86d458'\n",
      "timestamp = 1479251799.07\n",
      "frame = 4 (1 if noise is present, 0 if noise is not present)0\n",
      "ARRAY:  [1, 0, 1, 0, 1, 1, 0, 1, 1, 0]\n",
      "Accuracy after query no. 3: 0.960000\n",
      "-0.0033333333333334103\n",
      "[3167 6312 4795 1673 4445 1683 6314  759 4031  904]\n",
      "Please input label for\n",
      "sensor_id = 'b827eb2a1bce'\n",
      "timestamp = 1484429870.25\n",
      "frame = 9 (1 if noise is present, 0 if noise is not present)1\n",
      "Please input label for\n",
      "sensor_id = 'b827eb132382'\n",
      "timestamp = 1482960088.17\n",
      "frame = 2 (1 if noise is present, 0 if noise is not present)0\n",
      "Please input label for\n",
      "sensor_id = 'b827ebba613d'\n",
      "timestamp = 1487900248.56\n",
      "frame = 7 (1 if noise is present, 0 if noise is not present)1\n",
      "Please input label for\n",
      "sensor_id = 'b827ebad073b'\n",
      "timestamp = 1484121177.01\n",
      "frame = 5 (1 if noise is present, 0 if noise is not present)0\n",
      "Please input label for\n",
      "sensor_id = 'b827eb86d458'\n",
      "timestamp = 1491829071.64\n",
      "frame = 7 (1 if noise is present, 0 if noise is not present)1\n",
      "Please input label for\n",
      "sensor_id = 'b827eb32f75c'\n",
      "timestamp = 1491780432.88\n",
      "frame = 3 (1 if noise is present, 0 if noise is not present)0\n",
      "Please input label for\n",
      "sensor_id = 'b827eb3bda47'\n",
      "timestamp = 1494685555.02\n",
      "frame = 0 (1 if noise is present, 0 if noise is not present)0\n",
      "Please input label for\n",
      "sensor_id = 'b827ebdd5c38'\n",
      "timestamp = 1480512393.47\n",
      "frame = 4 (1 if noise is present, 0 if noise is not present)0\n",
      "Please input label for\n",
      "sensor_id = 'b827eb5895e9'\n",
      "timestamp = 1488771064.09\n",
      "frame = 7 (1 if noise is present, 0 if noise is not present)1\n",
      "Please input label for\n",
      "sensor_id = 'b827ebba613d'\n",
      "timestamp = 1490157389.54\n",
      "frame = 2 (1 if noise is present, 0 if noise is not present)0\n",
      "ARRAY:  [1, 0, 1, 0, 1, 0, 0, 0, 1, 0]\n",
      "Accuracy after query no. 4: 0.946667\n",
      "-0.013333333333333308\n",
      "[3079 8023 8929  966 4854 1621 3049 4079 4764 1674]\n",
      "Please input label for\n",
      "sensor_id = 'b827eb122f0f'\n",
      "timestamp = 1497953207.02\n",
      "frame = 7 (1 if noise is present, 0 if noise is not present)0\n",
      "Please input label for\n",
      "sensor_id = 'b827eb73e772'\n",
      "timestamp = 1495028108.74\n",
      "frame = 8 (1 if noise is present, 0 if noise is not present)0\n",
      "Please input label for\n",
      "sensor_id = 'b827eb9d0e7f'\n",
      "timestamp = 1497821007.85\n",
      "frame = 4 (1 if noise is present, 0 if noise is not present)0\n",
      "Please input label for\n",
      "sensor_id = 'b827ebad073b'\n",
      "timestamp = 1480313287.67\n",
      "frame = 5 (1 if noise is present, 0 if noise is not present)1\n",
      "Please input label for\n",
      "sensor_id = 'b827eb429cd4'\n",
      "timestamp = 1489203562.62\n",
      "frame = 0 (1 if noise is present, 0 if noise is not present)1\n",
      "Please input label for\n",
      "sensor_id = 'b827eb815321'\n",
      "timestamp = 1484568942.6\n",
      "frame = 7 (1 if noise is present, 0 if noise is not present)1\n",
      "Please input label for\n",
      "sensor_id = 'b827eb44506f'\n",
      "timestamp = 1491413014.59\n",
      "frame = 1 (1 if noise is present, 0 if noise is not present)0\n",
      "Please input label for\n",
      "sensor_id = 'b827ebb40450'\n",
      "timestamp = 1499483689.69\n",
      "frame = 0 (1 if noise is present, 0 if noise is not present)0\n",
      "Please input label for\n",
      "sensor_id = 'b827eb9d0e7f'\n",
      "timestamp = 1498157066.35\n",
      "frame = 6 (1 if noise is present, 0 if noise is not present)1\n",
      "Please input label for\n",
      "sensor_id = 'b827eb0d8af7'\n",
      "timestamp = 1479460086.83\n",
      "frame = 2 (1 if noise is present, 0 if noise is not present)1\n",
      "ARRAY:  [0, 0, 0, 1, 1, 1, 0, 0, 1, 1]\n",
      "Accuracy after query no. 5: 0.960000\n",
      "0.013333333333333308\n",
      "[3998  307 4696 7188 1392 6030  599 2444 2574 4011]\n",
      "Please input label for\n",
      "sensor_id = 'b827eb132382'\n",
      "timestamp = 1482318887.94\n",
      "frame = 7 (1 if noise is present, 0 if noise is not present)0\n",
      "Please input label for\n",
      "sensor_id = 'b827ebb40450'\n",
      "timestamp = 1498784670.87\n",
      "frame = 2 (1 if noise is present, 0 if noise is not present)0\n",
      "Please input label for\n",
      "sensor_id = 'b827eb32f75c'\n",
      "timestamp = 1499186329.14\n",
      "frame = 1 (1 if noise is present, 0 if noise is not present)0\n",
      "Please input label for\n",
      "sensor_id = 'b827eb4e7821'\n",
      "timestamp = 1483794444.5\n",
      "frame = 5 (1 if noise is present, 0 if noise is not present)0\n"
     ]
    },
    {
     "name": "stdout",
     "output_type": "stream",
     "text": [
      "Please input label for\n",
      "sensor_id = 'b827eb1685c7'\n",
      "timestamp = 1497573760.21\n",
      "frame = 5 (1 if noise is present, 0 if noise is not present)1\n",
      "Please input label for\n",
      "sensor_id = 'b827eb820cfe'\n",
      "timestamp = 1494330603.84\n",
      "frame = 4 (1 if noise is present, 0 if noise is not present)0\n",
      "Please input label for\n",
      "sensor_id = 'b827eb5895e9'\n",
      "timestamp = 1499367676.37\n",
      "frame = 9 (1 if noise is present, 0 if noise is not present)1\n",
      "Please input label for\n",
      "sensor_id = 'b827eb0fedda'\n",
      "timestamp = 1489680879.73\n",
      "frame = 7 (1 if noise is present, 0 if noise is not present)1\n",
      "Please input label for\n",
      "sensor_id = 'b827eb2a1bce'\n",
      "timestamp = 1500213911.53\n",
      "frame = 9 (1 if noise is present, 0 if noise is not present)1\n",
      "Please input label for\n",
      "sensor_id = 'b827eb252949'\n",
      "timestamp = 1499275303.43\n",
      "frame = 3 (1 if noise is present, 0 if noise is not present)1\n",
      "ARRAY:  [0, 0, 0, 0, 1, 0, 1, 1, 1, 1]\n",
      "Accuracy after query no. 6: 0.936667\n",
      "-0.023333333333333317\n",
      "[4211 5179 2834 1494 4280 4212 5075   54  805 4192]\n",
      "Please input label for\n",
      "sensor_id = 'b827eb42bd4a'\n",
      "timestamp = 1499208140.37\n",
      "frame = 9 (1 if noise is present, 0 if noise is not present)1\n",
      "Please input label for\n",
      "sensor_id = 'b827ebe1fe4b'\n",
      "timestamp = 1489772063.68\n",
      "frame = 0 (1 if noise is present, 0 if noise is not present)0\n",
      "Please input label for\n",
      "sensor_id = 'b827eb9d0e7f'\n",
      "timestamp = 1490191451.53\n",
      "frame = 3 (1 if noise is present, 0 if noise is not present)1\n",
      "Please input label for\n",
      "sensor_id = 'b827eb0d8af7'\n",
      "timestamp = 1487859294.22\n",
      "frame = 1 (1 if noise is present, 0 if noise is not present)1\n",
      "Please input label for\n",
      "sensor_id = 'b827eb2a1bce'\n",
      "timestamp = 1484743542.4\n",
      "frame = 2 (1 if noise is present, 0 if noise is not present)1\n",
      "Please input label for\n",
      "sensor_id = 'b827eb122f0f'\n",
      "timestamp = 1487646434.6\n",
      "frame = 0 (1 if noise is present, 0 if noise is not present)1\n",
      "Please input label for\n",
      "sensor_id = 'b827ebdd5c38'\n",
      "timestamp = 1482264151.67\n",
      "frame = 8 (1 if noise is present, 0 if noise is not present)0\n",
      "Please input label for\n",
      "sensor_id = 'b827eb5895e9'\n",
      "timestamp = 1485633459.67\n",
      "frame = 1 (1 if noise is present, 0 if noise is not present)0\n",
      "Please input label for\n",
      "sensor_id = 'b827eb9d0e7f'\n",
      "timestamp = 1496237300.16\n",
      "frame = 2 (1 if noise is present, 0 if noise is not present)1\n",
      "Please input label for\n",
      "sensor_id = 'b827eb0d8af7'\n",
      "timestamp = 1491569635.56\n",
      "frame = 6 (1 if noise is present, 0 if noise is not present)1\n",
      "ARRAY:  [1, 0, 1, 1, 1, 1, 0, 0, 1, 1]\n",
      "Accuracy after query no. 7: 0.946667\n",
      "0.010000000000000009\n",
      "[2979  544 7273 3825 3265 7580 3402 2983 3198  521]\n",
      "Please input label for\n",
      "sensor_id = 'b827eb44506f'\n",
      "timestamp = 1500667894.23\n",
      "frame = 5 (1 if noise is present, 0 if noise is not present)1\n",
      "Please input label for\n",
      "sensor_id = 'b827eb429cd4'\n",
      "timestamp = 1490216897.59\n",
      "frame = 2 (1 if noise is present, 0 if noise is not present)1\n",
      "Please input label for\n",
      "sensor_id = 'b827eb44506f'\n",
      "timestamp = 1500054980.37\n",
      "frame = 5 (1 if noise is present, 0 if noise is not present)0\n",
      "Please input label for\n",
      "sensor_id = 'b827eb2a1bce'\n",
      "timestamp = 1488482096.29\n",
      "frame = 3 (1 if noise is present, 0 if noise is not present)1\n",
      "Please input label for\n",
      "sensor_id = 'b827eb0fedda'\n",
      "timestamp = 1488513156.91\n",
      "frame = 6 (1 if noise is present, 0 if noise is not present)0\n",
      "Please input label for\n",
      "sensor_id = 'b827eb86d458'\n",
      "timestamp = 1489974318.38\n",
      "frame = 8 (1 if noise is present, 0 if noise is not present)0\n",
      "Please input label for\n",
      "sensor_id = 'b827eb4e7821'\n",
      "timestamp = 1483118159.2\n",
      "frame = 3 (1 if noise is present, 0 if noise is not present)1\n",
      "Please input label for\n",
      "sensor_id = 'b827eb42bd4a'\n",
      "timestamp = 1498758894.05\n",
      "frame = 6 (1 if noise is present, 0 if noise is not present)1\n",
      "Please input label for\n",
      "sensor_id = 'b827eb32f75c'\n",
      "timestamp = 1492668794.93\n",
      "frame = 1 (1 if noise is present, 0 if noise is not present)1\n",
      "Please input label for\n",
      "sensor_id = 'b827eb5895e9'\n",
      "timestamp = 1483701503.68\n",
      "frame = 5 (1 if noise is present, 0 if noise is not present)0\n",
      "ARRAY:  [1, 1, 0, 1, 0, 0, 1, 1, 1, 0]\n",
      "Accuracy after query no. 8: 0.950000\n",
      "0.0033333333333332993\n",
      "[ 475 2573 2700 2334 1115  619 4644 1094 2469 3735]\n",
      "Please input label for\n",
      "sensor_id = 'b827eb815321'\n",
      "timestamp = 1480174763.57\n",
      "frame = 7 (1 if noise is present, 0 if noise is not present)1\n",
      "Please input label for\n",
      "sensor_id = 'b827eb122f0f'\n",
      "timestamp = 1491380940.28\n",
      "frame = 9 (1 if noise is present, 0 if noise is not present)1\n",
      "Please input label for\n",
      "sensor_id = 'b827eb42bd4a'\n",
      "timestamp = 1499030096.75\n",
      "frame = 6 (1 if noise is present, 0 if noise is not present)1\n",
      "Please input label for\n",
      "sensor_id = 'b827ebe1fe4b'\n",
      "timestamp = 1487003446.78\n",
      "frame = 9 (1 if noise is present, 0 if noise is not present)0\n",
      "Please input label for\n",
      "sensor_id = 'b827eb7b2c3e'\n",
      "timestamp = 1486036941.25\n",
      "frame = 4 (1 if noise is present, 0 if noise is not present)1\n",
      "Please input label for\n",
      "sensor_id = 'b827eb4e7821'\n",
      "timestamp = 1483313702.64\n",
      "frame = 2 (1 if noise is present, 0 if noise is not present)1\n",
      "Please input label for\n",
      "sensor_id = 'b827eb86d458'\n",
      "timestamp = 1479735198.27\n",
      "frame = 6 (1 if noise is present, 0 if noise is not present)0\n",
      "Please input label for\n",
      "sensor_id = 'b827eb2c65db'\n",
      "timestamp = 1498444536.46\n",
      "frame = 8 (1 if noise is present, 0 if noise is not present)1\n",
      "Please input label for\n",
      "sensor_id = 'b827eb539980'\n",
      "timestamp = 1495204073.39\n",
      "frame = 8 (1 if noise is present, 0 if noise is not present)0\n",
      "Please input label for\n",
      "sensor_id = 'b827eb429cd4'\n",
      "timestamp = 1488537384.26\n",
      "frame = 7 (1 if noise is present, 0 if noise is not present)1\n",
      "ARRAY:  [1, 1, 1, 0, 1, 1, 0, 1, 0, 1]\n",
      "Accuracy after query no. 9: 0.953333\n",
      "0.0033333333333334103\n",
      "[1747 8213 6795 8198 1285 3577 1814 1342 2733 3292]\n",
      "Please input label for\n",
      "sensor_id = 'b827eb32f75c'\n",
      "timestamp = 1497664554.94\n",
      "frame = 3 (1 if noise is present, 0 if noise is not present)1\n",
      "Please input label for\n",
      "sensor_id = 'b827eb4e7821'\n",
      "timestamp = 1492079308.13\n",
      "frame = 1 (1 if noise is present, 0 if noise is not present)0\n",
      "Please input label for\n",
      "sensor_id = 'b827ebc6dcc6'\n",
      "timestamp = 1481428829.14\n",
      "frame = 0 (1 if noise is present, 0 if noise is not present)0\n",
      "Please input label for\n",
      "sensor_id = 'b827eb5895e9'\n",
      "timestamp = 1482574112.6\n",
      "frame = 4 (1 if noise is present, 0 if noise is not present)0\n",
      "Please input label for\n",
      "sensor_id = 'b827eb32f75c'\n",
      "timestamp = 1499234198.07\n",
      "frame = 8 (1 if noise is present, 0 if noise is not present)0\n",
      "Please input label for\n",
      "sensor_id = 'b827ebad073b'\n",
      "timestamp = 1483144711.06\n",
      "frame = 6 (1 if noise is present, 0 if noise is not present)1\n",
      "Please input label for\n",
      "sensor_id = 'b827eb429cd4'\n",
      "timestamp = 1488395165.28\n",
      "frame = 9 (1 if noise is present, 0 if noise is not present)1\n",
      "Please input label for\n",
      "sensor_id = 'b827eb539980'\n",
      "timestamp = 1500306527.22\n",
      "frame = 1 (1 if noise is present, 0 if noise is not present)0\n",
      "Please input label for\n",
      "sensor_id = 'b827eb8e2420'\n",
      "timestamp = 1498899362.08\n",
      "frame = 3 (1 if noise is present, 0 if noise is not present)1\n",
      "Please input label for\n",
      "sensor_id = 'b827eb44506f'\n",
      "timestamp = 1500017539.32\n",
      "frame = 6 (1 if noise is present, 0 if noise is not present)1\n",
      "ARRAY:  [1, 0, 0, 0, 0, 1, 1, 0, 1, 1]\n",
      "Accuracy after query no. 10: 0.950000\n",
      "-0.0033333333333334103\n",
      "[3826 6940 3842 1389 4733  466 1485  483 1728 4780]\n",
      "Please input label for\n",
      "sensor_id = 'b827eb42bd4a'\n",
      "timestamp = 1490111359.77\n",
      "frame = 7 (1 if noise is present, 0 if noise is not present)1\n",
      "Please input label for\n",
      "sensor_id = 'b827eb8e2420'\n",
      "timestamp = 1494499109.42\n",
      "frame = 3 (1 if noise is present, 0 if noise is not present)0\n",
      "Please input label for\n",
      "sensor_id = 'b827ebdd5c38'\n",
      "timestamp = 1495815570.92\n",
      "frame = 8 (1 if noise is present, 0 if noise is not present)1\n",
      "Please input label for\n",
      "sensor_id = 'b827eb539980'\n",
      "timestamp = 1498109555.23\n",
      "frame = 5 (1 if noise is present, 0 if noise is not present)1\n",
      "Please input label for\n",
      "sensor_id = 'b827eb132382'\n",
      "timestamp = 1484616494.5\n",
      "frame = 2 (1 if noise is present, 0 if noise is not present)1\n",
      "Please input label for\n",
      "sensor_id = 'b827eb539980'\n",
      "timestamp = 1497999865.45\n",
      "frame = 1 (1 if noise is present, 0 if noise is not present)1\n",
      "Please input label for\n",
      "sensor_id = 'b827eb0fedda'\n",
      "timestamp = 1487246132.87\n",
      "frame = 7 (1 if noise is present, 0 if noise is not present)0\n",
      "Please input label for\n",
      "sensor_id = 'b827eb42bd4a'\n",
      "timestamp = 1500211878.36\n",
      "frame = 6 (1 if noise is present, 0 if noise is not present)0\n"
     ]
    },
    {
     "name": "stdout",
     "output_type": "stream",
     "text": [
      "Please input label for\n",
      "sensor_id = 'b827eb4e7821'\n",
      "timestamp = 1482671650.02\n",
      "frame = 7 (1 if noise is present, 0 if noise is not present)1\n",
      "Please input label for\n",
      "sensor_id = 'b827eb44506f'\n",
      "timestamp = 1491499177.37\n",
      "frame = 4 (1 if noise is present, 0 if noise is not present)1\n",
      "ARRAY:  [1, 0, 1, 1, 1, 1, 0, 0, 1, 1]\n",
      "Accuracy after query no. 11: 0.953333\n",
      "0.0033333333333334103\n",
      "[ 231 1405 3053 8574 1065 3897  747 3909 2932 1451]\n",
      "Please input label for\n",
      "sensor_id = 'b827eb8e2420'\n",
      "timestamp = 1499839168.08\n",
      "frame = 3 (1 if noise is present, 0 if noise is not present)1\n",
      "Please input label for\n",
      "sensor_id = 'b827eb32f75c'\n",
      "timestamp = 1492856594.58\n",
      "frame = 5 (1 if noise is present, 0 if noise is not present)1\n",
      "Please input label for\n",
      "sensor_id = 'b827eb73e772'\n",
      "timestamp = 1496499915.75\n",
      "frame = 2 (1 if noise is present, 0 if noise is not present)0\n",
      "Please input label for\n",
      "sensor_id = 'b827eb1685c7'\n",
      "timestamp = 1497285963.16\n",
      "frame = 2 (1 if noise is present, 0 if noise is not present)0\n",
      "Please input label for\n",
      "sensor_id = 'b827eb42bd4a'\n",
      "timestamp = 1499956616.38\n",
      "frame = 6 (1 if noise is present, 0 if noise is not present)1\n",
      "Please input label for\n",
      "sensor_id = 'b827eb132382'\n",
      "timestamp = 1493558616.93\n",
      "frame = 2 (1 if noise is present, 0 if noise is not present)1\n",
      "Please input label for\n",
      "sensor_id = 'b827eb4e7821'\n",
      "timestamp = 1484614236.67\n",
      "frame = 6 (1 if noise is present, 0 if noise is not present)1\n",
      "Please input label for\n",
      "sensor_id = 'b827eb429cd4'\n",
      "timestamp = 1490521899.15\n",
      "frame = 5 (1 if noise is present, 0 if noise is not present)1\n",
      "Please input label for\n",
      "sensor_id = 'b827eb539980'\n",
      "timestamp = 1498319692.16\n",
      "frame = 4 (1 if noise is present, 0 if noise is not present)1\n",
      "Please input label for\n",
      "sensor_id = 'b827ebba613d'\n",
      "timestamp = 1490516597.46\n",
      "frame = 9 (1 if noise is present, 0 if noise is not present)0\n",
      "ARRAY:  [1, 1, 0, 0, 1, 1, 1, 1, 1, 0]\n",
      "Accuracy after query no. 12: 0.950000\n",
      "-0.0033333333333334103\n",
      "[1669 8187 3188 3693 1693 7254 9490 4542 2491 1560]\n",
      "Please input label for\n",
      "sensor_id = 'b827eb132382'\n",
      "timestamp = 1490516570.45\n",
      "frame = 5 (1 if noise is present, 0 if noise is not present)0\n",
      "Please input label for\n",
      "sensor_id = 'b827eb132382'\n",
      "timestamp = 1494519401.79\n",
      "frame = 4 (1 if noise is present, 0 if noise is not present)0\n",
      "Please input label for\n",
      "sensor_id = 'b827eb815321'\n",
      "timestamp = 1482359065.79\n",
      "frame = 5 (1 if noise is present, 0 if noise is not present)1\n",
      "Please input label for\n",
      "sensor_id = 'b827eb29eb77'\n",
      "timestamp = 1498646571.81\n",
      "frame = 7 (1 if noise is present, 0 if noise is not present)0\n",
      "Please input label for\n",
      "sensor_id = 'b827eb539980'\n",
      "timestamp = 1497811558.3\n",
      "frame = 4 (1 if noise is present, 0 if noise is not present)1\n",
      "Please input label for\n",
      "sensor_id = 'b827ebba613d'\n",
      "timestamp = 1490890657.02\n",
      "frame = 7 (1 if noise is present, 0 if noise is not present)0\n",
      "Please input label for\n",
      "sensor_id = 'b827eb4e7821'\n",
      "timestamp = 1488579015.81\n",
      "frame = 4 (1 if noise is present, 0 if noise is not present)0\n",
      "Please input label for\n",
      "sensor_id = 'b827eb0fedda'\n",
      "timestamp = 1481037259.18\n",
      "frame = 5 (1 if noise is present, 0 if noise is not present)0\n",
      "Please input label for\n",
      "sensor_id = 'b827eb1685c7'\n",
      "timestamp = 1481184819.61\n",
      "frame = 6 (1 if noise is present, 0 if noise is not present)1\n",
      "Please input label for\n",
      "sensor_id = 'b827eb1685c7'\n",
      "timestamp = 1481369107.67\n",
      "frame = 7 (1 if noise is present, 0 if noise is not present)1\n",
      "ARRAY:  [0, 0, 1, 0, 1, 0, 0, 0, 1, 1]\n",
      "Accuracy after query no. 13: 0.956667\n",
      "0.00666666666666671\n",
      "[9244 6805  107 2496  992 4045 2290 4283 4325 6032]\n",
      "Please input label for\n",
      "sensor_id = 'b827eb8e2420'\n",
      "timestamp = 1496907471.45\n",
      "frame = 2 (1 if noise is present, 0 if noise is not present)0\n",
      "Please input label for\n",
      "sensor_id = 'b827eb252949'\n",
      "timestamp = 1488172528.38\n",
      "frame = 9 (1 if noise is present, 0 if noise is not present)0\n",
      "Please input label for\n",
      "sensor_id = 'b827eb86d458'\n",
      "timestamp = 1493160624.29\n",
      "frame = 4 (1 if noise is present, 0 if noise is not present)0\n",
      "Please input label for\n",
      "sensor_id = 'b827eb42bd4a'\n",
      "timestamp = 1490184584.39\n",
      "frame = 7 (1 if noise is present, 0 if noise is not present)1\n",
      "Please input label for\n",
      "sensor_id = 'b827eb44506f'\n",
      "timestamp = 1495594996.36\n",
      "frame = 8 (1 if noise is present, 0 if noise is not present)1\n",
      "Please input label for\n",
      "sensor_id = 'b827eb44506f'\n",
      "timestamp = 1496131617.43\n",
      "frame = 4 (1 if noise is present, 0 if noise is not present)0\n",
      "Please input label for\n",
      "sensor_id = 'b827eb42bd4a'\n",
      "timestamp = 1495411652.46\n",
      "frame = 5 (1 if noise is present, 0 if noise is not present)1\n",
      "Please input label for\n",
      "sensor_id = 'b827eb132382'\n",
      "timestamp = 1484032817.24\n",
      "frame = 0 (1 if noise is present, 0 if noise is not present)1\n",
      "Please input label for\n",
      "sensor_id = 'b827eb42bd4a'\n",
      "timestamp = 1489335926.75\n",
      "frame = 6 (1 if noise is present, 0 if noise is not present)1\n",
      "Please input label for\n",
      "sensor_id = 'b827eb44506f'\n",
      "timestamp = 1494465843.95\n",
      "frame = 2 (1 if noise is present, 0 if noise is not present)1\n",
      "ARRAY:  [0, 0, 0, 1, 1, 0, 1, 1, 1, 1]\n",
      "Accuracy after query no. 14: 0.956667\n",
      "0.0\n",
      "[0.96       0.96333333 0.96       0.94666667 0.96       0.93666667\n",
      " 0.94666667 0.95       0.95333333 0.95       0.95333333 0.95\n",
      " 0.95666667 0.95666667 0.         0.         0.         0.\n",
      " 0.         0.         0.         0.         0.         0.\n",
      " 0.         0.         0.         0.         0.         0.\n",
      " 0.         0.         0.         0.         0.         0.\n",
      " 0.         0.         0.         0.         0.         0.\n",
      " 0.         0.         0.         0.         0.         0.\n",
      " 0.         0.        ]\n"
     ]
    }
   ],
   "source": [
    "n_queries = 50\n",
    "n_instances = 10\n",
    "accuracy = np.zeros(n_queries)\n",
    "not_converged = True\n",
    "count = 0\n",
    "while not_converged:\n",
    "    y = []\n",
    "    query_idx, query_instance = learner.query(X_pool, n_instances=n_instances)\n",
    "    print (query_idx)\n",
    "    for i in range(n_instances):\n",
    "        IPython.display.display(decrypt_and_load_audio(audio_path, \n",
    "                                                       sensor_id[query_idx[i]],\n",
    "                                                       time_stamp[query_idx[i]], \n",
    "                                                       sample_rate=44100, \n",
    "                                                       frame=frame[query_idx[i]], \n",
    "                                                       **kwargs))\n",
    "        \n",
    "        y_new = input(\"Please input label for\\nsensor_id = '%s'\\ntimestamp = %s\\nframe = %d (1 if noise is present, 0 if noise is not present)\" % (sensor_id[query_idx[i]],time_stamp[query_idx[i]],frame[query_idx[i]]))\n",
    "        y.append(int(y_new))\n",
    "    print('ARRAY: ',y)\n",
    "    learner.teach(\n",
    "        X=X_pool[query_idx],\n",
    "        y=np.array(y).reshape(-1, )\n",
    "    )\n",
    "    X_pool = np.delete(X_pool, query_idx, axis=0)\n",
    "    id_pool = np.delete(id_pool, query_idx, axis=0)\n",
    "    print('Accuracy after query no. %d: %f' % (count+1, learner.score(x_test, y_test)))\n",
    "    accuracy[count]=learner.score(x_test, y_test)\n",
    "    print(accuracy[count]-accuracy[count-1])\n",
    "    \n",
    "    if (accuracy[count]>=accuracy[count-1] and accuracy[count]-accuracy[count-1]<0.0001) or count == n_queries-1:\n",
    "        not_converged = False\n",
    "    count = count +1\n",
    "print(accuracy)"
   ]
  },
  {
   "cell_type": "code",
   "execution_count": 88,
   "metadata": {
    "collapsed": true
   },
   "outputs": [],
   "source": [
    "pool = X_pool"
   ]
  },
  {
   "cell_type": "code",
   "execution_count": 68,
   "metadata": {
    "collapsed": true
   },
   "outputs": [],
   "source": [
    "pool = np.delete(X_pool, query_idx, axis=0)"
   ]
  },
  {
   "cell_type": "code",
   "execution_count": 89,
   "metadata": {},
   "outputs": [
    {
     "data": {
      "text/plain": [
       "(9834, 128)"
      ]
     },
     "execution_count": 89,
     "metadata": {},
     "output_type": "execute_result"
    }
   ],
   "source": [
    "pool.shape"
   ]
  },
  {
   "cell_type": "code",
   "execution_count": 90,
   "metadata": {
    "collapsed": true
   },
   "outputs": [],
   "source": [
    "import matplotlib.pyplot as plt"
   ]
  },
  {
   "cell_type": "code",
   "execution_count": 95,
   "metadata": {},
   "outputs": [
    {
     "data": {
      "image/png": "[encoded data removed]",
      "text/plain": [
       "<Figure size 432x288 with 1 Axes>"
      ]
     },
     "metadata": {},
     "output_type": "display_data"
    }
   ],
   "source": [
    "acc=[]\n",
    "for i in range(len(accuracy)):\n",
    "    if accuracy[i] > 0:\n",
    "        acc.append(accuracy[i])\n",
    "\n",
    "plt.plot(acc)\n",
    "plt.show()"
   ]
  },
  {
   "cell_type": "code",
   "execution_count": null,
   "metadata": {
    "collapsed": true
   },
   "outputs": [],
   "source": []
  },
  {
   "cell_type": "code",
   "execution_count": null,
   "metadata": {
    "collapsed": true
   },
   "outputs": [],
   "source": []
  },
  {
   "cell_type": "code",
   "execution_count": null,
   "metadata": {
    "collapsed": true
   },
   "outputs": [],
   "source": []
  },
  {
   "cell_type": "code",
   "execution_count": null,
   "metadata": {
    "collapsed": true
   },
   "outputs": [],
   "source": []
  },
  {
   "cell_type": "code",
   "execution_count": null,
   "metadata": {
    "collapsed": true
   },
   "outputs": [],
   "source": []
  }
 ],
 "metadata": {
  "kernelspec": {
   "display_name": "active_learning",
   "language": "python",
   "name": "active_learning"
  }
 },
 "nbformat": 4,
 "nbformat_minor": 2
}
