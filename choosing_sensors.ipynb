{
 "cells": [
  {
   "cell_type": "code",
   "execution_count": 2,
   "metadata": {},
   "outputs": [
    {
     "name": "stdout",
     "output_type": "stream",
     "text": [
      "[Errno 2] No such file or directory: '/scratch/yw3004/distortion_detection/'\n",
      "/scratch/yw3004/sonyc/distortion_detection\n"
     ]
    }
   ],
   "source": [
    "cd /scratch/yw3004/distortion_detection/"
   ]
  },
  {
   "cell_type": "code",
   "execution_count": 3,
   "metadata": {},
   "outputs": [
    {
     "name": "stdout",
     "output_type": "stream",
     "text": [
      "\u001b[0m\u001b[38;5;34mcluster_descriptions.csv\u001b[0m*                 \u001b[38;5;34mfeatures.h5\u001b[0m*\r\n",
      "\u001b[38;5;34mcluster_sample.pkl\u001b[0m*                       \u001b[38;5;34mmbkm.pkl\u001b[0m*\r\n",
      "\u001b[38;5;34mclusters_frames.hdf5\u001b[0m*                     run-jupyter.sbatch\r\n",
      "\u001b[38;5;34mclusters_recordings.hdf5\u001b[0m*                 slurm-4979122.out\r\n",
      "distortion_detection_preprocessing.ipynb\r\n"
     ]
    }
   ],
   "source": [
    "ls"
   ]
  },
  {
   "cell_type": "code",
   "execution_count": 1,
   "metadata": {},
   "outputs": [
    {
     "name": "stderr",
     "output_type": "stream",
     "text": [
      "/home/yw3004/miniconda3/envs/deepunet/lib/python3.6/site-packages/h5py/__init__.py:36: FutureWarning: Conversion of the second argument of issubdtype from `float` to `np.floating` is deprecated. In future, it will be treated as `np.float64 == np.dtype(float).type`.\n",
      "  from ._conv import register_converters as _register_converters\n"
     ]
    }
   ],
   "source": [
    "import h5py"
   ]
  },
  {
   "cell_type": "code",
   "execution_count": 5,
   "metadata": {},
   "outputs": [],
   "source": [
    "f = h5py.File('clusters_recordings.hdf5', 'r')"
   ]
  },
  {
   "cell_type": "code",
   "execution_count": 6,
   "metadata": {
    "collapsed": true
   },
   "outputs": [],
   "source": [
    "d = list(f.values())[0]"
   ]
  },
  {
   "cell_type": "code",
   "execution_count": 9,
   "metadata": {},
   "outputs": [
    {
     "data": {
      "text/plain": [
       "dtype([('cluster_counts', '<u4', (150,)), ('sensor_id', 'S32'), ('timestamp', '<f8')])"
      ]
     },
     "execution_count": 9,
     "metadata": {},
     "output_type": "execute_result"
    }
   ],
   "source": [
    "d.dtype"
   ]
  },
  {
   "cell_type": "code",
   "execution_count": 12,
   "metadata": {},
   "outputs": [
    {
     "data": {
      "text/plain": [
       "(2556319,)"
      ]
     },
     "execution_count": 12,
     "metadata": {},
     "output_type": "execute_result"
    }
   ],
   "source": [
    "d.shape"
   ]
  },
  {
   "cell_type": "code",
   "execution_count": 23,
   "metadata": {},
   "outputs": [
    {
     "data": {
      "text/plain": [
       "b'74da385c6855'"
      ]
     },
     "execution_count": 23,
     "metadata": {},
     "output_type": "execute_result"
    }
   ],
   "source": [
    "d[0][1]"
   ]
  },
  {
   "cell_type": "code",
   "execution_count": 24,
   "metadata": {},
   "outputs": [],
   "source": [
    "def found_sensor_id(clusters):\n",
    "    sensor_ids = {}\n",
    "    for data in d:\n",
    "        for cluster in clusters:\n",
    "            counts = data[0][cluster]\n",
    "            if counts != 0:\n",
    "                if data[1] in sensor_ids.keys():\n",
    "                    sensor_ids[data[1]] += counts \n",
    "                else: \n",
    "                    sensor_ids[data[1]] = counts\n",
    "\n",
    "    return sensor_ids"
   ]
  },
  {
   "cell_type": "code",
   "execution_count": 48,
   "metadata": {
    "collapsed": true
   },
   "outputs": [],
   "source": [
    "clusters = [11,24,25,40,49,52,60,61,75,78,94,95,124]"
   ]
  },
  {
   "cell_type": "code",
   "execution_count": 49,
   "metadata": {
    "collapsed": true
   },
   "outputs": [],
   "source": [
    "sensor_ids = found_sensor_id(clusters)"
   ]
  },
  {
   "cell_type": "code",
   "execution_count": 55,
   "metadata": {
    "collapsed": true
   },
   "outputs": [],
   "source": [
    "sensor_ids_sorted = sorted(sensor_ids.items(), key=lambda value: value[1], reverse=True)"
   ]
  },
  {
   "cell_type": "code",
   "execution_count": 56,
   "metadata": {},
   "outputs": [
    {
     "data": {
      "text/plain": [
       "[(b'b827eb2a1bce', 134798),\n",
       " (b'b827eb86d458', 133801),\n",
       " (b'b827eb0d8af7', 109388),\n",
       " (b'b827eb42bd4a', 93985),\n",
       " (b'b827eb5895e9', 87656),\n",
       " (b'b827eb429cd4', 84791),\n",
       " (b'b827eb1685c7', 84135),\n",
       " (b'b827eb815321', 78791),\n",
       " (b'b827eb122f0f', 77458),\n",
       " (b'b827ebad073b', 69736),\n",
       " (b'b827eb4e7821', 59710),\n",
       " (b'b827eb0fedda', 57343),\n",
       " (b'b827eb44506f', 54561),\n",
       " (b'b827eb9bed23', 52352),\n",
       " (b'b827eb8e2420', 51809),\n",
       " (b'b827eb132382', 46105),\n",
       " (b'b827eb73e772', 43237),\n",
       " (b'b827ebdd5c38', 40070),\n",
       " (b'b827eb9d0e7f', 39095),\n",
       " (b'b827eb252949', 35232),\n",
       " (b'b827eb32f75c', 33413),\n",
       " (b'b827ebf31214', 29351),\n",
       " (b'b827eb3bda47', 28693),\n",
       " (b'b827eb539980', 26937),\n",
       " (b'b827eb820cfe', 25660),\n",
       " (b'b827eb4cc22e', 24818),\n",
       " (b'b827eb29eb77', 23767),\n",
       " (b'b827ebb40450', 21778),\n",
       " (b'b827eb905497', 21153),\n",
       " (b'b827ebc6dcc6', 20737),\n",
       " (b'b827eb2c65db', 20226),\n",
       " (b'b827ebe1fe4b', 15623),\n",
       " (b'b827eb7b2c3e', 14079),\n",
       " (b'b827ebba613d', 12427),\n",
       " (b'74da385c687d', 2766),\n",
       " (b'74da385c684f', 782),\n",
       " (b'74da385c683d', 379),\n",
       " (b'0013ef6b0a0f', 52),\n",
       " (b'74da385c6855', 23),\n",
       " (b'74da383b5ca4', 18),\n",
       " (b'b827ebfd616c', 15),\n",
       " (b'b827ebc7f772', 2)]"
      ]
     },
     "execution_count": 56,
     "metadata": {},
     "output_type": "execute_result"
    }
   ],
   "source": [
    "sensor_ids_sorted"
   ]
  },
  {
   "cell_type": "code",
   "execution_count": 54,
   "metadata": {},
   "outputs": [
    {
     "data": {
      "text/plain": [
       "1756752"
      ]
     },
     "execution_count": 54,
     "metadata": {},
     "output_type": "execute_result"
    }
   ],
   "source": [
    "sum(sensor_ids.values())"
   ]
  },
  {
   "cell_type": "code",
   "execution_count": 25,
   "metadata": {},
   "outputs": [],
   "source": [
    "features = h5py.File('features.h5', 'r')"
   ]
  },
  {
   "cell_type": "code",
   "execution_count": 26,
   "metadata": {},
   "outputs": [],
   "source": [
    "d_features = list(features.values())[0]"
   ]
  },
  {
   "cell_type": "code",
   "execution_count": 27,
   "metadata": {},
   "outputs": [
    {
     "data": {
      "text/plain": [
       "dtype([('path', 'S96'), ('identifier', 'S32'), ('features_z', 'u1', (10, 128))])"
      ]
     },
     "execution_count": 27,
     "metadata": {},
     "output_type": "execute_result"
    }
   ],
   "source": [
    "d_features[0].dtype"
   ]
  },
  {
   "cell_type": "code",
   "execution_count": 43,
   "metadata": {},
   "outputs": [
    {
     "data": {
      "text/plain": [
       "b'b827eb44506f_1501530738.53'"
      ]
     },
     "execution_count": 43,
     "metadata": {},
     "output_type": "execute_result"
    }
   ],
   "source": [
    "d_features[300000][1]"
   ]
  },
  {
   "cell_type": "code",
   "execution_count": 24,
   "metadata": {},
   "outputs": [
    {
     "data": {
      "text/plain": [
       "b'/scratch/mc6591/sonyc/features/sonycnode-b827ebb40450.sonyc/2017-01-17.hdf5'"
      ]
     },
     "execution_count": 24,
     "metadata": {},
     "output_type": "execute_result"
    }
   ],
   "source": [
    "d_features[0][0]"
   ]
  },
  {
   "cell_type": "code",
   "execution_count": 29,
   "metadata": {},
   "outputs": [
    {
     "data": {
      "text/plain": [
       "(5036582,)"
      ]
     },
     "execution_count": 29,
     "metadata": {},
     "output_type": "execute_result"
    }
   ],
   "source": [
    "d_features.shape"
   ]
  },
  {
   "cell_type": "code",
   "execution_count": null,
   "metadata": {},
   "outputs": [],
   "source": []
  }
 ],
 "metadata": {
  "kernelspec": {
   "display_name": "Python 3",
   "language": "python",
   "name": "python3"
  },
  "language_info": {
   "codemirror_mode": {
    "name": "ipython",
    "version": 3
   },
   "file_extension": ".py",
   "mimetype": "text/x-python",
   "name": "python",
   "nbconvert_exporter": "python",
   "pygments_lexer": "ipython3",
   "version": "3.6.4"
  }
 },
 "nbformat": 4,
 "nbformat_minor": 2
}
