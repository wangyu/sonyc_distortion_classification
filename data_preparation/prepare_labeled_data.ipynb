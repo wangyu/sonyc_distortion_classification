{
 "cells": [
  {
   "cell_type": "code",
   "execution_count": 2,
   "metadata": {},
   "outputs": [],
   "source": [
    "import pickle\n",
    "import h5py as h5\n",
    "import numpy as np\n",
    "import sklearn\n",
    "import modAL\n",
    "from modAL.models import ActiveLearner\n",
    "from sklearn.ensemble import RandomForestClassifier\n",
    "import collections\n",
    "import csv"
   ]
  },
  {
   "cell_type": "code",
   "execution_count": 46,
   "metadata": {},
   "outputs": [],
   "source": [
    "with (open(\"/scratch/yw3004/sonyc/sonyc_distortion_classification/data/features.pickle\", \"rb\")) as openfile:\n",
    "    alldata= pickle.load(openfile)"
   ]
  },
  {
   "cell_type": "code",
   "execution_count": 47,
   "metadata": {},
   "outputs": [],
   "source": [
    "elements = 0\n",
    "for sensor in alldata.keys():\n",
    "    elements += len(list(alldata[sensor].values()))"
   ]
  },
  {
   "cell_type": "code",
   "execution_count": 48,
   "metadata": {},
   "outputs": [
    {
     "data": {
      "text/plain": [
       "2556316"
      ]
     },
     "execution_count": 48,
     "metadata": {},
     "output_type": "execute_result"
    }
   ],
   "source": [
    "elements"
   ]
  },
  {
   "cell_type": "markdown",
   "metadata": {},
   "source": [
    "## Read positive samples file ##"
   ]
  },
  {
   "cell_type": "code",
   "execution_count": 44,
   "metadata": {},
   "outputs": [],
   "source": [
    "with (open(\"/scratch/yw3004/sonyc/sonyc_distortion_classification/data/positive_samples.pickle\", \"rb\")) as openfile:\n",
    "    while True:\n",
    "        try:\n",
    "            positive_samples= pickle.load(openfile)\n",
    "        except EOFError:\n",
    "            break"
   ]
  },
  {
   "cell_type": "code",
   "execution_count": 90,
   "metadata": {},
   "outputs": [
    {
     "data": {
      "text/plain": [
       "{'b827eb429cd4': ['1489667630.26', '1488810598.15'],\n",
       " 'b827eb5895e9': ['1490690898.85', '1484690200.69'],\n",
       " 'b827eb0d8af7': ['1484697864.54', '1484651228.29'],\n",
       " 'b827eb122f0f': ['1498892374.76', '1498261062.11'],\n",
       " 'b827eb86d458': ['1484713418.23', '1484700558.36'],\n",
       " 'b827eb0fedda': ['1497928649.89', '1480740512.58'],\n",
       " 'b827eb8e2420': ['1500149760.47', '1489721873.46'],\n",
       " 'b827eb1685c7': ['1499724045.58', '1486212620.04'],\n",
       " 'b827eb815321': ['1482308965.46', '1482399908.63'],\n",
       " 'b827eb9bed23': ['1491297344.73', '1488939279.51'],\n",
       " 'b827eb44506f': ['1486149582.98', '1499473078.4'],\n",
       " 'b827eb4e7821': ['1483014176.71', '1483015339.86'],\n",
       " 'b827eb2a1bce': ['1484666103.12', '1484674054.82'],\n",
       " 'b827ebad073b': ['1480303515.84', '1496649071.15'],\n",
       " 'b827eb42bd4a': ['1490014066.52', '1490032278.74']}"
      ]
     },
     "execution_count": 90,
     "metadata": {},
     "output_type": "execute_result"
    }
   ],
   "source": [
    "positive_samples"
   ]
  },
  {
   "cell_type": "markdown",
   "metadata": {},
   "source": [
    "### Get positive samples from features dict ###"
   ]
  },
  {
   "cell_type": "code",
   "execution_count": 91,
   "metadata": {
    "scrolled": true
   },
   "outputs": [],
   "source": [
    "totalPositiveEmbedding = np.empty([1,128], dtype=int)\n",
    "all_sensors = []\n",
    "timestamp = []\n",
    "frame = []\n",
    "for sensor_id in positive_samples.keys():\n",
    "    for time_stamp in positive_samples[sensor_id]:\n",
    "        if sensor_id in alldata.keys():\n",
    "            if time_stamp in alldata[sensor_id].keys():\n",
    "                embedding = alldata[sensor_id][time_stamp]\n",
    "                totalPositiveEmbedding = np.vstack((totalPositiveEmbedding, embedding))\n",
    "                for i in range(embedding.shape[0]):\n",
    "                    all_sensors.append(sensor_id)\n",
    "                    timestamp.append(time_stamp)\n",
    "                    frame.append(i)                    \n",
    "                    \n",
    "totalPositiveEmbedding =np.delete(totalPositiveEmbedding, 0, 0) # remove the first dummy 128 embedding"
   ]
  },
  {
   "cell_type": "code",
   "execution_count": 92,
   "metadata": {},
   "outputs": [
    {
     "data": {
      "text/plain": [
       "(300, 128)"
      ]
     },
     "execution_count": 92,
     "metadata": {},
     "output_type": "execute_result"
    }
   ],
   "source": [
    "totalPositiveEmbedding.shape"
   ]
  },
  {
   "cell_type": "code",
   "execution_count": 93,
   "metadata": {},
   "outputs": [],
   "source": [
    "# add the positive label, 1\n",
    "positive_xy = np.insert(totalPositiveEmbedding, 128, 1, axis=1)"
   ]
  },
  {
   "cell_type": "code",
   "execution_count": 94,
   "metadata": {},
   "outputs": [],
   "source": [
    "sensors = np.array(all_sensors)\n",
    "timestamp = np.array(timestamp)\n",
    "frames = np.array(frame)"
   ]
  },
  {
   "cell_type": "code",
   "execution_count": 95,
   "metadata": {},
   "outputs": [],
   "source": [
    "sensors = sensors.reshape((-1, 1))\n",
    "timestamp = timestamp.reshape((-1,1))\n",
    "frames = frames.reshape((-1,1))"
   ]
  },
  {
   "cell_type": "code",
   "execution_count": 100,
   "metadata": {},
   "outputs": [],
   "source": [
    "positive_xy = np.concatenate((positive_xy,sensors),axis=1)\n",
    "positive_xy = np.concatenate((positive_xy,timestamp),axis=1)\n",
    "positive_xy = np.concatenate((positive_xy,frames),axis=1)"
   ]
  },
  {
   "cell_type": "code",
   "execution_count": 103,
   "metadata": {},
   "outputs": [
    {
     "data": {
      "text/plain": [
       "(300, 132)"
      ]
     },
     "execution_count": 103,
     "metadata": {},
     "output_type": "execute_result"
    }
   ],
   "source": [
    "positive_xy.shape"
   ]
  },
  {
   "cell_type": "code",
   "execution_count": 104,
   "metadata": {},
   "outputs": [
    {
     "data": {
      "text/plain": [
       "array([['145', '10', '124', ..., 'b827eb429cd4', '1489667630.26', '0'],\n",
       "       ['151', '20', '126', ..., 'b827eb429cd4', '1489667630.26', '1'],\n",
       "       ['152', '17', '120', ..., 'b827eb429cd4', '1489667630.26', '2'],\n",
       "       ...,\n",
       "       ['160', '20', '161', ..., 'b827eb42bd4a', '1490032278.74', '7'],\n",
       "       ['154', '20', '139', ..., 'b827eb42bd4a', '1490032278.74', '8'],\n",
       "       ['154', '21', '130', ..., 'b827eb42bd4a', '1490032278.74', '9']],\n",
       "      dtype='<U21')"
      ]
     },
     "execution_count": 104,
     "metadata": {},
     "output_type": "execute_result"
    }
   ],
   "source": [
    "positive_xy"
   ]
  },
  {
   "cell_type": "code",
   "execution_count": 105,
   "metadata": {},
   "outputs": [],
   "source": [
    "with open(\"/scratch/yw3004/sonyc/sonyc_distortion_classification/data/positive_xy_allInfo.pickle\", 'wb') as pfile:\n",
    "    pickle.dump(positive_xy, pfile, protocol=pickle.HIGHEST_PROTOCOL)"
   ]
  },
  {
   "cell_type": "markdown",
   "metadata": {},
   "source": [
    "## Read negative samples file ##"
   ]
  },
  {
   "cell_type": "code",
   "execution_count": 113,
   "metadata": {},
   "outputs": [],
   "source": [
    "negativeCsvData = {}\n",
    "with open('/scratch/yw3004/sonyc/sonyc_distortion_classification/data/Sensor_data_negative.csv') as csvfile:\n",
    "    Sensor_data_positive = csv.reader(csvfile, skipinitialspace=True, delimiter=' ')\n",
    "    csvrow = -1\n",
    "    for row in Sensor_data_positive:\n",
    "        if csvrow != -1: # skip the first row\n",
    "            sid = row[0].split(',')[0]\n",
    "            ts  = row[0].split(',')[1]\n",
    "            if sid in negativeCsvData.keys():\n",
    "                negativeCsvData[sid].append(ts)\n",
    "            else:\n",
    "                negativeCsvData[sid] = []\n",
    "                negativeCsvData[sid].append(ts)\n",
    "        csvrow += 1   "
   ]
  },
  {
   "cell_type": "code",
   "execution_count": 114,
   "metadata": {},
   "outputs": [
    {
     "name": "stdout",
     "output_type": "stream",
     "text": [
      "<class 'dict'>\n",
      "15\n",
      "['1491211362.82_5', '1491800203.12_8', '1482424939.17_1', '1498868810.69_4', '1488993967.2_1', '1492066899.36_6', '1484297539.06_6', '1490406200.26_1', '1494789341.92_4', '1490926970.82_4', '1488422336.29_2', '1488377458.61_6', '1486479347.85_4', '1483636861.26_6', '1484122883.92_3', '1487404654.04_8', '1492186534.34_2', '1493876183.72_2', '1483134229.53_1', '1491421469.99_7']\n"
     ]
    }
   ],
   "source": [
    "print(type(negativeCsvData))\n",
    "print(len(negativeCsvData))\n",
    "print(negativeCsvData['b827eb4e7821'])"
   ]
  },
  {
   "cell_type": "code",
   "execution_count": 119,
   "metadata": {},
   "outputs": [],
   "source": [
    "totalNegativeEmbedding = np.empty([1,128], dtype=int)\n",
    "neg_sensors = []\n",
    "neg_timestamp = []\n",
    "neg_frame = []\n",
    "for sensorid in negativeCsvData.keys():\n",
    "    for timestamp in negativeCsvData[sensorid]:\n",
    "        if sensorid in alldata.keys():\n",
    "            timestamp_div = timestamp.split('_')[0]\n",
    "            embedding_index = timestamp.split('_')[1]\n",
    "            if timestamp_div in alldata[sensorid]:\n",
    "                one_negative_embedding = alldata[sensorid][timestamp_div][int(embedding_index)]\n",
    "                totalNegativeEmbedding = np.vstack((totalNegativeEmbedding, one_negative_embedding))\n",
    "                neg_sensors.append(sensorid)\n",
    "                neg_timestamp.append(timestamp_div)\n",
    "                neg_frame.append(embedding_index)\n",
    "totalNegativeEmbedding =np.delete(totalNegativeEmbedding, 0, 0) # remove the first dummy 128 embedding"
   ]
  },
  {
   "cell_type": "code",
   "execution_count": 120,
   "metadata": {},
   "outputs": [],
   "source": [
    "# add the negative label, 0\n",
    "negative_xy = np.insert(totalNegativeEmbedding, 128, 0, axis=1)"
   ]
  },
  {
   "cell_type": "code",
   "execution_count": 123,
   "metadata": {},
   "outputs": [],
   "source": [
    "neg_sensors = np.array(neg_sensors)\n",
    "neg_timestamps = np.array(neg_timestamp)\n",
    "neg_frames = np.array(neg_frame)"
   ]
  },
  {
   "cell_type": "code",
   "execution_count": 124,
   "metadata": {},
   "outputs": [],
   "source": [
    "neg_sensors = neg_sensors.reshape((-1, 1))\n",
    "neg_timestamps = neg_timestamps.reshape((-1,1))\n",
    "neg_frames = neg_frames.reshape((-1,1))"
   ]
  },
  {
   "cell_type": "code",
   "execution_count": 125,
   "metadata": {},
   "outputs": [
    {
     "data": {
      "text/plain": [
       "(300, 1)"
      ]
     },
     "execution_count": 125,
     "metadata": {},
     "output_type": "execute_result"
    }
   ],
   "source": [
    "neg_sensors.shape"
   ]
  },
  {
   "cell_type": "code",
   "execution_count": 126,
   "metadata": {},
   "outputs": [],
   "source": [
    "negative_xy = np.concatenate((negative_xy,neg_sensors),axis=1)\n",
    "negative_xy = np.concatenate((negative_xy,neg_timestamps),axis=1)\n",
    "negative_xy = np.concatenate((negative_xy,neg_frames),axis=1)"
   ]
  },
  {
   "cell_type": "code",
   "execution_count": 131,
   "metadata": {},
   "outputs": [
    {
     "data": {
      "text/plain": [
       "array([['146', '14', '129', ..., 'b827eb4e7821', '1491211362.82', '5'],\n",
       "       ['154', '30', '171', ..., 'b827eb4e7821', '1491800203.12', '8'],\n",
       "       ['153', '25', '150', ..., 'b827eb4e7821', '1482424939.17', '1'],\n",
       "       ...,\n",
       "       ['158', '29', '166', ..., 'b827eb9bed23', '1495680055.31', '8'],\n",
       "       ['153', '25', '146', ..., 'b827eb9bed23', '1499458546.46', '6'],\n",
       "       ['153', '25', '152', ..., 'b827eb9bed23', '1496413283.32', '2']],\n",
       "      dtype='<U21')"
      ]
     },
     "execution_count": 131,
     "metadata": {},
     "output_type": "execute_result"
    }
   ],
   "source": [
    "negative_xy"
   ]
  },
  {
   "cell_type": "code",
   "execution_count": 135,
   "metadata": {},
   "outputs": [],
   "source": [
    "with open(\"/scratch/yw3004/sonyc/sonyc_distortion_classification/data/negative_xy_allInfo.pickle\", 'wb') as pfile:\n",
    "    pickle.dump(negative_xy, pfile, protocol=pickle.HIGHEST_PROTOCOL)"
   ]
  }
 ],
 "metadata": {
  "kernelspec": {
   "display_name": "active_learning",
   "language": "python",
   "name": "active_learning"
  },
  "language_info": {
   "codemirror_mode": {
    "name": "ipython",
    "version": 3
   },
   "file_extension": ".py",
   "mimetype": "text/x-python",
   "name": "python",
   "nbconvert_exporter": "python",
   "pygments_lexer": "ipython3",
   "version": "3.6.5"
  }
 },
 "nbformat": 4,
 "nbformat_minor": 2
}
