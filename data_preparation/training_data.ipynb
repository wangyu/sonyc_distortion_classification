{
 "cells": [
  {
   "cell_type": "code",
   "execution_count": 7,
   "metadata": {},
   "outputs": [],
   "source": [
    "import pickle\n",
    "import h5py as h5\n",
    "import numpy as np\n",
    "import sklearn\n",
    "import modAL\n",
    "from modAL.models import ActiveLearner\n",
    "from sklearn.ensemble import RandomForestClassifier\n",
    "import collections\n",
    "import csv"
   ]
  },
  {
   "cell_type": "code",
   "execution_count": 5,
   "metadata": {},
   "outputs": [],
   "source": [
    "features = h5.File('/scratch/yw3004/sonyc/sonyc_distortion_classification/_old_features.h5', 'r')\n",
    "d_features = list(features.values())[0]"
   ]
  },
  {
   "cell_type": "code",
   "execution_count": 6,
   "metadata": {},
   "outputs": [
    {
     "data": {
      "text/plain": [
       "dtype([('path', 'S96'), ('identifier', 'S32'), ('features_z', 'u1', (10, 128))])"
      ]
     },
     "execution_count": 6,
     "metadata": {},
     "output_type": "execute_result"
    }
   ],
   "source": [
    "d_features.dtype"
   ]
  },
  {
   "cell_type": "markdown",
   "metadata": {
    "collapsed": true
   },
   "source": [
    "# 1. Read H5 features files #"
   ]
  },
  {
   "cell_type": "code",
   "execution_count": 8,
   "metadata": {},
   "outputs": [],
   "source": [
    "f = h5.File('/scratch/yw3004/sonyc/sonyc_distortion_classification/_old_features.h5')"
   ]
  },
  {
   "cell_type": "code",
   "execution_count": 14,
   "metadata": {},
   "outputs": [
    {
     "data": {
      "text/plain": [
       "(10, 128)"
      ]
     },
     "execution_count": 14,
     "metadata": {},
     "output_type": "execute_result"
    }
   ],
   "source": [
    "f['features'][0][2].shape"
   ]
  },
  {
   "cell_type": "code",
   "execution_count": 15,
   "metadata": {},
   "outputs": [],
   "source": [
    "sensor_id = []\n",
    "time_stamp = []\n",
    "features = []\n",
    "for i in range(len(f['features'])):\n",
    "    sensor_timestamp = f['features'][i][1]\n",
    "    if len(sensor_timestamp.decode(\"utf-8\").split('_')) ==1:\n",
    "        sensor_id.append(sensor_timestamp.decode(\"utf-8\").split('-')[0])\n",
    "        time_stamp.append(sensor_timestamp.decode(\"utf-8\").split('-')[1])\n",
    "    else:     \n",
    "        sensor_id.append(sensor_timestamp.decode(\"utf-8\").split('_')[0])\n",
    "        time_stamp.append(sensor_timestamp.decode(\"utf-8\").split('_')[1])\n",
    "    features.append(f['features'][i][2])"
   ]
  },
  {
   "cell_type": "markdown",
   "metadata": {},
   "source": [
    "## 1. 1. Put data in dictionary ##"
   ]
  },
  {
   "cell_type": "code",
   "execution_count": 63,
   "metadata": {
    "collapsed": true
   },
   "outputs": [],
   "source": [
    "alldata = collections.defaultdict(dict)\n",
    "for i in range(len(sensor_id)):\n",
    "    alldata[sensor_id[i]][time_stamp[i]] = features[i]"
   ]
  },
  {
   "cell_type": "code",
   "execution_count": 1,
   "metadata": {},
   "outputs": [
    {
     "ename": "NameError",
     "evalue": "name 'alldata' is not defined",
     "output_type": "error",
     "traceback": [
      "\u001b[0;31m---------------------------------------------------------------------------\u001b[0m",
      "\u001b[0;31mNameError\u001b[0m                                 Traceback (most recent call last)",
      "\u001b[0;32m<ipython-input-1-1b2be9bf3217>\u001b[0m in \u001b[0;36m<module>\u001b[0;34m()\u001b[0m\n\u001b[0;32m----> 1\u001b[0;31m \u001b[0malldata\u001b[0m\u001b[0;34m.\u001b[0m\u001b[0mkeys\u001b[0m\u001b[0;34m(\u001b[0m\u001b[0;34m)\u001b[0m\u001b[0;34m\u001b[0m\u001b[0m\n\u001b[0m",
      "\u001b[0;31mNameError\u001b[0m: name 'alldata' is not defined"
     ]
    }
   ],
   "source": [
    "alldata.keys()"
   ]
  },
  {
   "cell_type": "code",
   "execution_count": 65,
   "metadata": {},
   "outputs": [
    {
     "data": {
      "text/plain": [
       "dict_keys(['1484629333.39', '1486275276.49', '1486270823.64', '1484456868.87', '1484456462.61', '1484506256.94', '1485061248.92', '1485107944.57', '1485062169.07', '1485105300.84', '1484370845.88', '1484377939.68', '1484370025.38', '1484377520.33', '1484802567.76', '1484811876.07', '1484802064.4', '1484812312.72', '1484715649.85', '1485320440.89', '1485397215.11', '1485493226.56', '1485982646.26', '1484888890.45', '1484888476.2', '1484974865.71', '1485249454.09', '1485241169.45', '1485255027.89'])"
      ]
     },
     "execution_count": 65,
     "metadata": {},
     "output_type": "execute_result"
    }
   ],
   "source": [
    "alldata['74da385c6855'].keys()"
   ]
  },
  {
   "cell_type": "markdown",
   "metadata": {},
   "source": [
    "## 1.2. Put dictionary into pickle file (not working!!) ##"
   ]
  },
  {
   "cell_type": "code",
   "execution_count": 66,
   "metadata": {},
   "outputs": [
    {
     "ename": "OSError",
     "evalue": "[Errno 22] Invalid argument",
     "output_type": "error",
     "traceback": [
      "\u001b[0;31m---------------------------------------------------------------------------\u001b[0m",
      "\u001b[0;31mOSError\u001b[0m                                   Traceback (most recent call last)",
      "\u001b[0;32m<ipython-input-66-43b9077b7ff2>\u001b[0m in \u001b[0;36m<module>\u001b[0;34m()\u001b[0m\n\u001b[1;32m      1\u001b[0m \u001b[0;32mwith\u001b[0m \u001b[0mopen\u001b[0m\u001b[0;34m(\u001b[0m\u001b[0;34m\"features.pickle\"\u001b[0m\u001b[0;34m,\u001b[0m \u001b[0;34m'wb'\u001b[0m\u001b[0;34m)\u001b[0m \u001b[0;32mas\u001b[0m \u001b[0mpfile\u001b[0m\u001b[0;34m:\u001b[0m\u001b[0;34m\u001b[0m\u001b[0m\n\u001b[0;32m----> 2\u001b[0;31m     \u001b[0mpickle\u001b[0m\u001b[0;34m.\u001b[0m\u001b[0mdump\u001b[0m\u001b[0;34m(\u001b[0m\u001b[0malldata\u001b[0m\u001b[0;34m,\u001b[0m \u001b[0mpfile\u001b[0m\u001b[0;34m,\u001b[0m \u001b[0mprotocol\u001b[0m\u001b[0;34m=\u001b[0m\u001b[0mpickle\u001b[0m\u001b[0;34m.\u001b[0m\u001b[0mHIGHEST_PROTOCOL\u001b[0m\u001b[0;34m)\u001b[0m\u001b[0;34m\u001b[0m\u001b[0m\n\u001b[0m",
      "\u001b[0;31mOSError\u001b[0m: [Errno 22] Invalid argument"
     ]
    }
   ],
   "source": [
    "with open(\"features.pickle\", 'wb') as pfile:\n",
    "    pickle.dump(alldata, pfile, protocol=pickle.HIGHEST_PROTOCOL)"
   ]
  },
  {
   "cell_type": "code",
   "execution_count": 47,
   "metadata": {
    "collapsed": true
   },
   "outputs": [],
   "source": [
    "# alldata_dict = collections.defaultdict(dict)\n",
    "with (open(\"features.pickle\", \"rb\")) as openfile:\n",
    "    while True:\n",
    "        try:\n",
    "            alldata_dict= pickle.load(openfile)\n",
    "        except EOFError:\n",
    "            break"
   ]
  },
  {
   "cell_type": "markdown",
   "metadata": {},
   "source": [
    "## 1.3. Read positive samples file ##"
   ]
  },
  {
   "cell_type": "code",
   "execution_count": 50,
   "metadata": {
    "collapsed": true
   },
   "outputs": [],
   "source": [
    "with (open(\"/Users/anaemendezmendez/Documents/NYU PHD/Spring 2018/Machine learning/final project/sonyc_distortion_classification/positive_samples.pickle\", \"rb\")) as openfile:\n",
    "    while True:\n",
    "        try:\n",
    "            positive_samples= pickle.load(openfile)\n",
    "        except EOFError:\n",
    "            break"
   ]
  },
  {
   "cell_type": "code",
   "execution_count": 51,
   "metadata": {},
   "outputs": [
    {
     "data": {
      "text/plain": [
       "{'b827eb0d8af7': ['1485198017.91', '1485163671.07'],\n",
       " 'b827eb0fedda': ['1497928649.89', '1480740512.58'],\n",
       " 'b827eb122f0f': ['1498892374.76', '1498261062.11'],\n",
       " 'b827eb1685c7': ['1499724045.58', '1486212620.04'],\n",
       " 'b827eb2a1bce': ['1487029980.37', '1487018417.81'],\n",
       " 'b827eb429cd4': ['1488836836.42', '1488810598.15'],\n",
       " 'b827eb42bd4a': ['1495845294.38', '1495820507.31'],\n",
       " 'b827eb44506f': ['1486149582.98', '1499473078.4'],\n",
       " 'b827eb4e7821': ['1483014176.71', '1483015339.86'],\n",
       " 'b827eb5895e9': ['1490690898.85', '1490686108.53'],\n",
       " 'b827eb815321': ['1482308965.46', '1482399908.63'],\n",
       " 'b827eb86d458': ['1487000875.51', '1487028598.04'],\n",
       " 'b827eb8e2420': ['1500149760.47', '1500173615.97'],\n",
       " 'b827eb9bed23': ['1491297344.73', '1491323380.55'],\n",
       " 'b827ebad073b': ['1480303515.84', '1480297488.98']}"
      ]
     },
     "execution_count": 51,
     "metadata": {},
     "output_type": "execute_result"
    }
   ],
   "source": [
    "positive_samples"
   ]
  },
  {
   "cell_type": "markdown",
   "metadata": {},
   "source": [
    "### 1.3.1. Get positive samples from features dict ###"
   ]
  },
  {
   "cell_type": "code",
   "execution_count": 198,
   "metadata": {
    "scrolled": true
   },
   "outputs": [
    {
     "name": "stdout",
     "output_type": "stream",
     "text": [
      "b827eb429cd4\n",
      "b827eb5895e9\n",
      "b827eb122f0f\n",
      "b827eb122f0f\n",
      "b827eb0fedda\n",
      "b827eb0fedda\n",
      "b827eb8e2420\n",
      "b827eb1685c7\n",
      "b827eb1685c7\n",
      "b827eb815321\n",
      "b827eb815321\n",
      "b827eb9bed23\n",
      "b827eb44506f\n",
      "b827eb44506f\n",
      "b827eb4e7821\n",
      "b827eb4e7821\n",
      "b827ebad073b\n"
     ]
    }
   ],
   "source": [
    "totalPositiveEmbedding = np.empty([1,128], dtype=int)\n",
    "all_sensors = []\n",
    "timestamp = []\n",
    "frame = []\n",
    "for sensor_id in positive_samples.keys():\n",
    "    #print(sensor_id)\n",
    "    for time_stamp in positive_samples[sensor_id]:\n",
    "        #print(time_stamp)\n",
    "        if sensor_id in alldata.keys():\n",
    "            if time_stamp in alldata[sensor_id].keys():\n",
    "                print(sensor_id)\n",
    "                embedding = alldata[sensor_id][time_stamp]\n",
    "                totalPositiveEmbedding = np.vstack((totalPositiveEmbedding, embedding))\n",
    "                for i in range(embedding.shape[0]):\n",
    "                    all_sensors.append(sensor_id)\n",
    "                    timestamp.append(time_stamp)\n",
    "                    frame.append(i)                    \n",
    "                    \n",
    "totalPositiveEmbedding =np.delete(totalPositiveEmbedding, 0, 0) # remove the first dummy 128 embedding"
   ]
  },
  {
   "cell_type": "code",
   "execution_count": 199,
   "metadata": {},
   "outputs": [
    {
     "data": {
      "text/plain": [
       "(170, 128)"
      ]
     },
     "execution_count": 199,
     "metadata": {},
     "output_type": "execute_result"
    }
   ],
   "source": [
    "totalPositiveEmbedding.shape"
   ]
  },
  {
   "cell_type": "code",
   "execution_count": 200,
   "metadata": {
    "collapsed": true
   },
   "outputs": [],
   "source": [
    "# add the positive label, 1\n",
    "positive_xy = np.insert(totalPositiveEmbedding, 128, 1, axis=1)"
   ]
  },
  {
   "cell_type": "code",
   "execution_count": 201,
   "metadata": {},
   "outputs": [
    {
     "data": {
      "text/plain": [
       "['b827eb429cd4',\n",
       " 'b827eb5895e9',\n",
       " 'b827eb122f0f',\n",
       " 'b827eb122f0f',\n",
       " 'b827eb0fedda',\n",
       " 'b827eb0fedda',\n",
       " 'b827eb8e2420',\n",
       " 'b827eb1685c7',\n",
       " 'b827eb1685c7',\n",
       " 'b827eb815321',\n",
       " 'b827eb815321',\n",
       " 'b827eb9bed23',\n",
       " 'b827eb44506f',\n",
       " 'b827eb44506f',\n",
       " 'b827eb4e7821',\n",
       " 'b827eb4e7821',\n",
       " 'b827ebad073b']"
      ]
     },
     "execution_count": 201,
     "metadata": {},
     "output_type": "execute_result"
    }
   ],
   "source": [
    "all_sensors"
   ]
  },
  {
   "cell_type": "code",
   "execution_count": 205,
   "metadata": {
    "collapsed": true
   },
   "outputs": [],
   "source": [
    "\"\"\"sensorid = []\n",
    "cnt=0\n",
    "for i in range(positive_xy.shape[0]):\n",
    "    if np.mod(i,10)==0:\n",
    "        sensorid.append(all_sensors[int(i/10)])\n",
    "        cnt = cnt+1\n",
    "    else:\n",
    "        sensorid.append(all_sensors[cnt-1])\"\"\"\n",
    "        "
   ]
  },
  {
   "cell_type": "code",
   "execution_count": 233,
   "metadata": {
    "collapsed": true
   },
   "outputs": [],
   "source": [
    "sensors = np.array(all_sensors)\n",
    "timestamp = np.array(timestamp)\n",
    "frames = np.array(frame)"
   ]
  },
  {
   "cell_type": "code",
   "execution_count": 234,
   "metadata": {
    "collapsed": true
   },
   "outputs": [],
   "source": [
    "sensors = sensors.reshape((-1, 1))\n",
    "timestamp = timestamp.reshape((-1,1))\n",
    "frames = frames.reshape((-1,1))"
   ]
  },
  {
   "cell_type": "code",
   "execution_count": 236,
   "metadata": {},
   "outputs": [
    {
     "data": {
      "text/plain": [
       "(170, 1)"
      ]
     },
     "execution_count": 236,
     "metadata": {},
     "output_type": "execute_result"
    }
   ],
   "source": [
    "sensors.shape"
   ]
  },
  {
   "cell_type": "code",
   "execution_count": null,
   "metadata": {
    "collapsed": true
   },
   "outputs": [],
   "source": [
    "timestamp.shape"
   ]
  },
  {
   "cell_type": "code",
   "execution_count": null,
   "metadata": {
    "collapsed": true
   },
   "outputs": [],
   "source": [
    "frames.shape"
   ]
  },
  {
   "cell_type": "code",
   "execution_count": 235,
   "metadata": {},
   "outputs": [
    {
     "data": {
      "text/plain": [
       "(170, 129)"
      ]
     },
     "execution_count": 235,
     "metadata": {},
     "output_type": "execute_result"
    }
   ],
   "source": [
    "positive_xy.shape"
   ]
  },
  {
   "cell_type": "code",
   "execution_count": 238,
   "metadata": {
    "collapsed": true
   },
   "outputs": [],
   "source": [
    "positive_xy = np.concatenate((positive_xy,sensors),axis=1)\n",
    "positive_xy = np.concatenate((positive_xy,timestamp),axis=1)\n",
    "positive_xy = np.concatenate((positive_xy,frames),axis=1)"
   ]
  },
  {
   "cell_type": "code",
   "execution_count": 239,
   "metadata": {},
   "outputs": [
    {
     "data": {
      "text/plain": [
       "(170, 130)"
      ]
     },
     "execution_count": 239,
     "metadata": {},
     "output_type": "execute_result"
    }
   ],
   "source": [
    "positive_xy.shape"
   ]
  },
  {
   "cell_type": "code",
   "execution_count": 240,
   "metadata": {},
   "outputs": [
    {
     "data": {
      "text/plain": [
       "array([['153', '17', '128', ..., '255', '1', 'b827eb429cd4'],\n",
       "       ['150', '19', '127', ..., '255', '1', 'b827eb429cd4'],\n",
       "       ['155', '18', '126', ..., '255', '1', 'b827eb429cd4'],\n",
       "       ..., \n",
       "       ['159', '22', '141', ..., '255', '1', 'b827ebad073b'],\n",
       "       ['157', '19', '152', ..., '255', '1', 'b827ebad073b'],\n",
       "       ['158', '16', '155', ..., '255', '1', 'b827ebad073b']],\n",
       "      dtype='<U21')"
      ]
     },
     "execution_count": 240,
     "metadata": {},
     "output_type": "execute_result"
    }
   ],
   "source": [
    "positive_xy"
   ]
  },
  {
   "cell_type": "markdown",
   "metadata": {},
   "source": [
    "### 1.3.2. Get missing positive examples  ###"
   ]
  },
  {
   "cell_type": "code",
   "execution_count": 85,
   "metadata": {
    "collapsed": true
   },
   "outputs": [],
   "source": [
    "totalPositiveEmbedding2 = np.empty([1,128], dtype=int)"
   ]
  },
  {
   "cell_type": "code",
   "execution_count": 122,
   "metadata": {
    "collapsed": true
   },
   "outputs": [],
   "source": [
    "sensor_id = 'b827eb42bd4a'\n",
    "time_stamp = '1490032278.74'\n",
    "#new positives\n",
    "#'b827eb429cd4':'1489667630.26'\n",
    "#'b827eb5895e9': '1484690200.69'\n",
    "#'b827eb0d8af7': '1484697864.54', '1484651228.29'\n",
    "#'b827eb86d458': '1484713418.23', '1484700558.36'\n",
    "#'b827eb8e2420':  '1489721873.46'\n",
    "#'b827eb9bed23': '1488939279.51'\n",
    "#'b827eb2a1bce': '1484666103.12', '1484674054.82'\n",
    "#'b827ebad073b': '1496649071.15'\n",
    "#'b827eb42bd4a': '1490014066.52', '1490032278.74'\n",
    "embedding = alldata[sensor_id][time_stamp]"
   ]
  },
  {
   "cell_type": "code",
   "execution_count": 123,
   "metadata": {},
   "outputs": [
    {
     "data": {
      "text/plain": [
       "array([[152,  28, 143, ...,  59, 235, 255],\n",
       "       [155,  22, 136, ...,  58, 255, 255],\n",
       "       [155,  18, 144, ...,  30, 213, 255],\n",
       "       ..., \n",
       "       [160,  20, 161, ..., 109, 167, 255],\n",
       "       [154,  20, 139, ...,  58, 255, 255],\n",
       "       [154,  21, 130, ..., 103, 137, 255]], dtype=uint8)"
      ]
     },
     "execution_count": 123,
     "metadata": {},
     "output_type": "execute_result"
    }
   ],
   "source": [
    "embedding"
   ]
  },
  {
   "cell_type": "code",
   "execution_count": 124,
   "metadata": {
    "collapsed": true
   },
   "outputs": [],
   "source": [
    "totalPositiveEmbedding2 = np.vstack((totalPositiveEmbedding2, embedding))"
   ]
  },
  {
   "cell_type": "code",
   "execution_count": 125,
   "metadata": {
    "collapsed": true
   },
   "outputs": [],
   "source": [
    "totalPositiveEmbedding2 =np.delete(totalPositiveEmbedding2, 0, 0) # remove the first dummy 128 embedding"
   ]
  },
  {
   "cell_type": "code",
   "execution_count": 127,
   "metadata": {},
   "outputs": [
    {
     "data": {
      "text/plain": [
       "(130, 128)"
      ]
     },
     "execution_count": 127,
     "metadata": {},
     "output_type": "execute_result"
    }
   ],
   "source": [
    "totalPositiveEmbedding2.shape"
   ]
  },
  {
   "cell_type": "code",
   "execution_count": 128,
   "metadata": {
    "collapsed": true
   },
   "outputs": [],
   "source": [
    "positive_xy2 = np.insert(totalPositiveEmbedding2, 128, 1, axis=1)"
   ]
  },
  {
   "cell_type": "code",
   "execution_count": 129,
   "metadata": {},
   "outputs": [
    {
     "data": {
      "text/plain": [
       "(130, 129)"
      ]
     },
     "execution_count": 129,
     "metadata": {},
     "output_type": "execute_result"
    }
   ],
   "source": [
    "positive_xy2.shape"
   ]
  },
  {
   "cell_type": "code",
   "execution_count": 245,
   "metadata": {
    "collapsed": true
   },
   "outputs": [],
   "source": [
    "positive_sensors = ['b827eb429cd4','b827eb429cd4','b827eb429cd4','b827eb429cd4','b827eb429cd4','b827eb429cd4','b827eb429cd4','b827eb429cd4',\n",
    " 'b827eb429cd4','b827eb429cd4','b827eb5895e9','b827eb5895e9','b827eb5895e9','b827eb5895e9','b827eb5895e9','b827eb5895e9',\n",
    " 'b827eb5895e9','b827eb5895e9','b827eb5895e9','b827eb5895e9','b827eb0d8af7','b827eb0d8af7','b827eb0d8af7','b827eb0d8af7',\n",
    " 'b827eb0d8af7','b827eb0d8af7','b827eb0d8af7','b827eb0d8af7','b827eb0d8af7','b827eb0d8af7','b827eb0d8af7','b827eb0d8af7',\n",
    " 'b827eb0d8af7','b827eb0d8af7','b827eb0d8af7','b827eb0d8af7','b827eb0d8af7','b827eb0d8af7','b827eb0d8af7','b827eb0d8af7',\n",
    " 'b827eb86d458','b827eb86d458','b827eb86d458','b827eb86d458','b827eb86d458','b827eb86d458','b827eb86d458','b827eb86d458',\n",
    " 'b827eb86d458','b827eb86d458','b827eb86d458','b827eb86d458','b827eb86d458','b827eb86d458','b827eb86d458','b827eb86d458',\n",
    " 'b827eb86d458','b827eb86d458','b827eb86d458','b827eb86d458','b827eb8e2420','b827eb8e2420','b827eb8e2420','b827eb8e2420',\n",
    " 'b827eb8e2420','b827eb8e2420','b827eb8e2420','b827eb8e2420','b827eb8e2420','b827eb8e2420','b827eb9bed23','b827eb9bed23',\n",
    " 'b827eb9bed23','b827eb9bed23','b827eb9bed23','b827eb9bed23','b827eb9bed23','b827eb9bed23','b827eb9bed23','b827eb9bed23',\n",
    " 'b827eb2a1bce','b827eb2a1bce','b827eb2a1bce','b827eb2a1bce','b827eb2a1bce','b827eb2a1bce','b827eb2a1bce','b827eb2a1bce',\n",
    " 'b827eb2a1bce','b827eb2a1bce','b827ebad073b','b827ebad073b','b827ebad073b','b827ebad073b','b827ebad073b','b827ebad073b',\n",
    " 'b827ebad073b','b827ebad073b','b827ebad073b','b827ebad073b','b827eb42bd4a','b827eb42bd4a','b827eb42bd4a','b827eb42bd4a',\n",
    " 'b827eb42bd4a','b827eb42bd4a','b827eb42bd4a','b827eb42bd4a','b827eb42bd4a','b827eb42bd4a','b827eb42bd4a','b827eb42bd4a',\n",
    " 'b827eb42bd4a','b827eb42bd4a','b827eb42bd4a','b827eb42bd4a','b827eb42bd4a','b827eb42bd4a','b827eb42bd4a','b827eb42bd4a',\n",
    " 'b827eb42bd4a','b827eb42bd4a','b827eb42bd4a','b827eb42bd4a','b827eb42bd4a','b827eb42bd4a','b827eb42bd4a','b827eb42bd4a',\n",
    " 'b827eb42bd4a','b827eb42bd4a']"
   ]
  },
  {
   "cell_type": "code",
   "execution_count": 246,
   "metadata": {
    "collapsed": true
   },
   "outputs": [],
   "source": [
    "positive_sensors = np.array(positive_sensors)"
   ]
  },
  {
   "cell_type": "code",
   "execution_count": 247,
   "metadata": {
    "collapsed": true
   },
   "outputs": [],
   "source": [
    "positive_sensors = positive_sensors.reshape((-1, 1))"
   ]
  },
  {
   "cell_type": "code",
   "execution_count": 248,
   "metadata": {},
   "outputs": [
    {
     "data": {
      "text/plain": [
       "(130, 1)"
      ]
     },
     "execution_count": 248,
     "metadata": {},
     "output_type": "execute_result"
    }
   ],
   "source": [
    "positive_sensors.shape"
   ]
  },
  {
   "cell_type": "code",
   "execution_count": null,
   "metadata": {
    "collapsed": true
   },
   "outputs": [],
   "source": [
    "positive_timestamp = ['1489667630.26','1489667630.26','1489667630.26','1489667630.26','1489667630.26','1489667630.26','1489667630.26','1489667630.26','1489667630.26','1489667630.26',\n",
    "                      '1484690200.69','1484690200.69','1484690200.69','1484690200.69','1484690200.69','1484690200.69','1484690200.69','1484690200.69','1484690200.69','1484690200.69',\n",
    "                      '1484697864.54','1484697864.54','1484697864.54','1484697864.54','1484697864.54','1484697864.54','1484697864.54','1484697864.54','1484697864.54','1484697864.54',\n",
    "                      '1484651228.29','1484651228.29','1484651228.29','1484651228.29','1484651228.29','1484651228.29','1484651228.29','1484651228.29','1484651228.29','1484651228.29',\n",
    "                      '1484713418.23','1484713418.23','1484713418.23','1484713418.23','1484713418.23','1484713418.23','1484713418.23','1484713418.23','1484713418.23','1484713418.23',\n",
    "                      '1484700558.36','1484700558.36','1484700558.36','1484700558.36','1484700558.36','1484700558.36','1484700558.36','1484700558.36','1484700558.36','1484700558.36',\n",
    "                      '1489721873.46','1489721873.46','1489721873.46','1489721873.46','1489721873.46','1489721873.46','1489721873.46','1489721873.46','1489721873.46','1489721873.46',\n",
    "                      '1488939279.51','1488939279.51','1488939279.51','1488939279.51','1488939279.51','1488939279.51','1488939279.51','1488939279.51','1488939279.51','1488939279.51',\n",
    "                      '1484666103.12','1484666103.12','1484666103.12','1484666103.12','1484666103.12','1484666103.12','1484666103.12','1484666103.12','1484666103.12','1484666103.12',\n",
    "                      '1484674054.82','1484674054.82','1484674054.82','1484674054.82','1484674054.82','1484674054.82','1484674054.82','1484674054.82','1484674054.82','1484674054.82',\n",
    "                      '1496649071.15','1496649071.15','1496649071.15','1496649071.15','1496649071.15','1496649071.15','1496649071.15','1496649071.15','1496649071.15','1496649071.15',\n",
    "                      '1490014066.52','1490014066.52','1490014066.52','1490014066.52','1490014066.52','1490014066.52','1490014066.52','1490014066.52','1490014066.52','1490014066.52',\n",
    "                      '1490032278.74','1490032278.74','1490032278.74','1490032278.74','1490032278.74','1490032278.74','1490032278.74','1490032278.74','1490032278.74','1490032278.74']"
   ]
  },
  {
   "cell_type": "code",
   "execution_count": null,
   "metadata": {
    "collapsed": true
   },
   "outputs": [],
   "source": [
    "positive_timestamp = np.array(positive_timestamp)"
   ]
  },
  {
   "cell_type": "code",
   "execution_count": null,
   "metadata": {
    "collapsed": true
   },
   "outputs": [],
   "source": [
    "positive_timestamp = positive_timestamp.reshape((-1, 1))"
   ]
  },
  {
   "cell_type": "code",
   "execution_count": null,
   "metadata": {
    "collapsed": true
   },
   "outputs": [],
   "source": [
    "positive_timestamp.shape"
   ]
  },
  {
   "cell_type": "code",
   "execution_count": null,
   "metadata": {
    "collapsed": true
   },
   "outputs": [],
   "source": [
    "positive_frames = np.zeros(postive_timestamp.shape[0])\n",
    "cnt = 0\n",
    "for i in range(positive_frames.shape[0]):\n",
    "    if cnt==10:\n",
    "        cnt=0\n",
    "    positive_frames[i]=cnt\n",
    "    cnt=cnt+1"
   ]
  },
  {
   "cell_type": "code",
   "execution_count": null,
   "metadata": {
    "collapsed": true
   },
   "outputs": [],
   "source": [
    "positive_frames = positive_frames.reshape((-1, 1))"
   ]
  },
  {
   "cell_type": "code",
   "execution_count": null,
   "metadata": {
    "collapsed": true
   },
   "outputs": [],
   "source": [
    "positive_timestamp.shape"
   ]
  },
  {
   "cell_type": "code",
   "execution_count": null,
   "metadata": {
    "collapsed": true
   },
   "outputs": [],
   "source": [
    "positive_xy2 = np.concatenate((positive_xy2,positive_sensors),axis=1)"
   ]
  },
  {
   "cell_type": "code",
   "execution_count": null,
   "metadata": {
    "collapsed": true
   },
   "outputs": [],
   "source": [
    "positive_xy2 = np.concatenate((positive_xy2,positive_timestamp),axis=1)"
   ]
  },
  {
   "cell_type": "code",
   "execution_count": 249,
   "metadata": {
    "collapsed": true
   },
   "outputs": [],
   "source": [
    "positive_xy2 = np.concatenate((positive_xy2,positive_frames),axis=1)"
   ]
  },
  {
   "cell_type": "code",
   "execution_count": 250,
   "metadata": {
    "collapsed": true
   },
   "outputs": [],
   "source": [
    "positive_xy_def = np.concatenate((positive_xy, positive_xy2))"
   ]
  },
  {
   "cell_type": "code",
   "execution_count": 251,
   "metadata": {},
   "outputs": [
    {
     "data": {
      "text/plain": [
       "(300, 130)"
      ]
     },
     "execution_count": 251,
     "metadata": {},
     "output_type": "execute_result"
    }
   ],
   "source": [
    "positive_xy_def.shape"
   ]
  },
  {
   "cell_type": "markdown",
   "metadata": {},
   "source": [
    "### 1.3.3. Put all positive examples into pickle file ###"
   ]
  },
  {
   "cell_type": "code",
   "execution_count": 252,
   "metadata": {
    "collapsed": true
   },
   "outputs": [],
   "source": [
    "with open(\"positive_xy.pickle\", 'wb') as pfile:\n",
    "    pickle.dump(positive_xy_def, pfile, protocol=pickle.HIGHEST_PROTOCOL)"
   ]
  },
  {
   "cell_type": "code",
   "execution_count": 253,
   "metadata": {
    "collapsed": true
   },
   "outputs": [],
   "source": [
    "with (open(\"positive_xy.pickle\", \"rb\")) as openfile:\n",
    "    while True:\n",
    "        try:\n",
    "            positive_xy= pickle.load(openfile)\n",
    "        except EOFError:\n",
    "            break"
   ]
  },
  {
   "cell_type": "code",
   "execution_count": 254,
   "metadata": {},
   "outputs": [
    {
     "data": {
      "text/plain": [
       "(300, 130)"
      ]
     },
     "execution_count": 254,
     "metadata": {},
     "output_type": "execute_result"
    }
   ],
   "source": [
    "positive_xy.shape"
   ]
  },
  {
   "cell_type": "code",
   "execution_count": null,
   "metadata": {
    "collapsed": true
   },
   "outputs": [],
   "source": []
  },
  {
   "cell_type": "code",
   "execution_count": null,
   "metadata": {
    "collapsed": true
   },
   "outputs": [],
   "source": []
  },
  {
   "cell_type": "code",
   "execution_count": null,
   "metadata": {
    "collapsed": true
   },
   "outputs": [],
   "source": []
  },
  {
   "cell_type": "code",
   "execution_count": null,
   "metadata": {
    "collapsed": true
   },
   "outputs": [],
   "source": []
  },
  {
   "cell_type": "code",
   "execution_count": null,
   "metadata": {
    "collapsed": true
   },
   "outputs": [],
   "source": []
  },
  {
   "cell_type": "code",
   "execution_count": null,
   "metadata": {
    "collapsed": true
   },
   "outputs": [],
   "source": []
  },
  {
   "cell_type": "markdown",
   "metadata": {},
   "source": [
    "## 1.4. Read negative samples file ##"
   ]
  },
  {
   "cell_type": "code",
   "execution_count": 255,
   "metadata": {
    "collapsed": true
   },
   "outputs": [],
   "source": [
    "negativeCsvData = {}\n",
    "with open('/Users/anaemendezmendez/Documents/NYU PHD/Spring 2018/Machine learning/final project/Sensor_data_negative.csv') as csvfile:\n",
    "    Sensor_data_positive = csv.reader(csvfile, skipinitialspace=True, delimiter=' ')\n",
    "    csvrow = -1\n",
    "    for row in Sensor_data_positive:\n",
    "        if csvrow != -1: # skip the first row\n",
    "            sid = row[0].split(',')[0]\n",
    "            ts  = row[0].split(',')[1]\n",
    "            if sid in negativeCsvData.keys():\n",
    "                negativeCsvData[sid].append(ts)\n",
    "            else:\n",
    "                negativeCsvData[sid] = []\n",
    "                negativeCsvData[sid].append(ts)\n",
    "        csvrow += 1   "
   ]
  },
  {
   "cell_type": "code",
   "execution_count": 256,
   "metadata": {},
   "outputs": [
    {
     "name": "stdout",
     "output_type": "stream",
     "text": [
      "<class 'dict'>\n",
      "15\n",
      "['1491211362.82_5', '1491800203.12_8', '1482424939.17_1', '1498868810.69_4', '1488993967.2_1', '1492066899.36_6', '1484297539.06_6', '1490406200.26_1', '1494789341.92_4', '1490926970.82_4', '1488422336.29_2', '1488377458.61_6', '1486479347.85_4', '1483636861.26_6', '1484122883.92_3', '1487404654.04_8', '1492186534.34_2', '1493876183.72_2', '1483134229.53_1', '1491421469.99_7']\n"
     ]
    }
   ],
   "source": [
    "print(type(negativeCsvData))\n",
    "print(len(negativeCsvData))\n",
    "print(negativeCsvData['b827eb4e7821'])"
   ]
  },
  {
   "cell_type": "code",
   "execution_count": 257,
   "metadata": {},
   "outputs": [
    {
     "name": "stdout",
     "output_type": "stream",
     "text": [
      "b827eb4e7821\n",
      "1491211362.82\n",
      "0\n",
      "1491800203.12\n",
      "1\n",
      "1482424939.17\n",
      "2\n",
      "1498868810.69\n",
      "3\n",
      "1488993967.2\n",
      "4\n",
      "1492066899.36\n",
      "5\n",
      "1484297539.06\n",
      "6\n",
      "1490406200.26\n",
      "7\n",
      "1494789341.92\n",
      "8\n",
      "1490926970.82\n",
      "9\n",
      "1488422336.29\n",
      "10\n",
      "1488377458.61\n",
      "11\n",
      "1486479347.85\n",
      "12\n",
      "1483636861.26\n",
      "13\n",
      "1484122883.92\n",
      "14\n",
      "1487404654.04\n",
      "15\n",
      "1492186534.34\n",
      "16\n",
      "1493876183.72\n",
      "17\n",
      "1483134229.53\n",
      "18\n",
      "1491421469.99\n",
      "19\n",
      "b827eb122f0f\n",
      "1495523629.05\n",
      "20\n",
      "1480117895.75\n",
      "21\n",
      "1488292369.26\n",
      "22\n",
      "1492102763.57\n",
      "23\n",
      "1480694468.75\n",
      "24\n",
      "1493213984.51\n",
      "25\n",
      "1491487510.36\n",
      "26\n",
      "1464325406.85\n",
      "27\n",
      "1492035667.77\n",
      "28\n",
      "1488896319.7\n",
      "29\n",
      "1495720875.77\n",
      "30\n",
      "1482091712.59\n",
      "31\n",
      "1464240195.4\n",
      "32\n",
      "1479310178.0\n",
      "33\n",
      "1496909426.89\n",
      "34\n",
      "1482329266.43\n",
      "35\n",
      "1479682002.65\n",
      "36\n",
      "1479267519.49\n",
      "37\n",
      "1487318170.88\n",
      "38\n",
      "1482296730.24\n",
      "39\n",
      "b827eb1685c7\n",
      "1492046254.64\n",
      "40\n",
      "1488310935.14\n",
      "41\n",
      "1497759001.33\n",
      "42\n",
      "1495153300.1\n",
      "43\n",
      "1481478245.04\n",
      "44\n",
      "1489760860.19\n",
      "45\n",
      "1479413956.79\n",
      "46\n",
      "1481412339.02\n",
      "47\n",
      "1485885766.44\n",
      "48\n",
      "1493425976.33\n",
      "49\n",
      "1494547745.44\n",
      "50\n",
      "1497484597.2\n",
      "51\n",
      "1500126760.74\n",
      "52\n",
      "1498217189.68\n",
      "53\n",
      "1498398029.51\n",
      "54\n",
      "1482351393.66\n",
      "55\n",
      "1495905017.16\n",
      "56\n",
      "1488091729.93\n",
      "57\n",
      "1480656779.11\n",
      "58\n",
      "1486847844.97\n",
      "59\n",
      "b827eb5895e9\n",
      "1482705118.71\n",
      "60\n",
      "1492908659.59\n",
      "61\n",
      "1495794613.18\n",
      "62\n",
      "1484104702.54\n",
      "63\n",
      "1495557439.53\n",
      "64\n",
      "1499571191.92\n",
      "65\n",
      "1494814605.05\n",
      "66\n",
      "1489583804.6\n",
      "67\n",
      "1482931237.86\n",
      "68\n",
      "1482865013.77\n",
      "69\n",
      "1488039953.23\n",
      "70\n",
      "1498995372.57\n",
      "71\n",
      "1491305642.07\n",
      "72\n",
      "1484425684.32\n",
      "73\n",
      "1485100730.88\n",
      "74\n",
      "1493087495.12\n",
      "75\n",
      "1497527749.43\n",
      "76\n",
      "1493351683.17\n",
      "77\n",
      "1489591793.01\n",
      "78\n",
      "1490396078.48\n",
      "79\n",
      "b827eb429cd4\n",
      "1489705575.55\n",
      "80\n",
      "1497083157.66\n",
      "81\n",
      "1481012535.01\n",
      "82\n",
      "1493879205.95\n",
      "83\n",
      "1483698702.64\n",
      "1499515739.92\n",
      "84\n",
      "1499425146.75\n",
      "85\n",
      "1483036280.55\n",
      "86\n",
      "1493007014.82\n",
      "87\n",
      "1483139625.7\n",
      "88\n",
      "1491996575.98\n",
      "89\n",
      "1496231481.08\n",
      "90\n",
      "1479632051.31\n",
      "91\n",
      "1494549298.01\n",
      "92\n",
      "1482638594.22\n",
      "93\n",
      "1495567196.43\n",
      "94\n",
      "1491602501.38\n",
      "95\n",
      "1491921453.71\n",
      "96\n",
      "1482958508.4\n",
      "97\n",
      "1499444107.9\n",
      "98\n",
      "b827eb44506f\n",
      "1487770296.06\n",
      "99\n",
      "1499302701.64\n",
      "100\n",
      "1488641176.69\n",
      "101\n",
      "1488539365.43\n",
      "102\n",
      "1499818724.82\n",
      "103\n",
      "1485585675.18\n",
      "104\n",
      "1482368024.69\n",
      "105\n",
      "1496361356.06\n",
      "106\n",
      "1493386627.83\n",
      "107\n",
      "1492202795.5\n",
      "108\n",
      "1499134766.31\n",
      "109\n",
      "1495743301.39\n",
      "110\n",
      "1487816645.9\n",
      "111\n",
      "1499502281.6\n",
      "112\n",
      "1498701411.62\n",
      "113\n",
      "1488943479.86\n",
      "114\n",
      "1490787850.3\n",
      "115\n",
      "1499388062.29\n",
      "116\n",
      "1488151527.44\n",
      "117\n",
      "1488047436.01\n",
      "118\n",
      "b827eb815321\n",
      "1495200967.99\n",
      "119\n",
      "1484364896.42\n",
      "120\n",
      "1491770775.55\n",
      "121\n",
      "1488885560.64\n",
      "122\n",
      "1497961310.96\n",
      "123\n",
      "1488590006.99\n",
      "124\n",
      "1487299695.07\n",
      "125\n",
      "1487396419.6\n",
      "126\n",
      "1481347209.88\n",
      "127\n",
      "1485555378.33\n",
      "128\n",
      "1498506230.98\n",
      "129\n",
      "1496273425.41\n",
      "130\n",
      "1464286501.93\n",
      "131\n",
      "1498048737.89\n",
      "132\n",
      "1495039371.39\n",
      "133\n",
      "1493720709.4\n",
      "134\n",
      "1499875924.18\n",
      "135\n",
      "1481166168.31\n",
      "136\n",
      "1496539042.04\n",
      "137\n",
      "1491630422.35\n",
      "138\n",
      "b827eb86d458\n",
      "1499613017.17\n",
      "139\n",
      "1499528235.09\n",
      "140\n",
      "1491847975.78\n",
      "141\n",
      "1499731977.84\n",
      "142\n",
      "1480112906.87\n",
      "143\n",
      "1488900052.8\n",
      "144\n",
      "1482943771.26\n",
      "145\n",
      "1494187463.05\n",
      "146\n",
      "1480410212.37\n",
      "147\n",
      "1486162016.89\n",
      "148\n",
      "1495149853.94\n",
      "149\n",
      "1487458226.96\n",
      "150\n",
      "1499552726.43\n",
      "151\n",
      "1488236835.88\n",
      "152\n",
      "1484192267.86\n",
      "153\n",
      "1484296068.44\n",
      "154\n",
      "1493241027.83\n",
      "155\n",
      "1464209524.38\n",
      "156\n",
      "1487327465.82\n",
      "157\n",
      "1492279425.74\n",
      "158\n",
      "b827eb8e2420\n",
      "1497490137.97\n",
      "159\n",
      "1494590852.18\n",
      "160\n",
      "1495921446.63\n",
      "161\n",
      "1497984542.12\n",
      "162\n",
      "1497048532.47\n",
      "163\n",
      "1494850432.99\n",
      "164\n",
      "1492927028.08\n",
      "165\n",
      "1493077890.59\n",
      "166\n",
      "1490280041.15\n",
      "167\n",
      "1499192554.11\n",
      "168\n",
      "1493595378.55\n",
      "169\n",
      "1493234818.18\n",
      "170\n",
      "1495306430.93\n",
      "171\n",
      "1494567409.92\n",
      "172\n",
      "1497430997.82\n",
      "173\n",
      "1490060542.09\n",
      "174\n",
      "1490060542.09\n",
      "175\n",
      "1490060542.09\n",
      "176\n",
      "1490060542.09\n",
      "177\n",
      "1490060542.09\n",
      "178\n",
      "b827eb0d8af7\n",
      "1487698943.28\n",
      "179\n",
      "1498946997.51\n",
      "180\n",
      "1484592410.76\n",
      "181\n",
      "1486742249.47\n",
      "182\n",
      "1488716643.64\n",
      "183\n",
      "1491043468.64\n",
      "184\n",
      "1479670751.58\n",
      "185\n",
      "1489077760.73\n",
      "186\n",
      "1497563780.38\n",
      "187\n",
      "1492410662.23\n",
      "188\n",
      "1499038527.25\n",
      "189\n",
      "1495104581.09\n",
      "190\n",
      "1480373867.17\n",
      "191\n",
      "1489393416.0\n",
      "192\n",
      "1496325662.98\n",
      "193\n",
      "1484782212.37\n",
      "194\n",
      "1493388050.73\n",
      "195\n",
      "1497060279.02\n",
      "196\n",
      "1478957725.14\n",
      "197\n",
      "1497594742.92\n",
      "198\n",
      "b827eb0fedda\n",
      "1482608459.35\n",
      "199\n",
      "1491367798.51\n",
      "200\n",
      "1491648138.22\n",
      "201\n",
      "1491905562.66\n",
      "202\n",
      "1494415148.94\n",
      "203\n",
      "1482713009.16\n",
      "204\n",
      "1483089944.44\n",
      "205\n",
      "1487416206.77\n",
      "206\n",
      "1482530842.36\n",
      "207\n",
      "1479553279.5\n",
      "208\n",
      "1479748045.8\n",
      "209\n",
      "1480963111.09\n",
      "210\n",
      "1488428766.76\n",
      "211\n",
      "1488596776.32\n",
      "212\n",
      "1486446995.46\n",
      "213\n",
      "1479325108.22\n",
      "214\n",
      "1492922865.71\n",
      "215\n",
      "1494215534.17\n",
      "216\n",
      "1487464657.03\n",
      "217\n",
      "1490594229.13\n",
      "218\n",
      "b827eb2a1bce\n",
      "1485827670.09\n",
      "219\n",
      "1495659850.31\n",
      "220\n",
      "1488110454.92\n",
      "221\n",
      "1488763610.66\n",
      "222\n",
      "1496132284.56\n",
      "223\n",
      "1482011685.79\n",
      "224\n",
      "1484777443.4\n",
      "225\n",
      "1498190503.91\n",
      "226\n",
      "1498881000.86\n",
      "227\n",
      "1486342331.37\n",
      "228\n",
      "1496896033.56\n",
      "229\n",
      "1496904711.38\n",
      "230\n",
      "1493963224.14\n",
      "231\n",
      "1484557041.57\n",
      "232\n",
      "1490000398.26\n",
      "233\n",
      "1482182335.84\n",
      "234\n",
      "1482293568.4\n",
      "235\n",
      "1481075858.69\n",
      "236\n",
      "1483419342.79\n",
      "237\n",
      "1484952395.62\n",
      "238\n",
      "b827eb42bd4a\n",
      "1496584193.07\n",
      "239\n",
      "1492451796.39\n",
      "240\n",
      "1493218688.66\n",
      "241\n",
      "1492228390.03\n",
      "242\n",
      "1490604758.18\n",
      "243\n",
      "1490688206.43\n",
      "244\n",
      "1493580020.57\n",
      "245\n",
      "1488063988.26\n",
      "246\n",
      "1498488196.25\n",
      "247\n",
      "1492426725.42\n",
      "248\n",
      "1493677133.82\n",
      "249\n",
      "1495925319.59\n",
      "250\n",
      "1499090357.93\n",
      "251\n",
      "1494867086.62\n",
      "252\n",
      "1493564113.69\n",
      "253\n",
      "1492723231.0\n",
      "254\n",
      "1492278122.53\n",
      "255\n",
      "1494336954.84\n",
      "256\n",
      "1496050768.5\n",
      "257\n",
      "1492684180.92\n",
      "258\n",
      "b827ebad073b\n",
      "1481123928.9\n",
      "259\n",
      "1485559141.89\n",
      "260\n",
      "1481276857.05\n",
      "261\n",
      "1484184158.78\n",
      "262\n",
      "1495673910.82\n",
      "263\n",
      "1479150242.71\n",
      "264\n",
      "1487971162.63\n",
      "265\n",
      "1498460119.33\n",
      "266\n",
      "1492314821.66\n",
      "267\n",
      "1480817626.1\n",
      "268\n",
      "1500290776.12\n",
      "269\n",
      "1483623224.7\n",
      "270\n",
      "1484070700.58\n",
      "271\n",
      "1479152523.2\n",
      "272\n",
      "1495276586.87\n",
      "273\n",
      "1498340225.51\n",
      "274\n",
      "1498340225.51\n",
      "275\n",
      "1492870851.41\n",
      "276\n",
      "1498464532.0\n",
      "277\n",
      "1487835532.73\n",
      "278\n",
      "b827eb9bed23\n",
      "1482464662.24\n",
      "279\n",
      "1499786219.47\n",
      "280\n",
      "1491963104.37\n",
      "281\n",
      "1498802119.0\n",
      "282\n",
      "1495912027.23\n",
      "283\n",
      "1495024822.71\n",
      "284\n",
      "1492997943.91\n",
      "285\n",
      "1492312349.57\n",
      "286\n",
      "1495145824.62\n",
      "287\n",
      "1497006724.91\n",
      "288\n",
      "1482642816.37\n",
      "289\n",
      "1493320149.64\n",
      "290\n",
      "1497905384.37\n",
      "291\n",
      "1489297648.18\n",
      "292\n",
      "1500121936.51\n",
      "293\n",
      "1496026518.61\n",
      "294\n",
      "1498238952.91\n",
      "295\n",
      "1495680055.31\n",
      "296\n",
      "1499458546.46\n",
      "297\n",
      "1496413283.32\n",
      "298\n"
     ]
    }
   ],
   "source": [
    "totalNegativeEmbedding = np.empty([1,128], dtype=int)\n",
    "neg_sensors = []\n",
    "cnt = 0\n",
    "for sensorid in negativeCsvData.keys():\n",
    "    print(sensorid)\n",
    "    for timestamp in negativeCsvData[sensorid]:\n",
    "        if sensorid in alldata.keys():\n",
    "            #all_timestamp_full = negativeCsvData[sensorid]\n",
    "            #for timestamp_full in all_timestamp_full:\n",
    "            timestamp_div = timestamp.split('_')[0]\n",
    "            print (timestamp_div)\n",
    "            embedding_index = timestamp.split('_')[1]\n",
    "            if timestamp_div in alldata[sensorid]:\n",
    "                print(cnt)\n",
    "                one_negative_embedding = alldata[sensorid][timestamp_div][int(embedding_index)]\n",
    "                totalNegativeEmbedding = np.vstack((totalNegativeEmbedding, one_negative_embedding))\n",
    "                cnt = cnt+1\n",
    "                neg_sensors.append(sensorid)\n",
    "totalNegativeEmbedding =np.delete(totalNegativeEmbedding, 0, 0) # remove the first dummy 128 embedding"
   ]
  },
  {
   "cell_type": "code",
   "execution_count": 258,
   "metadata": {
    "collapsed": true
   },
   "outputs": [],
   "source": [
    "# add the negative label, 0\n",
    "negative_xy = np.insert(totalNegativeEmbedding, 128, 0, axis=1)"
   ]
  },
  {
   "cell_type": "code",
   "execution_count": 259,
   "metadata": {},
   "outputs": [
    {
     "data": {
      "text/plain": [
       "(299, 129)"
      ]
     },
     "execution_count": 259,
     "metadata": {},
     "output_type": "execute_result"
    }
   ],
   "source": [
    "negative_xy.shape"
   ]
  },
  {
   "cell_type": "code",
   "execution_count": 260,
   "metadata": {},
   "outputs": [
    {
     "data": {
      "text/plain": [
       "299"
      ]
     },
     "execution_count": 260,
     "metadata": {},
     "output_type": "execute_result"
    }
   ],
   "source": [
    "len(neg_sensors)"
   ]
  },
  {
   "cell_type": "code",
   "execution_count": 261,
   "metadata": {
    "collapsed": true
   },
   "outputs": [],
   "source": [
    "neg_sensors = np.array(neg_sensors)"
   ]
  },
  {
   "cell_type": "code",
   "execution_count": 262,
   "metadata": {
    "collapsed": true
   },
   "outputs": [],
   "source": [
    "neg_sensors = neg_sensors.reshape((-1, 1))"
   ]
  },
  {
   "cell_type": "code",
   "execution_count": 263,
   "metadata": {},
   "outputs": [
    {
     "data": {
      "text/plain": [
       "(299, 1)"
      ]
     },
     "execution_count": 263,
     "metadata": {},
     "output_type": "execute_result"
    }
   ],
   "source": [
    "neg_sensors.shape"
   ]
  },
  {
   "cell_type": "code",
   "execution_count": 264,
   "metadata": {
    "collapsed": true
   },
   "outputs": [],
   "source": [
    "negative_xy = np.concatenate((negative_xy,neg_sensors),axis=1)"
   ]
  },
  {
   "cell_type": "code",
   "execution_count": 265,
   "metadata": {},
   "outputs": [
    {
     "data": {
      "text/plain": [
       "(299, 130)"
      ]
     },
     "execution_count": 265,
     "metadata": {},
     "output_type": "execute_result"
    }
   ],
   "source": [
    "negative_xy.shape"
   ]
  },
  {
   "cell_type": "code",
   "execution_count": 266,
   "metadata": {
    "collapsed": true
   },
   "outputs": [],
   "source": [
    "totalNegativeEmbedding2 = np.empty([1,128], dtype=int)"
   ]
  },
  {
   "cell_type": "markdown",
   "metadata": {},
   "source": [
    "### 1.4.1. Get missing negative examples ##"
   ]
  },
  {
   "cell_type": "code",
   "execution_count": 267,
   "metadata": {
    "collapsed": true
   },
   "outputs": [],
   "source": [
    "#new negatives:\n",
    "#'b827eb429cd4': '1494243927.15'\n",
    "sensor_id = 'b827eb429cd4'\n",
    "time_stamp = '1494243927.15'"
   ]
  },
  {
   "cell_type": "code",
   "execution_count": 268,
   "metadata": {
    "collapsed": true
   },
   "outputs": [],
   "source": [
    "one_negative_embedding2 = alldata['b827eb429cd4']['1494243927.15'][3]\n",
    "totalNegativeEmbedding2 = np.vstack((totalNegativeEmbedding2, one_negative_embedding2))"
   ]
  },
  {
   "cell_type": "code",
   "execution_count": 269,
   "metadata": {
    "collapsed": true
   },
   "outputs": [],
   "source": [
    "totalNegativeEmbedding2 =np.delete(totalNegativeEmbedding2, 0, 0) # remove the first dummy 128 embedding"
   ]
  },
  {
   "cell_type": "code",
   "execution_count": 270,
   "metadata": {},
   "outputs": [
    {
     "data": {
      "text/plain": [
       "(1, 128)"
      ]
     },
     "execution_count": 270,
     "metadata": {},
     "output_type": "execute_result"
    }
   ],
   "source": [
    "totalNegativeEmbedding2.shape"
   ]
  },
  {
   "cell_type": "code",
   "execution_count": null,
   "metadata": {
    "collapsed": true
   },
   "outputs": [],
   "source": []
  },
  {
   "cell_type": "code",
   "execution_count": 271,
   "metadata": {
    "collapsed": true
   },
   "outputs": [],
   "source": [
    "negative_xy2 = np.insert(totalNegativeEmbedding2, 128, 0, axis=1)"
   ]
  },
  {
   "cell_type": "code",
   "execution_count": 275,
   "metadata": {},
   "outputs": [
    {
     "data": {
      "text/plain": [
       "(1, 129)"
      ]
     },
     "execution_count": 275,
     "metadata": {},
     "output_type": "execute_result"
    }
   ],
   "source": [
    "negative_xy2.shape"
   ]
  },
  {
   "cell_type": "code",
   "execution_count": 272,
   "metadata": {
    "collapsed": true
   },
   "outputs": [],
   "source": [
    "neg_sensors2 = np.array('b827eb429cd4')"
   ]
  },
  {
   "cell_type": "code",
   "execution_count": 273,
   "metadata": {
    "collapsed": true
   },
   "outputs": [],
   "source": [
    "neg_sensors2 = neg_sensors2.reshape((-1, 1))"
   ]
  },
  {
   "cell_type": "code",
   "execution_count": 274,
   "metadata": {},
   "outputs": [
    {
     "data": {
      "text/plain": [
       "(1, 1)"
      ]
     },
     "execution_count": 274,
     "metadata": {},
     "output_type": "execute_result"
    }
   ],
   "source": [
    "neg_sensors2.shape"
   ]
  },
  {
   "cell_type": "code",
   "execution_count": 276,
   "metadata": {
    "collapsed": true
   },
   "outputs": [],
   "source": [
    "negative_xy2 = np.concatenate((negative_xy2,neg_sensors2),axis=1)"
   ]
  },
  {
   "cell_type": "code",
   "execution_count": 277,
   "metadata": {},
   "outputs": [
    {
     "data": {
      "text/plain": [
       "(1, 130)"
      ]
     },
     "execution_count": 277,
     "metadata": {},
     "output_type": "execute_result"
    }
   ],
   "source": [
    "negative_xy2.shape"
   ]
  },
  {
   "cell_type": "code",
   "execution_count": 278,
   "metadata": {
    "collapsed": true
   },
   "outputs": [],
   "source": [
    "negative_xy_def = np.concatenate((negative_xy, negative_xy2))"
   ]
  },
  {
   "cell_type": "code",
   "execution_count": 279,
   "metadata": {},
   "outputs": [
    {
     "data": {
      "text/plain": [
       "(300, 130)"
      ]
     },
     "execution_count": 279,
     "metadata": {},
     "output_type": "execute_result"
    }
   ],
   "source": [
    "negative_xy_def.shape"
   ]
  },
  {
   "cell_type": "markdown",
   "metadata": {},
   "source": [
    "### 1.4.2. Put all negative examples into pickle file ###"
   ]
  },
  {
   "cell_type": "code",
   "execution_count": 280,
   "metadata": {
    "collapsed": true
   },
   "outputs": [],
   "source": [
    "with open(\"negative_xy.pickle\", 'wb') as pfile:\n",
    "    pickle.dump(negative_xy_def, pfile, protocol=pickle.HIGHEST_PROTOCOL)"
   ]
  },
  {
   "cell_type": "code",
   "execution_count": 281,
   "metadata": {
    "collapsed": true
   },
   "outputs": [],
   "source": [
    "with (open(\"negative_xy.pickle\", \"rb\")) as openfile:\n",
    "    while True:\n",
    "        try:\n",
    "            negative_xy= pickle.load(openfile)\n",
    "        except EOFError:\n",
    "            break"
   ]
  },
  {
   "cell_type": "code",
   "execution_count": 282,
   "metadata": {},
   "outputs": [
    {
     "data": {
      "text/plain": [
       "(300, 130)"
      ]
     },
     "execution_count": 282,
     "metadata": {},
     "output_type": "execute_result"
    }
   ],
   "source": [
    "negative_xy.shape"
   ]
  },
  {
   "cell_type": "code",
   "execution_count": null,
   "metadata": {
    "collapsed": true
   },
   "outputs": [],
   "source": []
  },
  {
   "cell_type": "code",
   "execution_count": null,
   "metadata": {
    "collapsed": true
   },
   "outputs": [],
   "source": []
  },
  {
   "cell_type": "code",
   "execution_count": null,
   "metadata": {
    "collapsed": true
   },
   "outputs": [],
   "source": []
  },
  {
   "cell_type": "code",
   "execution_count": null,
   "metadata": {
    "collapsed": true
   },
   "outputs": [],
   "source": []
  },
  {
   "cell_type": "code",
   "execution_count": null,
   "metadata": {
    "collapsed": true
   },
   "outputs": [],
   "source": []
  },
  {
   "cell_type": "code",
   "execution_count": null,
   "metadata": {
    "collapsed": true
   },
   "outputs": [],
   "source": []
  },
  {
   "cell_type": "code",
   "execution_count": null,
   "metadata": {
    "collapsed": true
   },
   "outputs": [],
   "source": []
  }
 ],
 "metadata": {
  "kernelspec": {
   "display_name": "active_learning",
   "language": "python",
   "name": "active_learning"
  },
  "language_info": {
   "codemirror_mode": {
    "name": "ipython",
    "version": 3
   },
   "file_extension": ".py",
   "mimetype": "text/x-python",
   "name": "python",
   "nbconvert_exporter": "python",
   "pygments_lexer": "ipython3",
   "version": "3.6.5"
  }
 },
 "nbformat": 4,
 "nbformat_minor": 2
}
                                                                                                                                                                                                                                                                                                                                                                                                                                                                                                                                                                                                                                                                                                                                                                                                                                                                                                                                                                                                                                                                                                                                                                                                                                                                                                                                                                                                                                                                                                                                                                                                                                                                                                                                                                                                                                                                                                                                                                                                                                                                                                                                                                                                                                                                                                                                                                                                                                                                                                                                                                                                                                                                                                                                                                                                                                                                                                                                                                                                                                                                                                                                                                                                                                                                                                                                                                                                                                                                                                                                                                                                                                                                                                                                                                                                                                                                                                                                                                                                                                                                                                                                                                                                                                                                                                                                                                                                                                                                                                                                                                                                                                                                                                                                                                                                                                                                                                                                                                                                                                                                                                                                                                                                                                                                                                                                                                                                                                                                                                                                                                                                                                                                                                                                                                                                                                                                                                                                                                                                                                                                                                                                                                                                                                                                                                                                                                                                                                                                                                                                                                                                                                                                                                                                                                                                                                                                                                                                                                                                                                                                                                                                                                                                                                                                                                                                                                                                                                                                                                                                                                                                                                                                                                                                                                                                                                                                                                                                                                                                                                                                                                                                                                                                                                                                                                                                                                                                                                                                                                                                                                                                                                                                                                                                                                                                                                                                                                                                                                                                                                                                                                                                                                                                                                                                                                                                                                                                                                                                                                                                                                                                                                                                                                                                                                                                                                                                                                                                                                                                                                                                                                                                                                                                                                                                                                                                                                                                                                                                                                                                                                                                                                                                                                                                                                                                                                                                                                                                                                                                                                                                                                                                                                                                                                                                                                                                                                                                                                                                                                                                                                                                                                                                                                                                                                                                                                                                                                                                                                                                                                                                                                                                                                                                                                                                                                                                                                                                                                                                                                                                                                                                                                                                                                                                                                                                                                                                                                                                                                                                                                                                                                                                                                                                                                                                                                                                                                                                                                                                                                                                                                                                                                                                                                                                                                                                                                                                                                                                                                                                                                                                                                                                                                                                                                                                                                                                                                                                                                                                                                                                                                                                                                                                                                                                                                                                                                                                                                                                                                                                                                                                                                                                                                                                                                                                                                                                                                                                                                                                                                                                                                                                                                                                                                                                                                                                                                                                                                                                                                                                                                                                                                                                                                                                                                                                                                                                                                                                                                                                                                                                                                                                                                                                                                                                                                                                                                                                                                                                                                                                                                                                                                                                                                                                                                                                                                                                                                                                                                                                                                                                                                                                                                                                                                                                                                                                                                                                                                                                                                                                                                                                                                                                                                                                                                                                                                                                                                                                                                                                                                                                                                                                                                                                                                                                                                                                                                                                                                                                                                                                                                                                                                                                                                                                                                                                                                                                                                                                                                                                                                                                                                                                                                                                                                                                                                                                                                                                                                                                                                                                                                                                                                                                                                                                                                                                                                                                                                                                                                                                                                                                                                                                                                                                                                                                                                                                                                                                                                                                                                                                                                                                                                                                                                                                                                                                                                                                                                                                                                                                                                                                                                                                                                                                                                                                                                                                                                                                                                                                                                                                                                                                                                                                                                                                                                                                                                                                                                                                                                                                                                                                                                                                                                                                                                                                                                                                                                                                                                                                                                                                                                                                                                                                                                                                                                                                                                                                                                                                                                                                                                                                                                                                                                                                                                                                                                                                                                                                                                                                                                                                                                                                                                                                                                                                                                                                                                                                                                                                                                                                                                                                                                                                                                                                                                                                                                                                                                                                                                                                                                                                                                                                                                                                                                                                                                                                                                                                                                                                                                                                                                                                                                                                                                                                                                                                                                                                                                                                                                                                                                                                                                                                                                                                                                                                                                                                                                                                                                                                                                                                                                                                                                                                                                                                                                                                                                                                                                                                                                                                                                                                                                                                                                                                                                                                                                                                                                                                                                                                                                                                                                                                                                                                                                                                                                                                                                                                                                                                                                                                                                                                                                                                                                                                                                                                                                                                                                                                                                                                                                                                                                                                                                                                                                                                                                                                                                                                                                                                                                                                                                                                                                                                                                                                                                                                                                                                                                                                                                                                                                                                                                                                                                                                                                                                                                                                                                                                                                                                                                                                                                                                                                                                                                                                                                                                                                                                                                                                                                                                                                                                                                                                                                                                                                                                                                                                                                                                                                                                                                                                                                                                                                                                                                                                                                                                                                                                                                                                                                                                                                                                                                                                                                                                                                                                                                                                                                                                                                                                                                                                                                                                                                                                                                                                                                                                                                                                                                                                                                                                                                                                                                                                                                                                                                                                                                                                                                                                                                                                                                                                                                                                                                                                                                                                                                                                                                                                                                                                                                                                                                                                                                                                                                                                                                                                                                                                                                                                                                                                                                                                                                                                                                                                                                                                                                                                                                                                                                                                                                                                                                                                                                                                                                                                                                                                                                                                                                                                                                                                                                                                                                                                                                                                                                                                                                                                                                                                                                                                                                                                                                                                                                                                                                                                                                                                                                                                                                                                                                                                                                                                                                                                                                                                                                                                                                                                                                                                                                                                                                                                                                                                                                                                                                                                                                                                                                                                                                                                                                                                                                                                                                                                                                                                                                                                                                                                                                                                                                                                                                                                                                                                                                                                                                                                                                                                                                                                                                                                                                                                                                                                                                                                                                                                                                                                                                                                                                                                                                                                                                                                                                                                                                                                                                                                                                                                                                                                                                                                                                                                                                                                                                                                                                                                                                                                                                                                                                                                                                                                                                                                                                                                                                                                                                                                                                                                                                                                                                                                                                                                                                                                                                                                                                                                                                                                                                                                                                                                                                                                                                                                                                                                                                                                                                                                                                                                                                                                                                                                                                                                                                                                                                                                                                                                                                                                                                                                                                                                                                                                                                                                                                                                                                                                                                                                                                                                                                                                                                                                                                                                                                                                                                                                                                                                                                                                                                                                                                                                                                                                                                                                                                                                                                                                                                                                                                                                                                                                                                                                                                                                                                                                                                                                                                                                                                                                                                                                                                                                                                                                                                                                                                                                                                                                                                                                                                                                                                                                                                                                                                                                                                                                                                                                                                                                                                                                                                                                                                                                                                                                                                                                                                                                                                                                                                                                                                                                                                                                                                                                                                                                                                                                                                                                                                                                                                                                                                                                                                                                                                                                                                                                                                                                                                                                                                                                                                                                                                                                                                                                                                                                                                                                                                                                                                                                                                                                                                                                                                                                                                                                                                                                                                                                                                                                                                                                                                                                                                                                                                                                                                                                                                                                                                                                                                                                                                                                                                                                                                                                                                                                                                                                                                                                                                                                                                                                                                                                                                                                                                                                                                                                                                                                                                                                                                                                                                                                                                                                                                                                                                                                                                                                                                                                                                                                                                                                                                                                                                                                                                                                                                                                                                                                                                                                                                                                                                                                                                                                                                                                                                                                                                                                                                                                                                                                                                                                                                                                                                                                                                                                                                                                                                                                                                                                                                                                                                                                                                                                                                                                                                                                                                                                                                                                                                                                                                                                                                                                                                                                                                                                                                                                                                                                                                                                                                                                                                                                                                                                                                                                                                                                                                                                                                                                                                                                                                                                                                                                                                                                                                                                                                                                                                                                                                                                                                                                                                                                                                                                                                                                                                                                                                                                                                                                                                                                                                                                                                                                                                                                                                                                                                                                                                                                                                                                                                                                                                                                                                                                                                                                                                                                                                                                                                                                                                                                                                                                                                                                                                                                                                                                                                                                                                                                                                                                                                                                                                                                                                                                                                                                                                                                                                                                                                                                                                                                                                                                                                                                                                                                                                                                                                                                                                                                                                                                                                                                                                                                                                                                                                                                                                                                                                                                                                                                                                                                                                                                                                                                                                                                                                                                                                                                                                                                                                                                                                                                                                                                                                                                                                                                                                                                                                                                                                                                                                                                                                                                                                                                                                                                                                                                                                                                                                                                                                                                                                                                                                                                                                                                                                                                                                                                                                                                                                                                                                                                                                                                                                                                                                                                                                                                                                                                                                                                                                                                                                                                                                                                                                                                                                                                                                                                                                                                                                                                                                                                                                                                                                                                                                                                                                                                                                                                                                                                                                                                                                                                                                                                                                                                                                                                                                                                                                                                                                                                                                                                                                                                                                                                                                                                                                                                                                                                                                                                                                                                                                                                                                                                                                                                                                                                                                                                                                                                                                                                                                                                                                                                                                                                                                                                                                                                                                                                                                                                                                                                                                                                                                                                                                                                                                                                                                                                                                                                                                                                                                                                                                                                                                                                                                                                                                                                                                                                                                                                                                                                                                                                                                                                                                                                                                                                                                                                                                                                                                                                                                                                                                                                                                                                                                                                                                                                                                                                                                                                                                                                                                                                                                                                                                                                                                                                                                                                                                                                                                                                                                                                                                                                                                                                                                                                                                                                                                                                                                                                                                                                                                                                                                                                                                                                                                                                                                                                                                                                                                                                                                                                                                                                                                                                                                                                                                                                                                                                                                                                                                                                                                                                                                                                                                                                                                                                                                                                                                                                                                                                                                                                                                                                                                                                                                                                                                                                                                                                                                                                                                                                                                                                                                                                                                                                                                                                                                                                                                                                                                                                                                                                                                                                                                                                                                                                                                                                                                                                                                                                                                                                                                                                                                                                                                                                                                                                                                                                                                                                                                                                                                                                                                                                                                                                                                                                                                                                                                                                                                                                                                                                                                                                                                                                                                                                                                                                                                                                                                                                                                                                                                                                                                                                                                                                                                                                                                                                                                                                                                                                                                                                                                                                                                                                                                                                                                                                                                                                                                                                                                                                                                                                                                                                                                                                                                                                                                                                                                                                                                                                                                                                                                                                                                                                                                                                                                                                                                                                                                                                                                                                                                                                                                                                                                                                                                                                                                                                                                                                                                                                                                                                                                                                                                                                                                                                                                                                                                                                                                                                                                                                                                                                                                                                                                                                                                                                                                                                                                                                                                                                                                                                                                                                                                                                                                                                                                                                                                                                                                                                                                                                                                                                                                                                                                                                                                                                                                                                                                                                                                                                                                                                                                                                                                                                                                                                                                                                                                                                                                                                                                                                                                                                                                                                                                                                                                                                                                                                                                                                                                                                                                                                                                                                                                                                                                                                                                                                                                                                                                                                                                                                                                                                                                                                                                                                                                                                                                                                                                                                                                                                                                                                                                                                                                                                                                                                                                                                                                                                                                                                                                                                                                                                                                                                                                                                                                                                                                                                                                                                                                                                                                                                                                                                                                                                                                                                                                                                                                                                                                                                                                                                                                                                                                                                                                                                                                                                                                                                                                                                                                                                                                                                                                                                                                                                                                                                                                                                                                                                                                                                                                                                                                                                                                                                                                                                                                                                                                                                                                                                                                                                                                                                                                                                                                                                                                                                                                                                                                                                                                                                                                                                                                                                                                                                                                                                                                                                                                                                                                                                                                                                                                                                                                                                                                                                                                                                                                                                                                                                                                                                                                                                                                                                                                                                                                                                                                                                                                                                                                                                                                                                                                                                                                                                                                                                                                                                                                                                                                                                                                                                                                                                                                                                                                                                                                                                                                                                                                                                                                                                                                                                                                                                                                                                                                                                                                                                                                                                                                                                                                                                                                                                                                                                                                                                                                                                                                                                                                                                                                                                                                                                                                                                                                                                                                                                                                                                                                                                                                                                                                                                                                                                                                                                                                                                                                                                                                                                                                                                                                                                                                                                                                                                                                                                                                                                                                                                                                                                                                                                                                                                                                                                                                                                                                                                                                                                                                                                                                                                                                                                                                                                                                                                                                                                                                                                                                                                                                                                                                                                                                                                                                                                                                                                                                                                                                                                                                                                                                                                                                                                                                                                                                                                                                                                                                                                                                                                                                                                                                                                                                                                                                                                                                                                                                                                                                                                                                                                                                                                                                                                                                                                                                                                                                                                                                                                                                                                                                                                                                                                                                                                                                                                                                                                                                                                                                                                                                                                                                                                                                                                                                                                                                                                                                                                                                                                                                                                                                                                                                                                                                                                                                                                                                                                                                                                                                                                                                                                                                                                                                                                                                                                                                                                                                                                                                                                                                                                                                                                                                                                                                                                                                                                                                                                                                                                                                                                                                                                                                                                                                                                                                                                                                                                                                                                                                                                                                                                                                                                                                                                                                                                                                                                                                                                                                                                                                                                                                                                                                                                                                                                                                                                                                                                                                                                                                                                                                                                                                                                                                                                                                                                                                                                                                                                                                                                                                                                                                                                                                                                                                                                                                                                                                                                                                                                                                                                                                                                                                                                                                                                                                                                                                                                                                                                                                                                                                                                                                                                                                                                                                                                                                                                                                                                                                                                                                                                                                                                                                                                                                                                                                                                                                                                                                                                                                                                                                                                                                                                                                                                                                                                                                                                                                                                                                                                                                                                                                                                                                                                                                                                                                                                                                                                                                                                                                                                                                                                                                                                                                                                                                                                                                                                                                                                                                                                                                                                                                                                                                                                                                                                                                                                                                                                                                                                                                                                                                                                                                                                                                                                                                                                                                                                                                                                                                                                                                                                                                                                                                                                                                                                                                                                                                                                                                                                                                                                                                                                                                                                                                                                                                                                                                                                                                                                                                                                                                                                                                                                                                                                                                                                                                                                                                                                                                                                                                                                                                                                                                                                                                                                                                                                                                                                                                                                                                                                                                                                                                                                                                                                                                                                                                                                                                                                                                                                                                                                                                                                                                                                                                                                                                                                                                                                                                                                                                                                                                                                                                                                                                                                                                                                                                                                                                                                                                                                                                                                                                                                                                                                                                                                                                                                                                                                                                                                                                                                                                                                                                                                                                                                                                                                                                                                                                                                                                                                                                                                                                                                                                                                                                                                                                                                                                                                                                                                                                                                                                                                                                                                                                                                                                                                                                                                                                                                                                                                                                                                                                                                                                                                                                                                                                                                                                                                                                                                                                                                                                                                                                                                                                                                                                                                                                                                                                                                                                                                                                                                                                                                                                                                                                                                                                                                                                                                                                                                                                                                                                                                                                                                                                                                                                                                                                                                                                                                                                                                                                                                                                                                                                                                                                                                                                                                                                                                                                                                                                                                                                                                                                                                                                                                                                                                                                                                                                                                                                                                                                                                                                                                                                                                                                                                                                                                                                                                                                                                                                                                                                                                                                                                                                                                                                                                                                                                                                                                                                                                                                                                                                                                                                                                                                                                                                                                                                                                                                                                                                                                                                                                                                                                                                                                                                                                                                                                                                                                                                                                                                                                                                                                                                                                                                                                                                                                                                                                                                                                                                                                                                                                                                                                                                                                                                                                                                                                                                                                                                                                                                                                                                                                                                                                                                                                                                                                                                                                                                                                                                                                                                                                                                                                                                                                                                                                                                                                                                                                                                                                                                                                                                                                                                                                                                                                                                                                                                                                                                                                                                                                                                                                                                                                                                                                                                                                                                                                                                                                                                                                                                                                                                                                                                                                                                                                                                                                                                                                                                                                                                                                                                                                                                                                                                                                                                                                                                                                                                                                                                                                                                                                                                                                                                                                                                                                                                                                                                                                                                                                                                                                                                                                                                                                                                                                                                                                                                                                                                                                                                                                                                                                                                                                                                                                                                                                                                                                                                                                                                                                                                                                                                                                                                                                                                                                                                                                                                                                                                                                                                                                                                                                                                                                                                                                                                                                                                                                                                                                                                                                                                                                                                                                                                                                                                                                                                                                                                                                                                                                                                                                                                                                                                                                                                                                                                                                                                                                                                                                                                                                                                                                                                                                                                                                                                                                                                                                                                                                                                                                                                                                                                                                                                                                                                                                                                                                                                                                                                                                                                                                                                                                                                                                                                                                                                                                                                                                                                                                                                                                                                                                                                                                                                                                                                                                                                                                                                                                                                                                                                                                                                                                                                                                                                                                                                                                                                                                                                                                                                                                                                                                                                                                                                                                                                                                                                                                                                                                                                                                                                                                                                                                                                                                                                                                                                                                                                                                                                                                                                                                                                                                                                                                                                                                                                                                                                                                                                                                                                                                                                                                                                                                                                                                                                                                                                                                                                                                                                                                                                                                                                                                                                                                                                                                                                                                                                                                                                                                                                                                                                                                                                                                                                                                                                                                                                                                                                                                                                                                                                                                                                                                                                                                                                                                                                                                                                                                                                                                                                                                                                                                                                                                                                                                                                                                                                                                                                                                                                                                                                                                                                                                                                                                                                                                                                                                                                                                                                                                                                                                                                                                                                                                                                                                                                                                                                                                                                                                                                                                                                                                                                                                                                                                                                                                                                                                                                                                                                                                                                                                                                                                                                                                                                                                                                                                                                                                                                                                                                                                                                                                                                                                                                                                                                                                                                                                                                                                                                                                                                                                                                                                                                                                                                                                                                                                                                                                                                                                                                                                                                                                                                                                                                                                                                                                                                                                                                                                                                                                                                                                                                                                                                                                                                                                                                                                                                                                                                                                                                                                                                                                                                                                                                                                                                                                                                                                                                                                                                                                                                                                                                                                                                                                                                                                                                                                                                                                                                                                                                                                                                                                                                                                                                                                                                                                                                                                                                                                                                                                                                                                                                                                                                                                                                                                                                                                                                                                                                                                                                                                                                                                                                                                                                                                                                                                                                                                                                                                                                                                                                                                                                                                                                                                                                                                                                                                                                                                                                                                                                                                                                                                                                                                                                                                                                                                                                                                                                                                                                                                                                                                                                                                                                                                                                                                                                                                                                                                                                                                                                                                                                                                                                                                                                                                                                                                                                                                                                                                                                                                                                                                                                                                                                                                                                                                                                                                                                                                                                                                                                                                                                                                                                                                                                                                                                                                                                                                                                                                                                                                                                                                                                                                                                                                                                                                                                                                                                                                                                                                                                                                                                                                                                                                                                                                                                                                                                                                                                                                                                                                                                                                                                                                                                                                                                                                                                                                                                                                                                                                                                                                                                                                                                                                                                                                                                                                                                                                                                                                                                                                                                                                                                                                                                                                                                                                                                                                                                                                                                                                                                                                                                                                                                                                                                                                                                                                                                                                                                                                                                                                                                                                                                                                                                                                                                                                                                                                                                                                                                                                                                                                                                                                                                                                                                                                                                                                                                                                                                                                                                                                                                                                                                                                                                                                                                                                                                                                                                                                                                                                                                                                                                                                                                                                                                                                                                                                                                                                                                                                                                                                                                                                                                                                                                                                                                                                                                                                                                                                                                                                                                                                                                                                                                                                                                                                                                                                                                                                                                                                                                                                                                                                                                                                                                                                                                                                                                                                                                                                                                                                                                                                                                                                                                                                                                                                                                                                                                                                                                                                                                                                                                                                                                                                                                                                                                                                                                                                                                                                                                                                                                                                                                                                                                                                                                                                                                                                                                                                                                                                                                                                                                                                                                                                                                                                                                                                                                                                                                                                                                                                                                                                                                                                                                                                                                                                                                                                                                                                                                                                                                                                                                                                                                                                                                                                                                                                                                                                                                                                                                                                                                                                                                                                                                                                                                                                                                                                                                                                                                                                                                                                                                                                                                                                                                                                                                                                                                                                                                                                                                                                                                                                                                                                                                                                                                                                                                                                                                                                                                                                                                                                                                                                                                                                                                                                                                                                                                                                                                                                                                                                                                                                                                                                                                                                                                                                                                                                                                                                                                                                                                                                                                                                                                                                                                                                                                                                                                                                                                                                                                                                                                                                                                                                                                                                                                                                                                                                                                                                                                                                                                                                                                                                                                                                                                                                                                                                                                                                                                                                                                                                                                                                                                                                                                                                                                                                                                                                                                                                                                                                                                                                                                                                                                                                                                                                                                                                                                                                                                                                                                                                                                                                                                                                                                                                                                                                                                                                                                                                                                                                                                                                                                                                                                                                                                                                                                                                                                                                                                                                                                                                                                                                                                                                                                                                                                                                                                                                                                                                                                                                                                                                                                                                                                                                                                                                                                                                                                                                                                                                                                                                                                                                                                                                                                                                                                                                                                                                                                                                                                                                                                                                                                                                                                                                                                                                                                                                                                                                                                                                                                                                                                                                                                                                                                                                                                                                                                                                                                                                                                                                                                                                                                                                                                                                                                                                                                                                                                                                                                                                                                                                                                                                                                                                                                                                                                                                                                                                                                                                                                                                                                                                                                                                                                                                                                                                                                                                                                                                                                                                                                                                                                                                                                                                                                                                                                                                                                                                                                                                                                                                                                                                                                                                                                                                                                                                                                                                                                                                                                                                                                                                                                                                                                                                                                                                                                                                                                                                                                                                                                                                                                                                                                                                                                                                                                                                                                                                                                                                                                                                                                                                                                                                                                                                                                                                                                                                                                                                                                                                                                                                                                                                                                                                                                                                                                                                                                                                                                                                                                                                                                                                                                                                                                                                                                                                                                                                                                                                                                                                                                                                                                                                                                                                                                                                                                                                                                                                                                                                                                                                                                                                                                                                                                                                                                                                                                                                                                                                                                                                                                                                                                                                                                                                                                                                                                                                                                                                                                                                                                                                                                                                                                                                                                                                                                                                                                                                                                                                                                                                                                                                                                                                                                                                                                                                                                                                                                                                                                                                                                                                                                                                                                                                                                                                                                                                                                                                                                                                                                                                                                                                                                                                                                                                                                                                                                                                                                                                                                                                                                                                                                                                                                                                                                                                                                                                                                                                                                                                                                                                                                                                                                                                                                                                                                                                                                                                                                                                                                                                                                                                                                                                                                                                                                                                                                                                                                                                                                                                                                                                                                                                                                                                                                                                                                                                                                                                                                                                                                                                                                                                                                                                                                                                                                                                                                                                                                                                                                                                                                                                                                                                                                                                                                                                                                                                                                                                                                                                                                                                                                                                                                                                                                                                                                                                                                                                                                                                                                                                                                                                                                                                                                                                                                                                                                                                                                                                                                                                                                                                                                                                                                                                                                                                                                                                                                                                                                                                                                                                                                                                                                                                                                                                                                                                                                                                                                                                                                                                                                                                                                                                                                                                                                                                                                                                                                                                                                                                                                                                                                                                                                                                                                                                                                                                                                                                                                                                                                                                                                                                                                                                                                                                                                                                                                                                                                                                                                                                                                                                                                                                                                                                                                                                                                                                                                                                                                                                                                                                                                                                                                                                                                                                                                                                                                                                                                                                                                                                                                                                                                                                                                                                                                                                                                                                                                                                                                                                                                                                                                                                                                                                                                                                                                                                                                                                                                                                                                                                                                                                                                                                                                                                                                                                                                                                                                                                                                                                                                                                                                                                                                                                                                                                                                                                                                                                                                                                                                                                                                                                                                                                                                                                                                                                                                                                                                                                                                                                                                                                                                                                                                                                                                                                                                                                                                                                                                                                                                                                                                                                                                                                                                                                                                                                                                                                                                                                                                                                                                                                                                                                                                                                                                                                                                                                                                                                                                                                                                                                                                                                                                                                                                                                                                                                                                                                                                                                                                                                                                                                                                                                                                                                                                                                                                                                                                                                                                                                                                                                                                                                                                                                                                                                                                                                                                                                                                                                                                                                                                                                                                                                                                                                                                                                                                                                                                                                                                                                                                                                                                                                                                                                                                                                                                                                                                                                                                                                                                                                                                                                                                                                                                                                                                                                                                                                                                                                                                                                                                                                                                                                                                                                                                                                                                                                                                                                                                                                                                                                                                                                                                                                                                                                                                                                                                                                                                                                                                                                                                                                                                                                                                                                                                                                                                                                                                                                                                                                                                                                                                                                                                                                                                                                                                                                                                                                                                                                                                                                                                                                                                                                                                                                                                                                                                                                                                                                                                                                                                                                                                                                                                                                                                                                                                                                                                                                                                                                                                                                                                                                                                                                                                                                                                                                                                                                                                                                                                                                                                                                                                                                                                                                                                                                                                                                                                                                                                                                                                                                                                                                                                                                                                                                                                                                                                                                                                                                                                                                                                                                                                                                                                                                                                                                                                                                                                                                                                                                                                                                                                                                                                                                                                                                                                                                                                                                                                                                                                                                                                                                                                                                                                                                                                                                                                                                                                                                                                                                                                                                                                                                                                                                                                                                                                                                                                                                                                                                                                                                                                                                                                                                                                                                                                                                                                                                                                                                                                                                                                                                                                                                                                                                                                                                                                                                                                                                                                                                                                                                                                                                                                                                                                                                                                                                                                                                                                                                                                                                                                                                                                                                                                                                                                                                                                                                                                                                                                                                                                                                                                                                                                                                                                                                                                                                                                                                                                                                                                                                                                                                                                                                                                                                                                                                                                                                                                                                                                                                                                                                                                                                                                                                                                                                                                                                                                                                                                                                                                                                                                                                                                                                                                                                                                                                                                                                                                                                                                                                                                                                                                                                                                                                                                                                                                                                                                                                                                                                                                                                                                                                                                                                                                                                                                                                                                                                                                                                                                                                                                                                                                                                                                                                                                                                                                                                                                                                                                                                                                                                                                                                                                                                                                                                                                                                                                                                                                                                                                                                                                                                                                                                                                                                                                                                                                                                                                                                                                                                                                                                                                                                                                                                                                                                                                                                                                                                                                                                                                                                                                                                                                                                                                                                                                                                                                                                                                                                                                                                                                                                                                                                                                                                                                                                                                                                                                                                                                                                                                                                                                                                                                                                                                                                                                                                                                                                                                                                                                                                                                                                                                                                                                                                                                                                                                                                                                                                                                                                                                                                                                                                                                                                                                                                                                                                                                                                                                                                                                                                                                                                                                                                                                                                                                                                                                                                                                                                                                                                                                                                                                                                                                                                                                                                                                                                                                                                                                                                                                                                                                                                                                                                                                                                                                                                                                                                                                                                                                                                                                                                                                                                                                                                                                                                                                                                                                                                                                                                                                                                                                                                                                                                                                                                                                                                                                                                                                                                                                                                                                                                                                                                                                                                                                                                                                                                                                                                                                                                                                                                                                                                                                                                                                                                                                                                                                                                                                                                                                                                                                                                                                                                                                                                                                                                                                                                                                                                                                                                                                                                                                                                                                                                                                                                                                                                                                                                                                                                                                                                                                                                                                                                                                                                                                                                                                                                                                                                                                                                                                                                                                                                                                                                                                                                                                                                                                                                                                                                                                                                                                                                                                                                                                                                                                                                                                                                                                                                                                                                                                                                                                                                                                                                                                                                                                                                                                                                                                                                                                                                                                                                                                                                                                                                                                                                                                                                                                                                                                                                                                                                                                                                                                                                                                                                                                                                                                                                                                                                                                                                                                                                                                                                                                                                                                                                                                                                                                                                                                                                                                                                                                                                                                                                                                                                                                                                                                                                                                                                                                                                                                                                                                                                                                                                                                                                                                                                                                                                                                                                                                                                                                                                                                                                                                                                                                                                                                                                                                                                                                                                                                                                                                                                                                                                                                                                                                                                                                                                                                                                                                                                                                                                                                                                                                                                                                                                                                                                                                                                                                                                                                                                                                                                                                                                                                                                                                                                                                                                                                                                                                                                                                                                                                                                                                                                                                                                                                                                                                                                                                                                                                                                                                                                                                                                                                                                                                                                                                                                                                                                                                                                                                                                                                                                                                                                                                                                                                                                                                                                                                                                                                                                                                                                                                                                                                                                                                                                                                                                                                                                                                                                                                                                                                                                                                                                                                                                                                                                                                                                                                                                                                                                                                                                                                                                                                                                                                                                                                                                                                                                                                                                                                                                                                                                                                                                                                                                                                                                                                                                                                                                                                                                                                                                                                                                                                                                                                                                                                                                                                                                                                                                                                                                                                                                                                                                                                                                                                                                                                                                                                                                                                                                                                                                                                                                                                                                                                                                                                                                                                                                                                                                                                                                                                                                                                                                                                                                                                                                                                                                                                                                                                                                                                                                                                                                                                                                                                                                                                                                                                                                                                                                                                                                                                                                                                                                                                                                                                                                                                                                                                                                                                                                                                                                                                                                                                                                                                                                                                                                                                                                                                                                                                                                                                                                                                                                                                                                                                                                                                                                                                                                                                                                                                                                                                                                                                                                                                                                                                                                                                                                                                                                                                                                                                                                                                                                                                                                                                                                                                                                                                                                                                                                                                                                                                                                                                                                                                                                                                                                                                                                                                                                                                                                                                                                                                                                                                                                                                                                                                                                                                                                                                                                                                                                                                                                                                                                                                                                                                                                                                                                                                                                                                                                                                                                                                                                                                                                                                                                                                                                                                                                                                                                                                                                                                                                                                                                                                                                                                                                                                                                                                                                                                                                                                                                                                                                                                                                                                                                                                                                                                                                                                                                                                                                                                                                                                                                                                                                                                                                                                                                                                                                                                                                                                                                                                                                                                                                                                                                                                                                                                                                                                                                                                                                                                                                                                                                                                                                                                                                                                                                                                                                                                                                                                                                                                                                                                                                                                                                                                                                                                                                                                                                                                                                                                                                                                                                                                                                                                                                                                                                                                                                                                                                                                                                                                                                                                                                                                                                                                                                                                                                                                                                                                                                                                                                                                                                                                                                                                                                                                                                                                                                                                                                                                                                                                                                                                                                                                                                                                                                                                                                                                                                                                                                                                                                                                                                                                                                                                                                                                                                                                                                                                                                                                                                                                                                                                                                                                                                                                                                                                                                                                                                                                                                                                                                                                                                                                                                                                                                                                                                                                                                                                                                                                                                                                                                                                                                                                                                                                                                                                                                                                                                                                                                                                                                                                                                                                                                                                                                                                                                                                                                                                                                                                                                                                                                                                                                                                                                                                                                                                                                                                                                                                                                                                                                                                                                                                                                                                                                                                                                                                                                                                                                                                                                                                                                                                                                                                                                                                                                                                                                                                                                                                                                                                                                                                                                                                                                                                                                                                                                                                                                                                                                                                                                                                                                                                                                                                                                                                                                                                                                                                                                                                                                                                                                                                                                                                                                                                                                                                                                                                                                                                                                                                                                                                                                                                                                                                                                                                                                                                                                                                                                                                                                                                                                                                                                                                                                                                                                                                                                                                                                                                                                                                                                                                                                                                                                                                                                                                                                                                                                                                                                                                                                                                                                                                                                                                                                                                                                                                                                                                                                                                                                                                                                                                                                                                                                                                                                                                                                                                                                                                                                                                                                                                                                                                                                                                                                                                                                                                                                                                                                                                                                                                                                                                                                                                                                                                                                                                                                                                                                                                                                                                                                                                                                                                                                                                                                                                                                                                                                                                                                                                                                                                                                                                                                                                                                                                                                                                                                                                                                                                                                                                                                                                                                                                                                                                                                                                                                                                                                                                                                                                                                                                                                                                                                                                                                                                                                                                                                                                                                                                                                                                                                                                                                                                                                                                                                                                                                                                                                                                                                                                                                                                                                                                                                                                                                                                                                                                                                                                                                                                                                                                                                                                                                                                                                                                                                                                                                                                                                                                                                                                                                                                                                                                                                                                                                                                                                                                                                                                                                                                                                                                                                                                                                                                                                                                                                                                                                                                                                                                                                                                                                                                                                                                                                                                                                                                                                                                                                                                                                                                                                                                                                                                                                                                                                                                                                                                                                                                                                                                                                                                                                                                                                                                                                                                                                                                                                                                                                                                                                                                                                                                                                                                                                                                                                                                                                                                                                                                                                                                                                                                                                                                                                                                                                                                                                               