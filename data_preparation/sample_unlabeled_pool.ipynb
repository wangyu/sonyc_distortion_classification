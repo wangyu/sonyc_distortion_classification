{
 "cells": [
  {
   "cell_type": "code",
   "execution_count": 2,
   "metadata": {},
   "outputs": [],
   "source": [
    "from modAL.models import ActiveLearner\n",
    "from sklearn.ensemble import RandomForestClassifier\n",
    "import numpy as np\n",
    "import h5py\n",
    "import pickle\n",
    "from sklearn.ensemble import RandomForestClassifier\n",
    "import random"
   ]
  },
  {
   "cell_type": "markdown",
   "metadata": {},
   "source": [
    "## Sample unlabeled pool"
   ]
  },
  {
   "cell_type": "code",
   "execution_count": 3,
   "metadata": {},
   "outputs": [],
   "source": [
    "features = h5py.File('/scratch/yw3004/sonyc/sonyc_distortion_classification/_old_features.h5', 'r')\n",
    "d_features = list(features.values())[0]"
   ]
  },
  {
   "cell_type": "code",
   "execution_count": 4,
   "metadata": {},
   "outputs": [
    {
     "data": {
      "text/plain": [
       "dtype([('path', 'S96'), ('identifier', 'S32'), ('features_z', 'u1', (10, 128))])"
      ]
     },
     "execution_count": 4,
     "metadata": {},
     "output_type": "execute_result"
    }
   ],
   "source": [
    "d_features.dtype"
   ]
  },
  {
   "cell_type": "code",
   "execution_count": 5,
   "metadata": {},
   "outputs": [
    {
     "data": {
      "text/plain": [
       "(2556319,)"
      ]
     },
     "execution_count": 5,
     "metadata": {},
     "output_type": "execute_result"
    }
   ],
   "source": [
    "d_features.shape"
   ]
  },
  {
   "cell_type": "code",
   "execution_count": 8,
   "metadata": {},
   "outputs": [
    {
     "data": {
      "text/plain": [
       "b'74da385c6855-1484629333.39'"
      ]
     },
     "execution_count": 8,
     "metadata": {},
     "output_type": "execute_result"
    }
   ],
   "source": [
    "d_features[0]['identifier']"
   ]
  },
  {
   "cell_type": "code",
   "execution_count": 11,
   "metadata": {},
   "outputs": [],
   "source": [
    "frames = h5py.File('/scratch/yw3004/sonyc/sonyc_distortion_classification/clusters_frames.hdf5', 'r')\n",
    "d_frames = list(frames.values())[0]"
   ]
  },
  {
   "cell_type": "code",
   "execution_count": 118,
   "metadata": {},
   "outputs": [
    {
     "data": {
      "text/plain": [
       "dtype([('assignment', '<u4'), ('frame', 'u1'), ('sensor_id', 'S32'), ('timestamp', '<f8')])"
      ]
     },
     "execution_count": 118,
     "metadata": {},
     "output_type": "execute_result"
    }
   ],
   "source": [
    "d_frames.dtype"
   ]
  },
  {
   "cell_type": "code",
   "execution_count": 12,
   "metadata": {},
   "outputs": [
    {
     "data": {
      "text/plain": [
       "(25563190,)"
      ]
     },
     "execution_count": 12,
     "metadata": {},
     "output_type": "execute_result"
    }
   ],
   "source": [
    "d_frames['frame'].shape"
   ]
  },
  {
   "cell_type": "code",
   "execution_count": 13,
   "metadata": {},
   "outputs": [],
   "source": [
    "positive_clusters = [9,11,24,25,40,49,52,60,61,75,78,94,95,106,107,124,129]"
   ]
  },
  {
   "cell_type": "code",
   "execution_count": 66,
   "metadata": {},
   "outputs": [],
   "source": [
    "def build_pool(num_samples):\n",
    "    #initiate arrays, first 128 dimension: VGG, followed bt sensor id, timestamp, frame\n",
    "    positive_pool = np.empty([num_samples//2, 132], dtype=object)\n",
    "    negative_pool = np.empty([num_samples//2, 132], dtype=object)\n",
    "    \n",
    "    positive_samples = 0\n",
    "    negative_samples = 0\n",
    "    \n",
    "    #generate random index sequence\n",
    "    idx = list(range(len(d_frames)))\n",
    "    random.shuffle(idx)\n",
    "    \n",
    "    for ind in idx:\n",
    "        #if got enough samples, stop the loop\n",
    "        if negative_samples ==  positive_samples == num_samples//2:\n",
    "            break\n",
    "            \n",
    "        #check not in test sensors list\n",
    "        sensor_id = d_frames[ind]['sensor_id'].decode('UTF-8')\n",
    "        if sensor_id not in test_sensors:\n",
    "            \n",
    "            #if assigned to negative clusters, add to negative samples\n",
    "            if d_frames[ind]['assignment'] not in positive_clusters and negative_samples < num_samples//2:\n",
    "                timestamp = d_frames[ind]['timestamp']\n",
    "                frame = d_frames[ind]['frame']\n",
    "                \n",
    "                #check if it is in d_features\n",
    "                identifier = (sensor_id+'_'+str(timestamp)).encode('UTF-8')\n",
    "                where_in_dfeatures = np.where(d_features['identifier'] == identifier)\n",
    "                if where_in_dfeatures[0].shape[0] == 1:\n",
    "                    #update negative pool\n",
    "                    negative_pool[negative_samples][:128] = d_features[where_in_dfeatures[0][0]]['features_z'][frame]\n",
    "                    negative_pool[negative_samples][128] = sensor_id\n",
    "                    negative_pool[negative_samples][129] = timestamp\n",
    "                    negative_pool[negative_samples][130] = frame\n",
    "                    \n",
    "                    feature_path = d_features[where_in_dfeatures[0][0]]['path'].decode('UTF-8')\n",
    "                    decrypt_path = os.path.join(audio_path, os.path.split(os.path.dirname(feature_path))[-1], \n",
    "                                               os.path.splitext(feature_path)[0]+'.tar')\n",
    "                    negative_pool[negative_samples][131] = decrypt_path\n",
    "                    negative_samples+=1\n",
    "       \n",
    "            #if assigned to positive clusters, add to positive samples\n",
    "            elif d_frames[ind]['assignment'] in positive_clusters and positive_samples < num_samples//2:\n",
    "                timestamp = d_frames[ind]['timestamp']\n",
    "                frame = d_frames[ind]['frame']\n",
    "            \n",
    "                #check if it is in d_features\n",
    "                identifier = (sensor_id+'_'+str(timestamp)).encode('UTF-8')\n",
    "                where_in_dfeatures = np.where(d_features['identifier'] == identifier)\n",
    "                if where_in_dfeatures[0].shape[0] == 1:\n",
    "                    #update positive pool\n",
    "                    positive_pool[positive_samples][:128] = d_features[where_in_dfeatures[0][0]]['features_z'][frame]\n",
    "                    positive_pool[positive_samples][128] = sensor_id\n",
    "                    positive_pool[positive_samples][129] = timestamp\n",
    "                    positive_pool[positive_samples][130] = frame\n",
    "                    \n",
    "                    feature_path = d_features[where_in_dfeatures[0][0]]['path'].decode('UTF-8')\n",
    "                    decrypt_path = os.path.join(audio_path, os.path.split(os.path.dirname(feature_path))[-1],\n",
    "                                               os.path.splitext(feature_path)[0]+'.tar')\n",
    "                    positive_pool[positive_samples][131] = decrypt_path\n",
    "                    positive_samples+=1\n",
    "                    \n",
    "    X_pool = np.concatenate((positive_pool, negative_pool),axis=0)\n",
    "            \n",
    "    return X_pool"
   ]
  },
  {
   "cell_type": "code",
   "execution_count": 67,
   "metadata": {},
   "outputs": [],
   "source": [
    "X_pool= build_pool(100000)"
   ]
  },
  {
   "cell_type": "code",
   "execution_count": null,
   "metadata": {},
   "outputs": [],
   "source": [
    "with open('/scratch/yw3004/sonyc/sonyc_distortion_classification/data/X_pool_100000_new.pickle', 'wb') as handle:\n",
    "    pickle.dump(X_pool, handle, protocol=pickle.HIGHEST_PROTOCOL)"
   ]
  }
 ],
 "metadata": {
  "kernelspec": {
   "display_name": "active_learning",
   "language": "python",
   "name": "active_learning"
  },
  "language_info": {
   "codemirror_mode": {
    "name": "ipython",
    "version": 3
   },
   "file_extension": ".py",
   "mimetype": "text/x-python",
   "name": "python",
   "nbconvert_exporter": "python",
   "pygments_lexer": "ipython3",
   "version": "3.6.5"
  }
 },
 "nbformat": 4,
 "nbformat_minor": 2
}
